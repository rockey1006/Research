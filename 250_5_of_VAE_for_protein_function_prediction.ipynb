{
  "nbformat": 4,
  "nbformat_minor": 0,
  "metadata": {
    "colab": {
      "name": "250_5 of VAE_for_protein_function_prediction.ipynb",
      "version": "0.3.2",
      "provenance": [],
      "include_colab_link": true
    },
    "kernelspec": {
      "name": "python3",
      "display_name": "Python 3"
    },
    "accelerator": "GPU"
  },
  "cells": [
    {
      "cell_type": "markdown",
      "metadata": {
        "id": "view-in-github",
        "colab_type": "text"
      },
      "source": [
        "<a href=\"https://colab.research.google.com/github/rockey1006/Research/blob/master/250_5_of_VAE_for_protein_function_prediction.ipynb\" target=\"_parent\"><img src=\"https://colab.research.google.com/assets/colab-badge.svg\" alt=\"Open In Colab\"/></a>"
      ]
    },
    {
      "metadata": {
        "id": "EK7SBvy7uBDk",
        "colab_type": "code",
        "colab": {}
      },
      "cell_type": "code",
      "source": [
        "# Generic imports\n",
        "from __future__ import print_function\n",
        "%matplotlib inline\n",
        "import matplotlib.pyplot as plt\n",
        "import numpy as np\n",
        "import pandas as pd\n",
        "import math,random,re\n",
        "import time"
      ],
      "execution_count": 0,
      "outputs": []
    },
    {
      "metadata": {
        "id": "qrs3L7kMuBDo",
        "colab_type": "code",
        "outputId": "dbd3981f-110d-4437-aee7-c336ba4c2346",
        "colab": {
          "base_uri": "https://localhost:8080/",
          "height": 34
        }
      },
      "cell_type": "code",
      "source": [
        "#Machine learning/Stats imports \n",
        "from scipy.stats import norm\n",
        "from scipy.stats import spearmanr,pearsonr\n",
        "from sklearn.preprocessing import normalize\n",
        "import tensorflow as tf\n",
        "import keras\n",
        "from keras.layers import Input, Dense\n",
        "from keras.models import Model\n",
        "from keras import regularizers\n",
        "from keras.layers import LSTM, RepeatVector\n",
        "from keras.layers import Input, Dense, Lambda, Dropout,Activation, TimeDistributed\n",
        "from keras import backend as K\n",
        "from keras import objectives\n",
        "from keras.callbacks import EarlyStopping\n",
        "from keras.layers.normalization import BatchNormalization\n",
        "from keras import regularizers"
      ],
      "execution_count": 0,
      "outputs": [
        {
          "output_type": "stream",
          "text": [
            "Using TensorFlow backend.\n"
          ],
          "name": "stderr"
        }
      ]
    },
    {
      "metadata": {
        "id": "3lCFAxvRuBDu",
        "colab_type": "text"
      },
      "cell_type": "markdown",
      "source": [
        "## 1.  Data pre-processing\n",
        "\n",
        "Defining the alphabet that is used for Amino-Acids throughout."
      ]
    },
    {
      "metadata": {
        "id": "Oqw5QPr4uBDx",
        "colab_type": "code",
        "colab": {}
      },
      "cell_type": "code",
      "source": [
        "#Invariants\n",
        "ORDER_KEY=\"XILVAGMFYWEDQNHCRKSTPBZ-\"[::-1]\n",
        "ORDER_LIST=list(ORDER_KEY)"
      ],
      "execution_count": 0,
      "outputs": []
    },
    {
      "metadata": {
        "id": "4siWJ6oBuBD0",
        "colab_type": "text"
      },
      "cell_type": "markdown",
      "source": [
        "These are helper functions to clean and process data. "
      ]
    },
    {
      "metadata": {
        "id": "XYsed7lUuBD1",
        "colab_type": "code",
        "colab": {}
      },
      "cell_type": "code",
      "source": [
        "%reload_ext autoreload\n",
        "%autoreload 1\n",
        "from helper_tools import *\n",
        "from helper_tools_for_plotting import *"
      ],
      "execution_count": 0,
      "outputs": []
    },
    {
      "metadata": {
        "id": "9lNxWWzUuBD4",
        "colab_type": "text"
      },
      "cell_type": "markdown",
      "source": [
        "Import the alignment data:"
      ]
    },
    {
      "metadata": {
        "id": "4VAFfMvXuBD-",
        "colab_type": "text"
      },
      "cell_type": "markdown",
      "source": [
        "Let's see how long the sequence is"
      ]
    },
    {
      "metadata": {
        "scrolled": true,
        "id": "7TnbSXv5uBD5",
        "colab_type": "code",
        "outputId": "0db2397c-4d2b-4c64-ed90-8eff6cb4672a",
        "colab": {
          "base_uri": "https://localhost:8080/",
          "height": 221
        }
      },
      "cell_type": "code",
      "source": [
        "data=pdataframe_from_alignment_file(\"PABP_YEAST_hmmerbit_plmc_n5_m30_f50_t0.2_r115-210_id100_b48.a2m\",50000)\n",
        "print (\"number of data points: \",len(data))\n",
        "data_set_size=len(data)\n",
        "data.head()"
      ],
      "execution_count": 0,
      "outputs": [
        {
          "output_type": "stream",
          "text": [
            "number of data points:  50000\n"
          ],
          "name": "stdout"
        },
        {
          "output_type": "execute_result",
          "data": {
            "text/html": [
              "<div>\n",
              "<style scoped>\n",
              "    .dataframe tbody tr th:only-of-type {\n",
              "        vertical-align: middle;\n",
              "    }\n",
              "\n",
              "    .dataframe tbody tr th {\n",
              "        vertical-align: top;\n",
              "    }\n",
              "\n",
              "    .dataframe thead th {\n",
              "        text-align: right;\n",
              "    }\n",
              "</style>\n",
              "<table border=\"1\" class=\"dataframe\">\n",
              "  <thead>\n",
              "    <tr style=\"text-align: right;\">\n",
              "      <th></th>\n",
              "      <th>name</th>\n",
              "      <th>sequence</th>\n",
              "    </tr>\n",
              "  </thead>\n",
              "  <tbody>\n",
              "    <tr>\n",
              "      <th>0</th>\n",
              "      <td>PABP_YEAST/115-210</td>\n",
              "      <td>qrdpslrkKGSGNIFIKNLHPDIDNKALYDTFSVFGDILSSKIATD...</td>\n",
              "    </tr>\n",
              "    <tr>\n",
              "      <th>1</th>\n",
              "      <td>ur|UPI0004E53ABB|UniRef100_UPI0004E53ABB/203-294</td>\n",
              "      <td>..epangsPKFFNVYVKNLPEKYTDDDLKSEFEAFGEITSAVVVKD...</td>\n",
              "    </tr>\n",
              "    <tr>\n",
              "      <th>2</th>\n",
              "      <td>ur|UPI0004E53ABB|UniRef100_UPI0004E53ABB/534-625</td>\n",
              "      <td>..epangsPKFFNVYVKNLPEKYTDDDLKSEFEASGEITSAVVVKD...</td>\n",
              "    </tr>\n",
              "    <tr>\n",
              "      <th>3</th>\n",
              "      <td>ur|UPI0004E53ABB|UniRef100_UPI0004E53ABB/312-398</td>\n",
              "      <td>........IRGLNLYLKNLDDTIDDERLKELFRPFGTIISCKVMVD...</td>\n",
              "    </tr>\n",
              "    <tr>\n",
              "      <th>4</th>\n",
              "      <td>ur|UPI0004E53ABB|UniRef100_UPI0004E53ABB/33-112</td>\n",
              "      <td>........---ASLYVGDLDLSVTEGQLFDLFSQIGPVASVRVCRD...</td>\n",
              "    </tr>\n",
              "  </tbody>\n",
              "</table>\n",
              "</div>"
            ],
            "text/plain": [
              "                                               name  \\\n",
              "0                                PABP_YEAST/115-210   \n",
              "1  ur|UPI0004E53ABB|UniRef100_UPI0004E53ABB/203-294   \n",
              "2  ur|UPI0004E53ABB|UniRef100_UPI0004E53ABB/534-625   \n",
              "3  ur|UPI0004E53ABB|UniRef100_UPI0004E53ABB/312-398   \n",
              "4   ur|UPI0004E53ABB|UniRef100_UPI0004E53ABB/33-112   \n",
              "\n",
              "                                            sequence  \n",
              "0  qrdpslrkKGSGNIFIKNLHPDIDNKALYDTFSVFGDILSSKIATD...  \n",
              "1  ..epangsPKFFNVYVKNLPEKYTDDDLKSEFEAFGEITSAVVVKD...  \n",
              "2  ..epangsPKFFNVYVKNLPEKYTDDDLKSEFEASGEITSAVVVKD...  \n",
              "3  ........IRGLNLYLKNLDDTIDDERLKELFRPFGTIISCKVMVD...  \n",
              "4  ........---ASLYVGDLDLSVTEGQLFDLFSQIGPVASVRVCRD...  "
            ]
          },
          "metadata": {
            "tags": []
          },
          "execution_count": 5
        }
      ]
    },
    {
      "metadata": {
        "id": "szrKDXxruBD_",
        "colab_type": "code",
        "outputId": "3f94c38b-d7af-45c3-ccce-0dbf7c660efa",
        "colab": {
          "base_uri": "https://localhost:8080/",
          "height": 52
        }
      },
      "cell_type": "code",
      "source": [
        "print (\"length of sequence:\", len(data.iloc[0][\"sequence\"]))#, len(data.iloc[0][\"seq\"]))\n",
        "print (\"sample sequence: \", data.iloc[0][\"sequence\"])"
      ],
      "execution_count": 0,
      "outputs": [
        {
          "output_type": "stream",
          "text": [
            "length of sequence: 96\n",
            "sample sequence:  qrdpslrkKGSGNIFIKNLHPDIDNKALYDTFSVFGDILSSKIATDENGKSKGFGFVHFEEEGAAKEAIDALNGMLLNGQEIYVAPHLSRkerdsq\n"
          ],
          "name": "stdout"
        }
      ]
    },
    {
      "metadata": {
        "id": "hmLdEklZuBEE",
        "colab_type": "text"
      },
      "cell_type": "markdown",
      "source": [
        "We are only really interested in the columns that do align. This means that for ever column that we include, at least 50% of sequences are not gaps. Note that this threshold is imposed by the alignment parameters loaded above. So let's make a column for that. Meanwhile, we keep track of the indices that did align."
      ]
    },
    {
      "metadata": {
        "id": "SBumtciuuBEF",
        "colab_type": "code",
        "outputId": "8b14a705-19e9-4c93-9671-4ca243ff36a2",
        "colab": {
          "base_uri": "https://localhost:8080/",
          "height": 291
        }
      },
      "cell_type": "code",
      "source": [
        "indices=index_of_non_lower_case_dot(data.iloc[0][\"sequence\"])\n",
        "data[\"seq\"]=list(map(prune_seq,data[\"sequence\"]))\n",
        "data.head()"
      ],
      "execution_count": 0,
      "outputs": [
        {
          "output_type": "execute_result",
          "data": {
            "text/html": [
              "<div>\n",
              "<style scoped>\n",
              "    .dataframe tbody tr th:only-of-type {\n",
              "        vertical-align: middle;\n",
              "    }\n",
              "\n",
              "    .dataframe tbody tr th {\n",
              "        vertical-align: top;\n",
              "    }\n",
              "\n",
              "    .dataframe thead th {\n",
              "        text-align: right;\n",
              "    }\n",
              "</style>\n",
              "<table border=\"1\" class=\"dataframe\">\n",
              "  <thead>\n",
              "    <tr style=\"text-align: right;\">\n",
              "      <th></th>\n",
              "      <th>name</th>\n",
              "      <th>sequence</th>\n",
              "      <th>seq</th>\n",
              "    </tr>\n",
              "  </thead>\n",
              "  <tbody>\n",
              "    <tr>\n",
              "      <th>0</th>\n",
              "      <td>PABP_YEAST/115-210</td>\n",
              "      <td>qrdpslrkKGSGNIFIKNLHPDIDNKALYDTFSVFGDILSSKIATD...</td>\n",
              "      <td>KGSGNIFIKNLHPDIDNKALYDTFSVFGDILSSKIATDENGKSKGF...</td>\n",
              "    </tr>\n",
              "    <tr>\n",
              "      <th>1</th>\n",
              "      <td>ur|UPI0004E53ABB|UniRef100_UPI0004E53ABB/203-294</td>\n",
              "      <td>..epangsPKFFNVYVKNLPEKYTDDDLKSEFEAFGEITSAVVVKD...</td>\n",
              "      <td>PKFFNVYVKNLPEKYTDDDLKSEFEAFGEITSAVVVKDENGNSRGF...</td>\n",
              "    </tr>\n",
              "    <tr>\n",
              "      <th>2</th>\n",
              "      <td>ur|UPI0004E53ABB|UniRef100_UPI0004E53ABB/534-625</td>\n",
              "      <td>..epangsPKFFNVYVKNLPEKYTDDDLKSEFEASGEITSAVVVKD...</td>\n",
              "      <td>PKFFNVYVKNLPEKYTDDDLKSEFEASGEITSAVVVKDENGNSRGF...</td>\n",
              "    </tr>\n",
              "    <tr>\n",
              "      <th>3</th>\n",
              "      <td>ur|UPI0004E53ABB|UniRef100_UPI0004E53ABB/312-398</td>\n",
              "      <td>........IRGLNLYLKNLDDTIDDERLKELFRPFGTIISCKVMVD...</td>\n",
              "      <td>IRGLNLYLKNLDDTIDDERLKELFRPFGTIISCKVMVDSQGQSKGS...</td>\n",
              "    </tr>\n",
              "    <tr>\n",
              "      <th>4</th>\n",
              "      <td>ur|UPI0004E53ABB|UniRef100_UPI0004E53ABB/33-112</td>\n",
              "      <td>........---ASLYVGDLDLSVTEGQLFDLFSQIGPVASVRVCRD...</td>\n",
              "      <td>---ASLYVGDLDLSVTEGQLFDLFSQIGPVASVRVCRDIRRVSLGY...</td>\n",
              "    </tr>\n",
              "  </tbody>\n",
              "</table>\n",
              "</div>"
            ],
            "text/plain": [
              "                                               name  \\\n",
              "0                                PABP_YEAST/115-210   \n",
              "1  ur|UPI0004E53ABB|UniRef100_UPI0004E53ABB/203-294   \n",
              "2  ur|UPI0004E53ABB|UniRef100_UPI0004E53ABB/534-625   \n",
              "3  ur|UPI0004E53ABB|UniRef100_UPI0004E53ABB/312-398   \n",
              "4   ur|UPI0004E53ABB|UniRef100_UPI0004E53ABB/33-112   \n",
              "\n",
              "                                            sequence  \\\n",
              "0  qrdpslrkKGSGNIFIKNLHPDIDNKALYDTFSVFGDILSSKIATD...   \n",
              "1  ..epangsPKFFNVYVKNLPEKYTDDDLKSEFEAFGEITSAVVVKD...   \n",
              "2  ..epangsPKFFNVYVKNLPEKYTDDDLKSEFEASGEITSAVVVKD...   \n",
              "3  ........IRGLNLYLKNLDDTIDDERLKELFRPFGTIISCKVMVD...   \n",
              "4  ........---ASLYVGDLDLSVTEGQLFDLFSQIGPVASVRVCRD...   \n",
              "\n",
              "                                                 seq  \n",
              "0  KGSGNIFIKNLHPDIDNKALYDTFSVFGDILSSKIATDENGKSKGF...  \n",
              "1  PKFFNVYVKNLPEKYTDDDLKSEFEAFGEITSAVVVKDENGNSRGF...  \n",
              "2  PKFFNVYVKNLPEKYTDDDLKSEFEASGEITSAVVVKDENGNSRGF...  \n",
              "3  IRGLNLYLKNLDDTIDDERLKELFRPFGTIISCKVMVDSQGQSKGS...  \n",
              "4  ---ASLYVGDLDLSVTEGQLFDLFSQIGPVASVRVCRDIRRVSLGY...  "
            ]
          },
          "metadata": {
            "tags": []
          },
          "execution_count": 7
        }
      ]
    },
    {
      "metadata": {
        "id": "AcbNplYbuBEK",
        "colab_type": "text"
      },
      "cell_type": "markdown",
      "source": [
        "Let's see how many columns remained. "
      ]
    },
    {
      "metadata": {
        "id": "XW1FqXOcuBEL",
        "colab_type": "code",
        "outputId": "5c00085f-2e81-4a13-99ba-4fa830440993",
        "colab": {
          "base_uri": "https://localhost:8080/",
          "height": 34
        }
      },
      "cell_type": "code",
      "source": [
        "print (\"pruned sequence length:\", len(data.iloc[0][\"seq\"]))\n",
        "PRUNED_SEQ_LENGTH=len(data.iloc[0][\"seq\"])"
      ],
      "execution_count": 0,
      "outputs": [
        {
          "output_type": "stream",
          "text": [
            "pruned sequence length: 82\n"
          ],
          "name": "stdout"
        }
      ]
    },
    {
      "metadata": {
        "id": "snTQOt4yuBEQ",
        "colab_type": "text"
      },
      "cell_type": "markdown",
      "source": [
        "A few optional lines of code to run. Printing indices, and deleting the sequence column so that it doesn't stay in memory for no reason. "
      ]
    },
    {
      "metadata": {
        "id": "u3Imd9rSuBER",
        "colab_type": "code",
        "colab": {}
      },
      "cell_type": "code",
      "source": [
        "#print (indices,len(indices))\n",
        "## you can do this to reduce memory load\n",
        "#del data[\"sequence\"]\n",
        "#data.head()\n",
        "#data.iloc[0][\"sequence\"][9]"
      ],
      "execution_count": 0,
      "outputs": []
    },
    {
      "metadata": {
        "id": "Lxl11SCFuBEV",
        "colab_type": "text"
      },
      "cell_type": "markdown",
      "source": [
        "Another useful preprocessing step is to reweight the sequences based on some similarity threshold. This helps us feed the network with more informative samples (namely discount sequences that are very close to each other). We weight all $n$ sequences that are more that 1-$\\theta$ similar to each other as $1/n$. Computing this step is rather slow, so I've provided the sample weights for $\\theta=0.2$, which is standard in the studies I reference. You can run the process for arbitrary $\\theta$ using the commented out line."
      ]
    },
    {
      "metadata": {
        "id": "934BmcHZuBEX",
        "colab_type": "code",
        "outputId": "894f68dc-421b-44c2-c7ba-47db32d1e779",
        "colab": {
          "base_uri": "https://localhost:8080/",
          "height": 52
        }
      },
      "cell_type": "code",
      "source": [
        "with open (\"PABP_YEAST_hmmerbit_t0.2_r50000.reweight\",\"rb\") as to_read:\n",
        "    new_weights=np.load(to_read)\n",
        "\n",
        "#new_weights=reweight_sequences(data[\"seq\"],0.1)\n",
        "len(new_weights),new_weights[:10]"
      ],
      "execution_count": 0,
      "outputs": [
        {
          "output_type": "execute_result",
          "data": {
            "text/plain": [
              "(50000, array([0.03125   , 0.2       , 0.2       , 0.2       , 0.16666667,\n",
              "        0.2       , 0.16666667, 0.16666667, 0.0625    , 1.        ]))"
            ]
          },
          "metadata": {
            "tags": []
          },
          "execution_count": 10
        }
      ]
    },
    {
      "metadata": {
        "id": "EyZeGveNuBEc",
        "colab_type": "text"
      },
      "cell_type": "markdown",
      "source": [
        "Next we translate the sequence into a one hot encoding and shape the input sequences into a m*n matrix. Here m is the number of the data points and $n=$ alphbet size $\\times$ sequence length."
      ]
    },
    {
      "metadata": {
        "id": "7oVSNsrSuBEd",
        "colab_type": "code",
        "outputId": "19224364-602b-45a5-a344-6861dda6c95e",
        "colab": {
          "base_uri": "https://localhost:8080/",
          "height": 52
        }
      },
      "cell_type": "code",
      "source": [
        "#Encode training data in one_hot vectors\n",
        "training_data_one_hot=[]\n",
        "labels=[]\n",
        "for i, row in data.iterrows():\n",
        "    training_data_one_hot.append(translate_string_to_one_hot(row[\"seq\"],ORDER_LIST))\n",
        "print (len(training_data_one_hot))\n",
        "#plt.imshow(training_data_one_hot[0],cmap=\"Greys\")\n",
        "training_data=np.array([np.array(list(sample.flatten())).T for sample in training_data_one_hot])\n",
        "print(training_data.shape)\n"
      ],
      "execution_count": 0,
      "outputs": [
        {
          "output_type": "stream",
          "text": [
            "50000\n",
            "(50000, 1968)\n"
          ],
          "name": "stdout"
        }
      ]
    },
    {
      "metadata": {
        "id": "UpBllU5huBEh",
        "colab_type": "text"
      },
      "cell_type": "markdown",
      "source": [
        "That takes care of the training data. But we also need to test our model on something. Thankfully, some neat experiments have been done to actually measure the effects of change in a sequence on the performance of the protein. We load this data next (because we want to make use of this test data to evaluate our performance at the end of each epoch). "
      ]
    },
    {
      "metadata": {
        "scrolled": true,
        "id": "xrsY7E2guBEi",
        "colab_type": "code",
        "outputId": "cdb88bc2-e61f-485d-e526-950e10c99029",
        "colab": {
          "base_uri": "https://localhost:8080/",
          "height": 122
        }
      },
      "cell_type": "code",
      "source": [
        "exp_data_full=pd.read_csv(\n",
        "    \"PABP_YEAST_Fields2013-singles.csv\", sep=\";\", comment=\"#\"\n",
        ")\n",
        "print (\"number of mutants: \",len(exp_data_full))\n",
        "exp_data_full.head()\n",
        "exp_data_full.iloc[87]"
      ],
      "execution_count": 0,
      "outputs": [
        {
          "output_type": "stream",
          "text": [
            "number of mutants:  1188\n"
          ],
          "name": "stdout"
        },
        {
          "output_type": "execute_result",
          "data": {
            "text/plain": [
              "mutant                               K131V\n",
              "effect_prediction_epistatic         -10.06\n",
              "effect_prediction_independent     -3.36052\n",
              "linear                           0.0425856\n",
              "Name: 87, dtype: object"
            ]
          },
          "metadata": {
            "tags": []
          },
          "execution_count": 12
        }
      ]
    },
    {
      "metadata": {
        "id": "4I7edAjKuBEq",
        "colab_type": "text"
      },
      "cell_type": "markdown",
      "source": [
        "The \"linear\" column is the experimental data. The other two predictions are the results as obtained by the method described in the [Hopf et al paper](https://www.nature.com/nbt/journal/v35/n2/abs/nbt.3769.html). "
      ]
    },
    {
      "metadata": {
        "id": "-hFf-hY4uBEr",
        "colab_type": "code",
        "outputId": "4d0ed22b-b48d-4aa6-ec70-beccc9c050e0",
        "colab": {
          "base_uri": "https://localhost:8080/",
          "height": 141
        }
      },
      "cell_type": "code",
      "source": [
        "exp_data_full.corr(method=\"spearman\")"
      ],
      "execution_count": 0,
      "outputs": [
        {
          "output_type": "execute_result",
          "data": {
            "text/html": [
              "<div>\n",
              "<style scoped>\n",
              "    .dataframe tbody tr th:only-of-type {\n",
              "        vertical-align: middle;\n",
              "    }\n",
              "\n",
              "    .dataframe tbody tr th {\n",
              "        vertical-align: top;\n",
              "    }\n",
              "\n",
              "    .dataframe thead th {\n",
              "        text-align: right;\n",
              "    }\n",
              "</style>\n",
              "<table border=\"1\" class=\"dataframe\">\n",
              "  <thead>\n",
              "    <tr style=\"text-align: right;\">\n",
              "      <th></th>\n",
              "      <th>effect_prediction_epistatic</th>\n",
              "      <th>effect_prediction_independent</th>\n",
              "      <th>linear</th>\n",
              "    </tr>\n",
              "  </thead>\n",
              "  <tbody>\n",
              "    <tr>\n",
              "      <th>effect_prediction_epistatic</th>\n",
              "      <td>1.000000</td>\n",
              "      <td>0.745161</td>\n",
              "      <td>0.592781</td>\n",
              "    </tr>\n",
              "    <tr>\n",
              "      <th>effect_prediction_independent</th>\n",
              "      <td>0.745161</td>\n",
              "      <td>1.000000</td>\n",
              "      <td>0.423680</td>\n",
              "    </tr>\n",
              "    <tr>\n",
              "      <th>linear</th>\n",
              "      <td>0.592781</td>\n",
              "      <td>0.423680</td>\n",
              "      <td>1.000000</td>\n",
              "    </tr>\n",
              "  </tbody>\n",
              "</table>\n",
              "</div>"
            ],
            "text/plain": [
              "                               effect_prediction_epistatic  \\\n",
              "effect_prediction_epistatic                       1.000000   \n",
              "effect_prediction_independent                     0.745161   \n",
              "linear                                            0.592781   \n",
              "\n",
              "                               effect_prediction_independent    linear  \n",
              "effect_prediction_epistatic                         0.745161  0.592781  \n",
              "effect_prediction_independent                       1.000000  0.423680  \n",
              "linear                                              0.423680  1.000000  "
            ]
          },
          "metadata": {
            "tags": []
          },
          "execution_count": 13
        }
      ]
    },
    {
      "metadata": {
        "id": "e220lo0KuBEy",
        "colab_type": "text"
      },
      "cell_type": "markdown",
      "source": [
        "The experimentalists have made the mutations on specific positions on the sequence. We restrict our target data to the subset of those experiments that we have aligned columns for. "
      ]
    },
    {
      "metadata": {
        "id": "dqYQx6dHuBE1",
        "colab_type": "code",
        "outputId": "340f2e4a-08fc-474f-8653-b3bacf0e0004",
        "colab": {
          "base_uri": "https://localhost:8080/",
          "height": 358
        }
      },
      "cell_type": "code",
      "source": [
        "OFFSET=117\n",
        "#Deciding offset requires investigating the dataset and alignment.\n",
        "exp_data_singles=pd.DataFrame(columns=exp_data_full.columns)\n",
        "#decide starting index depending on how the file is \"headered\"\n",
        "for i,row in exp_data_full[1:].iterrows():\n",
        "        pos=re.split(r'(\\d+)', row.mutant) \n",
        "        if int(pos[1])-OFFSET in indices:\n",
        "            exp_data_singles=exp_data_singles.append(row)\n",
        "exp_data_singles=exp_data_singles.reset_index()\n",
        "target_values_singles=list(exp_data_singles[\"linear\"])\n",
        "exp_data_singles.head(10)        "
      ],
      "execution_count": 0,
      "outputs": [
        {
          "output_type": "execute_result",
          "data": {
            "text/html": [
              "<div>\n",
              "<style scoped>\n",
              "    .dataframe tbody tr th:only-of-type {\n",
              "        vertical-align: middle;\n",
              "    }\n",
              "\n",
              "    .dataframe tbody tr th {\n",
              "        vertical-align: top;\n",
              "    }\n",
              "\n",
              "    .dataframe thead th {\n",
              "        text-align: right;\n",
              "    }\n",
              "</style>\n",
              "<table border=\"1\" class=\"dataframe\">\n",
              "  <thead>\n",
              "    <tr style=\"text-align: right;\">\n",
              "      <th></th>\n",
              "      <th>index</th>\n",
              "      <th>mutant</th>\n",
              "      <th>effect_prediction_epistatic</th>\n",
              "      <th>effect_prediction_independent</th>\n",
              "      <th>linear</th>\n",
              "    </tr>\n",
              "  </thead>\n",
              "  <tbody>\n",
              "    <tr>\n",
              "      <th>0</th>\n",
              "      <td>1</td>\n",
              "      <td>G126C</td>\n",
              "      <td>-5.663638</td>\n",
              "      <td>-0.027602</td>\n",
              "      <td>0.449027</td>\n",
              "    </tr>\n",
              "    <tr>\n",
              "      <th>1</th>\n",
              "      <td>2</td>\n",
              "      <td>G126E</td>\n",
              "      <td>-6.611062</td>\n",
              "      <td>-1.827612</td>\n",
              "      <td>0.588928</td>\n",
              "    </tr>\n",
              "    <tr>\n",
              "      <th>2</th>\n",
              "      <td>3</td>\n",
              "      <td>G126D</td>\n",
              "      <td>-7.270577</td>\n",
              "      <td>-1.180094</td>\n",
              "      <td>0.229853</td>\n",
              "    </tr>\n",
              "    <tr>\n",
              "      <th>3</th>\n",
              "      <td>4</td>\n",
              "      <td>G126N</td>\n",
              "      <td>-5.809167</td>\n",
              "      <td>0.387443</td>\n",
              "      <td>0.679435</td>\n",
              "    </tr>\n",
              "    <tr>\n",
              "      <th>4</th>\n",
              "      <td>5</td>\n",
              "      <td>G126S</td>\n",
              "      <td>-4.617248</td>\n",
              "      <td>0.661686</td>\n",
              "      <td>0.721788</td>\n",
              "    </tr>\n",
              "    <tr>\n",
              "      <th>5</th>\n",
              "      <td>6</td>\n",
              "      <td>G126R</td>\n",
              "      <td>-5.582381</td>\n",
              "      <td>1.144148</td>\n",
              "      <td>0.313690</td>\n",
              "    </tr>\n",
              "    <tr>\n",
              "      <th>6</th>\n",
              "      <td>7</td>\n",
              "      <td>G126W</td>\n",
              "      <td>-8.079901</td>\n",
              "      <td>-2.052391</td>\n",
              "      <td>0.226032</td>\n",
              "    </tr>\n",
              "    <tr>\n",
              "      <th>7</th>\n",
              "      <td>8</td>\n",
              "      <td>G126V</td>\n",
              "      <td>-5.435631</td>\n",
              "      <td>-0.800307</td>\n",
              "      <td>0.230315</td>\n",
              "    </tr>\n",
              "    <tr>\n",
              "      <th>8</th>\n",
              "      <td>9</td>\n",
              "      <td>N127A</td>\n",
              "      <td>-4.987206</td>\n",
              "      <td>-2.251823</td>\n",
              "      <td>0.062650</td>\n",
              "    </tr>\n",
              "    <tr>\n",
              "      <th>9</th>\n",
              "      <td>10</td>\n",
              "      <td>N127C</td>\n",
              "      <td>-8.044181</td>\n",
              "      <td>-2.215639</td>\n",
              "      <td>0.024996</td>\n",
              "    </tr>\n",
              "  </tbody>\n",
              "</table>\n",
              "</div>"
            ],
            "text/plain": [
              "   index mutant  effect_prediction_epistatic  effect_prediction_independent  \\\n",
              "0      1  G126C                    -5.663638                      -0.027602   \n",
              "1      2  G126E                    -6.611062                      -1.827612   \n",
              "2      3  G126D                    -7.270577                      -1.180094   \n",
              "3      4  G126N                    -5.809167                       0.387443   \n",
              "4      5  G126S                    -4.617248                       0.661686   \n",
              "5      6  G126R                    -5.582381                       1.144148   \n",
              "6      7  G126W                    -8.079901                      -2.052391   \n",
              "7      8  G126V                    -5.435631                      -0.800307   \n",
              "8      9  N127A                    -4.987206                      -2.251823   \n",
              "9     10  N127C                    -8.044181                      -2.215639   \n",
              "\n",
              "     linear  \n",
              "0  0.449027  \n",
              "1  0.588928  \n",
              "2  0.229853  \n",
              "3  0.679435  \n",
              "4  0.721788  \n",
              "5  0.313690  \n",
              "6  0.226032  \n",
              "7  0.230315  \n",
              "8  0.062650  \n",
              "9  0.024996  "
            ]
          },
          "metadata": {
            "tags": []
          },
          "execution_count": 14
        }
      ]
    },
    {
      "metadata": {
        "id": "LW89BdQvuBE7",
        "colab_type": "text"
      },
      "cell_type": "markdown",
      "source": [
        "Using this data, we can now make a library of sequences of single mutants, in the same form of the alignment data."
      ]
    },
    {
      "metadata": {
        "id": "KAVg_CvNuBE8",
        "colab_type": "code",
        "outputId": "30f54837-4380-42c8-a6b4-1ac5b0f48803",
        "colab": {
          "base_uri": "https://localhost:8080/",
          "height": 52
        }
      },
      "cell_type": "code",
      "source": [
        "mutation_data=[re.split(r'(\\d+)', s) for s in exp_data_singles.mutant]\n",
        "wt_sequence=data.iloc[0].seq\n",
        "mutants=mutate_single(wt_sequence,mutation_data,offset=0,index=3) #note that you change index to 1\n",
        "\n",
        "#sanity checks\n",
        "print (len(mutants),len(exp_data_singles))\n",
        "#the mutant should be in the correct place\n",
        "print (list(zip(wt_sequence,mutants[3]))[:10])"
      ],
      "execution_count": 0,
      "outputs": [
        {
          "output_type": "stream",
          "text": [
            "1187 1187\n",
            "[('K', 'K'), ('G', 'G'), ('S', 'S'), ('G', 'N'), ('N', 'N'), ('I', 'I'), ('F', 'F'), ('I', 'I'), ('K', 'K'), ('N', 'N')]\n"
          ],
          "name": "stdout"
        }
      ]
    },
    {
      "metadata": {
        "id": "xtjEHGbnuBFA",
        "colab_type": "text"
      },
      "cell_type": "markdown",
      "source": [
        "The last print above is a simple check to show that the mutation in the sequence is indeed an G to N (in the third mutant). We also make the one-hot vectors for this data."
      ]
    },
    {
      "metadata": {
        "id": "tZpx4ekCuBFB",
        "colab_type": "code",
        "colab": {}
      },
      "cell_type": "code",
      "source": [
        "#Test data with wt at 0 index\n",
        "one_hot_mutants=[]\n",
        "mutants_plus=[data.iloc[0][\"seq\"]]+mutants\n",
        "for mutant in mutants_plus:\n",
        "    one_hot_mutants.append(translate_string_to_one_hot(\"\".join(mutant),ORDER_LIST))\n",
        "\n",
        "test_data_plus=np.array([np.array(list(sample.flatten())).T for sample in one_hot_mutants])"
      ],
      "execution_count": 0,
      "outputs": []
    },
    {
      "metadata": {
        "id": "ebUjh6QtuBFH",
        "colab_type": "text"
      },
      "cell_type": "markdown",
      "source": [
        "We also construct the double mutant sequences using the same process"
      ]
    },
    {
      "metadata": {
        "id": "lsh5rncquBFI",
        "colab_type": "code",
        "outputId": "c8d5bc21-40d2-4cad-99ba-9f7ab45d3780",
        "colab": {
          "base_uri": "https://localhost:8080/",
          "height": 122
        }
      },
      "cell_type": "code",
      "source": [
        "exp_data_full=pd.read_csv(\n",
        "    \"PABP_YEAST_Fields2013-doubles.csv\", sep=\";\", comment=\"#\"\n",
        ")\n",
        "print (\"number of mutants: \",len(exp_data_full))\n",
        "exp_data_full.head()\n",
        "exp_data_full.iloc[0]"
      ],
      "execution_count": 0,
      "outputs": [
        {
          "output_type": "stream",
          "text": [
            "number of mutants:  36522\n"
          ],
          "name": "stdout"
        },
        {
          "output_type": "execute_result",
          "data": {
            "text/plain": [
              "mutant                           G169W,F170V\n",
              "effect_prediction_epistatic          -18.161\n",
              "effect_prediction_independent       -15.1525\n",
              "XY_Enrichment_score                  0.05916\n",
              "Name: 0, dtype: object"
            ]
          },
          "metadata": {
            "tags": []
          },
          "execution_count": 17
        }
      ]
    },
    {
      "metadata": {
        "id": "psewMFEPuBFN",
        "colab_type": "code",
        "outputId": "c38844fd-1d7d-43ee-de45-037858bacba1",
        "colab": {
          "base_uri": "https://localhost:8080/",
          "height": 141
        }
      },
      "cell_type": "code",
      "source": [
        "exp_data_full.corr(method=\"spearman\")"
      ],
      "execution_count": 0,
      "outputs": [
        {
          "output_type": "execute_result",
          "data": {
            "text/html": [
              "<div>\n",
              "<style scoped>\n",
              "    .dataframe tbody tr th:only-of-type {\n",
              "        vertical-align: middle;\n",
              "    }\n",
              "\n",
              "    .dataframe tbody tr th {\n",
              "        vertical-align: top;\n",
              "    }\n",
              "\n",
              "    .dataframe thead th {\n",
              "        text-align: right;\n",
              "    }\n",
              "</style>\n",
              "<table border=\"1\" class=\"dataframe\">\n",
              "  <thead>\n",
              "    <tr style=\"text-align: right;\">\n",
              "      <th></th>\n",
              "      <th>effect_prediction_epistatic</th>\n",
              "      <th>effect_prediction_independent</th>\n",
              "      <th>XY_Enrichment_score</th>\n",
              "    </tr>\n",
              "  </thead>\n",
              "  <tbody>\n",
              "    <tr>\n",
              "      <th>effect_prediction_epistatic</th>\n",
              "      <td>1.000000</td>\n",
              "      <td>0.715371</td>\n",
              "      <td>0.620022</td>\n",
              "    </tr>\n",
              "    <tr>\n",
              "      <th>effect_prediction_independent</th>\n",
              "      <td>0.715371</td>\n",
              "      <td>1.000000</td>\n",
              "      <td>0.497743</td>\n",
              "    </tr>\n",
              "    <tr>\n",
              "      <th>XY_Enrichment_score</th>\n",
              "      <td>0.620022</td>\n",
              "      <td>0.497743</td>\n",
              "      <td>1.000000</td>\n",
              "    </tr>\n",
              "  </tbody>\n",
              "</table>\n",
              "</div>"
            ],
            "text/plain": [
              "                               effect_prediction_epistatic  \\\n",
              "effect_prediction_epistatic                       1.000000   \n",
              "effect_prediction_independent                     0.715371   \n",
              "XY_Enrichment_score                               0.620022   \n",
              "\n",
              "                               effect_prediction_independent  \\\n",
              "effect_prediction_epistatic                         0.715371   \n",
              "effect_prediction_independent                       1.000000   \n",
              "XY_Enrichment_score                                 0.497743   \n",
              "\n",
              "                               XY_Enrichment_score  \n",
              "effect_prediction_epistatic               0.620022  \n",
              "effect_prediction_independent             0.497743  \n",
              "XY_Enrichment_score                       1.000000  "
            ]
          },
          "metadata": {
            "tags": []
          },
          "execution_count": 18
        }
      ]
    },
    {
      "metadata": {
        "id": "dpLlmkYwuBFQ",
        "colab_type": "code",
        "outputId": "70679465-3284-481d-8c66-eadac6ee533e",
        "colab": {
          "base_uri": "https://localhost:8080/",
          "height": 203
        }
      },
      "cell_type": "code",
      "source": [
        "OFFSET=160\n",
        "#Deciding offset requires investigating the dataset and alignment.\n",
        "exp_data_doubles=pd.DataFrame(columns=exp_data_full.columns)\n",
        "#decide starting index depending on how the file is \"headered\"\n",
        "for i,row in exp_data_full[0:].iterrows():\n",
        "        pos=re.split(r'(\\d+)', row.mutant) \n",
        "        if int(pos[1])-OFFSET in indices and int(pos[3])-OFFSET in indices:\n",
        "            exp_data_doubles=exp_data_doubles.append(row)\n",
        "exp_data_doubles=exp_data_doubles.reset_index()\n",
        "exp_data_doubles.head(5)"
      ],
      "execution_count": 0,
      "outputs": [
        {
          "output_type": "execute_result",
          "data": {
            "text/html": [
              "<div>\n",
              "<style scoped>\n",
              "    .dataframe tbody tr th:only-of-type {\n",
              "        vertical-align: middle;\n",
              "    }\n",
              "\n",
              "    .dataframe tbody tr th {\n",
              "        vertical-align: top;\n",
              "    }\n",
              "\n",
              "    .dataframe thead th {\n",
              "        text-align: right;\n",
              "    }\n",
              "</style>\n",
              "<table border=\"1\" class=\"dataframe\">\n",
              "  <thead>\n",
              "    <tr style=\"text-align: right;\">\n",
              "      <th></th>\n",
              "      <th>index</th>\n",
              "      <th>mutant</th>\n",
              "      <th>effect_prediction_epistatic</th>\n",
              "      <th>effect_prediction_independent</th>\n",
              "      <th>XY_Enrichment_score</th>\n",
              "    </tr>\n",
              "  </thead>\n",
              "  <tbody>\n",
              "    <tr>\n",
              "      <th>0</th>\n",
              "      <td>0</td>\n",
              "      <td>G169W,F170V</td>\n",
              "      <td>-18.161003</td>\n",
              "      <td>-15.152495</td>\n",
              "      <td>0.059160</td>\n",
              "    </tr>\n",
              "    <tr>\n",
              "      <th>1</th>\n",
              "      <td>1</td>\n",
              "      <td>G169V,F170V</td>\n",
              "      <td>-13.753099</td>\n",
              "      <td>-8.845704</td>\n",
              "      <td>0.045765</td>\n",
              "    </tr>\n",
              "    <tr>\n",
              "      <th>2</th>\n",
              "      <td>2</td>\n",
              "      <td>G169A,F170I</td>\n",
              "      <td>-9.115749</td>\n",
              "      <td>-3.954389</td>\n",
              "      <td>0.075799</td>\n",
              "    </tr>\n",
              "    <tr>\n",
              "      <th>3</th>\n",
              "      <td>3</td>\n",
              "      <td>G169C,F170Y</td>\n",
              "      <td>-9.761077</td>\n",
              "      <td>-4.004533</td>\n",
              "      <td>0.700485</td>\n",
              "    </tr>\n",
              "    <tr>\n",
              "      <th>4</th>\n",
              "      <td>4</td>\n",
              "      <td>G169A,F170S</td>\n",
              "      <td>-10.212144</td>\n",
              "      <td>-5.743002</td>\n",
              "      <td>0.061518</td>\n",
              "    </tr>\n",
              "  </tbody>\n",
              "</table>\n",
              "</div>"
            ],
            "text/plain": [
              "   index       mutant  effect_prediction_epistatic  \\\n",
              "0      0  G169W,F170V                   -18.161003   \n",
              "1      1  G169V,F170V                   -13.753099   \n",
              "2      2  G169A,F170I                    -9.115749   \n",
              "3      3  G169C,F170Y                    -9.761077   \n",
              "4      4  G169A,F170S                   -10.212144   \n",
              "\n",
              "   effect_prediction_independent  XY_Enrichment_score  \n",
              "0                     -15.152495             0.059160  \n",
              "1                      -8.845704             0.045765  \n",
              "2                      -3.954389             0.075799  \n",
              "3                      -4.004533             0.700485  \n",
              "4                      -5.743002             0.061518  "
            ]
          },
          "metadata": {
            "tags": []
          },
          "execution_count": 19
        }
      ]
    },
    {
      "metadata": {
        "id": "WjaviudluBFT",
        "colab_type": "code",
        "outputId": "692fdb87-ca3a-49d5-ee1a-3cb13773ad56",
        "colab": {
          "base_uri": "https://localhost:8080/",
          "height": 172
        }
      },
      "cell_type": "code",
      "source": [
        "target_values_doubles=list(exp_data_doubles[\"XY_Enrichment_score\"])\n",
        "exp_data_doubles.corr(method=\"spearman\")"
      ],
      "execution_count": 0,
      "outputs": [
        {
          "output_type": "execute_result",
          "data": {
            "text/html": [
              "<div>\n",
              "<style scoped>\n",
              "    .dataframe tbody tr th:only-of-type {\n",
              "        vertical-align: middle;\n",
              "    }\n",
              "\n",
              "    .dataframe tbody tr th {\n",
              "        vertical-align: top;\n",
              "    }\n",
              "\n",
              "    .dataframe thead th {\n",
              "        text-align: right;\n",
              "    }\n",
              "</style>\n",
              "<table border=\"1\" class=\"dataframe\">\n",
              "  <thead>\n",
              "    <tr style=\"text-align: right;\">\n",
              "      <th></th>\n",
              "      <th>index</th>\n",
              "      <th>effect_prediction_epistatic</th>\n",
              "      <th>effect_prediction_independent</th>\n",
              "      <th>XY_Enrichment_score</th>\n",
              "    </tr>\n",
              "  </thead>\n",
              "  <tbody>\n",
              "    <tr>\n",
              "      <th>index</th>\n",
              "      <td>1.000000</td>\n",
              "      <td>0.143941</td>\n",
              "      <td>0.140272</td>\n",
              "      <td>0.117997</td>\n",
              "    </tr>\n",
              "    <tr>\n",
              "      <th>effect_prediction_epistatic</th>\n",
              "      <td>0.143941</td>\n",
              "      <td>1.000000</td>\n",
              "      <td>0.773236</td>\n",
              "      <td>0.520277</td>\n",
              "    </tr>\n",
              "    <tr>\n",
              "      <th>effect_prediction_independent</th>\n",
              "      <td>0.140272</td>\n",
              "      <td>0.773236</td>\n",
              "      <td>1.000000</td>\n",
              "      <td>0.488397</td>\n",
              "    </tr>\n",
              "    <tr>\n",
              "      <th>XY_Enrichment_score</th>\n",
              "      <td>0.117997</td>\n",
              "      <td>0.520277</td>\n",
              "      <td>0.488397</td>\n",
              "      <td>1.000000</td>\n",
              "    </tr>\n",
              "  </tbody>\n",
              "</table>\n",
              "</div>"
            ],
            "text/plain": [
              "                                  index  effect_prediction_epistatic  \\\n",
              "index                          1.000000                     0.143941   \n",
              "effect_prediction_epistatic    0.143941                     1.000000   \n",
              "effect_prediction_independent  0.140272                     0.773236   \n",
              "XY_Enrichment_score            0.117997                     0.520277   \n",
              "\n",
              "                               effect_prediction_independent  \\\n",
              "index                                               0.140272   \n",
              "effect_prediction_epistatic                         0.773236   \n",
              "effect_prediction_independent                       1.000000   \n",
              "XY_Enrichment_score                                 0.488397   \n",
              "\n",
              "                               XY_Enrichment_score  \n",
              "index                                     0.117997  \n",
              "effect_prediction_epistatic               0.520277  \n",
              "effect_prediction_independent             0.488397  \n",
              "XY_Enrichment_score                       1.000000  "
            ]
          },
          "metadata": {
            "tags": []
          },
          "execution_count": 20
        }
      ]
    },
    {
      "metadata": {
        "id": "ymisrRbcuBFX",
        "colab_type": "code",
        "outputId": "0af47088-fbb2-4c3f-825b-ceb24b17af45",
        "colab": {
          "base_uri": "https://localhost:8080/",
          "height": 52
        }
      },
      "cell_type": "code",
      "source": [
        "mutation_data1=[re.split(r'(\\d+)', s.split(\",\")[0]) for s in exp_data_doubles.mutant]\n",
        "mutation_data2=[re.split(r'(\\d+)', s.split(\",\")[1]) for s in exp_data_doubles.mutant]\n",
        "wt_sequence=data.iloc[0].seq\n",
        "\n",
        "mutants_double=mutate_double(wt_sequence,mutation_data1,mutation_data2,offset=0,index=46)\n",
        "\n",
        "#sanity checks\n",
        "print (len(mutants_double),len(exp_data_doubles))\n",
        "#the mutant should be in the correct place\n",
        "print (list(zip(wt_sequence,mutants_double[2]))[40:50])"
      ],
      "execution_count": 0,
      "outputs": [
        {
          "output_type": "stream",
          "text": [
            "13876 13876\n",
            "[('G', 'G'), ('K', 'K'), ('S', 'S'), ('K', 'K'), ('G', 'G'), ('F', 'F'), ('G', 'A'), ('F', 'I'), ('V', 'V'), ('H', 'H')]\n"
          ],
          "name": "stdout"
        }
      ]
    },
    {
      "metadata": {
        "id": "wx5DJYdCuBFa",
        "colab_type": "text"
      },
      "cell_type": "markdown",
      "source": [
        "Again, we can check that the second mutant is indeed a double G169A, F170I mutant."
      ]
    },
    {
      "metadata": {
        "id": "zlqcJmbpuBFa",
        "colab_type": "code",
        "colab": {}
      },
      "cell_type": "code",
      "source": [
        "#Test data with wt at 0 index\n",
        "one_hot_mutants=[]\n",
        "mutants_plus=[data.iloc[0][\"seq\"]]+mutants_double\n",
        "for mutant in mutants_plus:\n",
        "    one_hot_mutants.append(translate_string_to_one_hot(\"\".join(mutant),ORDER_LIST))\n",
        "\n",
        "test_data_doubles_plus=np.array([np.array(list(sample.flatten())).T for sample in one_hot_mutants])"
      ],
      "execution_count": 0,
      "outputs": []
    },
    {
      "metadata": {
        "id": "q8biXxduuBFc",
        "colab_type": "text"
      },
      "cell_type": "markdown",
      "source": [
        "We can combine the singles and doubles training data for convenience"
      ]
    },
    {
      "metadata": {
        "id": "JyydWivcuBFe",
        "colab_type": "code",
        "colab": {}
      },
      "cell_type": "code",
      "source": [
        "all_test_data=np.vstack([test_data_plus,test_data_doubles_plus[1:]])\n",
        "all_test_data_flattened=np.array([np.array(list(sample.flatten())).T for sample in all_test_data])"
      ],
      "execution_count": 0,
      "outputs": []
    },
    {
      "metadata": {
        "collapsed": false,
        "id": "JJYT506tuBFh",
        "colab_type": "text"
      },
      "cell_type": "markdown",
      "source": [
        "This concludes the pre-processing we need to do on the data.\n",
        "\n",
        "## 2.  Training the model\n",
        "We now move on to define our neural network. This is essentially a vanilla VAE in keras (with some optimization on hyperparameters). For optimization purposes we define a callback function that reports the predictive power of the model in the end of each epoch. Note that while this passes the -test data- through the model, it is kosher because we never pass in the values we are actually interested in and the network is not in \"training phase\", i.e. no weights are updated during this pass. "
      ]
    },
    {
      "metadata": {
        "id": "vDEK4xuouBFj",
        "colab_type": "code",
        "colab": {}
      },
      "cell_type": "code",
      "source": [
        "class rho_vs_mutants(keras.callbacks.Callback):\n",
        "    def __init__(self,mutants,test_set_size,aa_size,sequence_size):\n",
        "        self.mutants=mutants\n",
        "        self.sample_size=test_set_size\n",
        "        self.aa_size=aa_size\n",
        "        self.sequence_size=sequence_size\n",
        "        self.scores=[]\n",
        "        self.count_batch=0\n",
        "    def on_train_begin(self, logs={}):\n",
        "        self.losses = []\n",
        "    def on_batch_end(self, batch, logs={}):\n",
        "        self.losses.append(logs.get('loss'))\n",
        "    #This allows us to track the \"progress\" of the model on different epochs\n",
        "    def on_epoch_end(self,batch,logs):\n",
        "        x_decoded=vae.predict(test_data_plus[0:self.sample_size],batch_size=batch_size)\n",
        "        digit = x_decoded[0].reshape(self.aa_size,self.sequence_size)\n",
        "        digit_wt = normalize(digit,axis=0, norm='l1')\n",
        "        wt_prob=compute_log_probability(digit,digit_wt)\n",
        "        fitnesses=[]\n",
        "        for sample in range(1,self.sample_size):\n",
        "            digit = x_decoded[sample].reshape(self.aa_size,self.sequence_size)\n",
        "            digit = normalize(digit,axis=0, norm='l1')\n",
        "            fitness=compute_log_probability(test_data_plus[sample].reshape(self.aa_size,self.sequence_size),digit)-wt_prob\n",
        "            fitnesses.append(fitness)\n",
        "        print (\",\"+str(spearmanr(fitnesses,target_values_singles[:self.sample_size-1])))\n",
        "        self.scores.append(spearmanr(fitnesses,target_values_singles[:self.sample_size-1])[0])\n",
        "            "
      ],
      "execution_count": 0,
      "outputs": []
    },
    {
      "metadata": {
        "id": "LAo3FKoruBFn",
        "colab_type": "text"
      },
      "cell_type": "markdown",
      "source": [
        "Now we are ready to specify the network architecture, this is adapted from [here](https://github.com/fchollet/keras/blob/master/examples/variational_autoencoder.py)."
      ]
    },
    {
      "metadata": {
        "id": "a5ppXj6auBFo",
        "colab_type": "code",
        "outputId": "bce79800-e023-431b-d861-dcffd507e434",
        "colab": {
          "base_uri": "https://localhost:8080/",
          "height": 160
        }
      },
      "cell_type": "code",
      "source": [
        "batch_size = 20\n",
        "original_dim=len(ORDER_LIST)*PRUNED_SEQ_LENGTH\n",
        "output_dim=len(ORDER_LIST)*PRUNED_SEQ_LENGTH\n",
        "latent_dim = 5\n",
        "intermediate_dim = 250\n",
        "nb_epoch = 5\n",
        "epsilon_std = 1.0\n",
        "np.random.seed(42)  \n",
        "\n",
        "\n",
        "def sampling(args):\n",
        "    \"\"\"Reparameterization trick by sampling from an isotropic unit Gaussian.\n",
        "    # Arguments\n",
        "        args (tensor): mean and log of variance of Q(z|X)\n",
        "    # Returns\n",
        "        z (tensor): sampled latent vector\n",
        "    \"\"\"\n",
        "\n",
        "    z_mean, z_log_var = args\n",
        "    batch = K.shape(z_mean)[0]\n",
        "    dim = K.int_shape(z_mean)[1]\n",
        "    # by default, random_normal has mean = 0 and std = 1.0\n",
        "    epsilon = K.random_normal(shape=(batch, dim))\n",
        "    return z_mean + K.exp(0.5 * z_log_var) * epsilon\n",
        "\n",
        "\n",
        "def vae_loss(x, x_decoded_mean):\n",
        "    xent_loss = original_dim * objectives.categorical_crossentropy(x,  x_decoded_mean)\n",
        "    kl_loss = - 0.5 * K.sum(1 + z_log_var - K.square(z_mean) - K.exp(z_log_var), axis=-1)\n",
        "    return xent_loss + kl_loss\n",
        "\n",
        "#Encoding Layers\n",
        "x = Input(batch_shape=(batch_size, original_dim))\n",
        "h = Dense(intermediate_dim,activation=\"elu\")(x)\n",
        "h= Dropout(0.7)(h)\n",
        "h = Dense(intermediate_dim, activation='elu')(h)\n",
        "h=BatchNormalization(mode=0)(h)\n",
        "h = Dense(intermediate_dim, activation='elu')(h)\n",
        "\n",
        "#Latent layers\n",
        "z_mean=Dense(latent_dim)(h)\n",
        "z_log_var=Dense(latent_dim)(h)\n",
        "z = Lambda(sampling, output_shape=(latent_dim,))([z_mean, z_log_var])\n",
        "\n",
        "#Decoding layers \n",
        "\n",
        "decoder_1= Dense(intermediate_dim, activation='elu')\n",
        "decoder_2=Dense(intermediate_dim, activation='elu')\n",
        "decoder_2d=Dropout(0.7)\n",
        "decoder_3=Dense(intermediate_dim, activation='elu')\n",
        "decoder_out=Dense(output_dim, activation='sigmoid')\n",
        "x_decoded_mean = decoder_out(decoder_3(decoder_2d(decoder_2(decoder_1(z)))))\n",
        "\n",
        "vae = Model(x, x_decoded_mean)\n",
        "\n",
        "#Potentially better results, but requires further hyperparameter tuning\n",
        "#optimizer=keras.optimizers.SGD(lr=0.005, momentum=0.001, decay=0.0, nesterov=False,clipvalue=0.05)\n",
        "vae.compile(optimizer=\"adam\", loss=vae_loss)"
      ],
      "execution_count": 0,
      "outputs": [
        {
          "output_type": "stream",
          "text": [
            "WARNING:tensorflow:From /usr/local/lib/python3.6/dist-packages/tensorflow/python/framework/op_def_library.py:263: colocate_with (from tensorflow.python.framework.ops) is deprecated and will be removed in a future version.\n",
            "Instructions for updating:\n",
            "Colocations handled automatically by placer.\n",
            "WARNING:tensorflow:From /usr/local/lib/python3.6/dist-packages/keras/backend/tensorflow_backend.py:3445: calling dropout (from tensorflow.python.ops.nn_ops) with keep_prob is deprecated and will be removed in a future version.\n",
            "Instructions for updating:\n",
            "Please use `rate` instead of `keep_prob`. Rate should be set to `rate = 1 - keep_prob`.\n"
          ],
          "name": "stdout"
        },
        {
          "output_type": "stream",
          "text": [
            "/usr/local/lib/python3.6/dist-packages/ipykernel_launcher.py:37: UserWarning: Update your `BatchNormalization` call to the Keras 2 API: `BatchNormalization()`\n"
          ],
          "name": "stderr"
        }
      ]
    },
    {
      "metadata": {
        "id": "5r3ylXCwuBFr",
        "colab_type": "text"
      },
      "cell_type": "markdown",
      "source": [
        "And run it through our training data."
      ]
    },
    {
      "metadata": {
        "scrolled": true,
        "id": "tq4Znb-guBFs",
        "colab_type": "code",
        "outputId": "77ecd4f3-5b17-4fb0-e096-ad12b56b0a79",
        "colab": {
          "base_uri": "https://localhost:8080/",
          "height": 26630
        }
      },
      "cell_type": "code",
      "source": [
        "x_train=training_data[:data_set_size] #this needs to be divisible by batch size and less than or equal to dataset size\n",
        "x_train = x_train.astype('float32')\n",
        "x_train = x_train.reshape((len(x_train), np.prod(x_train.shape[1:])))\n",
        "\n",
        "early_stopping = EarlyStopping(monitor='val_loss', patience=3)\n",
        "spearman_measure=rho_vs_mutants(test_data_plus,batch_size*int(len(test_data_plus)/batch_size),len(ORDER_LIST),PRUNED_SEQ_LENGTH)\n",
        "\n",
        "hist=vae.fit(x_train,x_train ,\n",
        "        shuffle=True,\n",
        "        nb_epoch=nb_epoch,\n",
        "        batch_size=batch_size, #sample_weight=np.array(new_weights),\n",
        "        validation_split=0.1,callbacks=[early_stopping,spearman_measure])"
      ],
      "execution_count": 0,
      "outputs": [
        {
          "output_type": "stream",
          "text": [
            "WARNING:tensorflow:From /usr/local/lib/python3.6/dist-packages/tensorflow/python/ops/math_ops.py:3066: to_int32 (from tensorflow.python.ops.math_ops) is deprecated and will be removed in a future version.\n",
            "Instructions for updating:\n",
            "Use tf.cast instead.\n"
          ],
          "name": "stdout"
        },
        {
          "output_type": "stream",
          "text": [
            "/usr/local/lib/python3.6/dist-packages/ipykernel_launcher.py:12: UserWarning: The `nb_epoch` argument in `fit` has been renamed `epochs`.\n",
            "  if sys.path[0] == '':\n"
          ],
          "name": "stderr"
        },
        {
          "output_type": "stream",
          "text": [
            "Train on 45000 samples, validate on 5000 samples\n",
            "Epoch 1/5\n",
            "45000/45000 [==============================] - 28s 629us/step - loss: 894388.1122 - val_loss: 955352.4777\n",
            ",SpearmanrResult(correlation=0.603064314065031, pvalue=1.111453429344444e-117)\n",
            "Epoch 2/5\n",
            "45000/45000 [==============================] - 27s 602us/step - loss: 851339.6695 - val_loss: 946662.1668\n",
            ",SpearmanrResult(correlation=0.6260321267965061, pvalue=2.7024888712496692e-129)\n",
            "Epoch 3/5\n",
            "45000/45000 [==============================] - 27s 605us/step - loss: 839846.7696 - val_loss: 937064.7220\n",
            ",SpearmanrResult(correlation=0.6368583919497144, pvalue=4.0940169202418e-135)\n",
            "Epoch 4/5\n",
            "45000/45000 [==============================] - 27s 604us/step - loss: 831890.6763 - val_loss: 935146.9000\n",
            ",SpearmanrResult(correlation=0.6188457298393754, pvalue=1.4774608724217293e-125)\n",
            "Epoch 5/5\n",
            "45000/45000 [==============================] - 27s 602us/step - loss: 826576.2961 - val_loss: 927106.3475\n"
          ],
          "name": "stdout"
        },
        {
          "output_type": "stream",
          "text": [
            "/content/helper_tools.py:101: RuntimeWarning: divide by zero encountered in log\n",
            "  log_prod_mat=np.log(prod_mat)\n",
            "/content/helper_tools.py:101: RuntimeWarning: divide by zero encountered in log\n",
            "  log_prod_mat=np.log(prod_mat)\n",
            "/content/helper_tools.py:101: RuntimeWarning: divide by zero encountered in log\n",
            "  log_prod_mat=np.log(prod_mat)\n",
            "/content/helper_tools.py:101: RuntimeWarning: divide by zero encountered in log\n",
            "  log_prod_mat=np.log(prod_mat)\n",
            "/content/helper_tools.py:101: RuntimeWarning: divide by zero encountered in log\n",
            "  log_prod_mat=np.log(prod_mat)\n",
            "/content/helper_tools.py:101: RuntimeWarning: divide by zero encountered in log\n",
            "  log_prod_mat=np.log(prod_mat)\n",
            "/content/helper_tools.py:101: RuntimeWarning: divide by zero encountered in log\n",
            "  log_prod_mat=np.log(prod_mat)\n",
            "/content/helper_tools.py:101: RuntimeWarning: divide by zero encountered in log\n",
            "  log_prod_mat=np.log(prod_mat)\n",
            "/content/helper_tools.py:101: RuntimeWarning: divide by zero encountered in log\n",
            "  log_prod_mat=np.log(prod_mat)\n",
            "/content/helper_tools.py:101: RuntimeWarning: divide by zero encountered in log\n",
            "  log_prod_mat=np.log(prod_mat)\n",
            "/content/helper_tools.py:101: RuntimeWarning: divide by zero encountered in log\n",
            "  log_prod_mat=np.log(prod_mat)\n",
            "/content/helper_tools.py:101: RuntimeWarning: divide by zero encountered in log\n",
            "  log_prod_mat=np.log(prod_mat)\n",
            "/content/helper_tools.py:101: RuntimeWarning: divide by zero encountered in log\n",
            "  log_prod_mat=np.log(prod_mat)\n",
            "/content/helper_tools.py:101: RuntimeWarning: divide by zero encountered in log\n",
            "  log_prod_mat=np.log(prod_mat)\n",
            "/content/helper_tools.py:101: RuntimeWarning: divide by zero encountered in log\n",
            "  log_prod_mat=np.log(prod_mat)\n",
            "/content/helper_tools.py:101: RuntimeWarning: divide by zero encountered in log\n",
            "  log_prod_mat=np.log(prod_mat)\n",
            "/content/helper_tools.py:101: RuntimeWarning: divide by zero encountered in log\n",
            "  log_prod_mat=np.log(prod_mat)\n",
            "/content/helper_tools.py:101: RuntimeWarning: divide by zero encountered in log\n",
            "  log_prod_mat=np.log(prod_mat)\n",
            "/content/helper_tools.py:101: RuntimeWarning: divide by zero encountered in log\n",
            "  log_prod_mat=np.log(prod_mat)\n",
            "/content/helper_tools.py:101: RuntimeWarning: divide by zero encountered in log\n",
            "  log_prod_mat=np.log(prod_mat)\n",
            "/content/helper_tools.py:101: RuntimeWarning: divide by zero encountered in log\n",
            "  log_prod_mat=np.log(prod_mat)\n",
            "/content/helper_tools.py:101: RuntimeWarning: divide by zero encountered in log\n",
            "  log_prod_mat=np.log(prod_mat)\n",
            "/content/helper_tools.py:101: RuntimeWarning: divide by zero encountered in log\n",
            "  log_prod_mat=np.log(prod_mat)\n",
            "/content/helper_tools.py:101: RuntimeWarning: divide by zero encountered in log\n",
            "  log_prod_mat=np.log(prod_mat)\n",
            "/content/helper_tools.py:101: RuntimeWarning: divide by zero encountered in log\n",
            "  log_prod_mat=np.log(prod_mat)\n",
            "/content/helper_tools.py:101: RuntimeWarning: divide by zero encountered in log\n",
            "  log_prod_mat=np.log(prod_mat)\n",
            "/content/helper_tools.py:101: RuntimeWarning: divide by zero encountered in log\n",
            "  log_prod_mat=np.log(prod_mat)\n",
            "/content/helper_tools.py:101: RuntimeWarning: divide by zero encountered in log\n",
            "  log_prod_mat=np.log(prod_mat)\n",
            "/content/helper_tools.py:101: RuntimeWarning: divide by zero encountered in log\n",
            "  log_prod_mat=np.log(prod_mat)\n",
            "/content/helper_tools.py:101: RuntimeWarning: divide by zero encountered in log\n",
            "  log_prod_mat=np.log(prod_mat)\n",
            "/content/helper_tools.py:101: RuntimeWarning: divide by zero encountered in log\n",
            "  log_prod_mat=np.log(prod_mat)\n",
            "/content/helper_tools.py:101: RuntimeWarning: divide by zero encountered in log\n",
            "  log_prod_mat=np.log(prod_mat)\n",
            "/content/helper_tools.py:101: RuntimeWarning: divide by zero encountered in log\n",
            "  log_prod_mat=np.log(prod_mat)\n",
            "/content/helper_tools.py:101: RuntimeWarning: divide by zero encountered in log\n",
            "  log_prod_mat=np.log(prod_mat)\n",
            "/content/helper_tools.py:101: RuntimeWarning: divide by zero encountered in log\n",
            "  log_prod_mat=np.log(prod_mat)\n",
            "/content/helper_tools.py:101: RuntimeWarning: divide by zero encountered in log\n",
            "  log_prod_mat=np.log(prod_mat)\n",
            "/content/helper_tools.py:101: RuntimeWarning: divide by zero encountered in log\n",
            "  log_prod_mat=np.log(prod_mat)\n",
            "/content/helper_tools.py:101: RuntimeWarning: divide by zero encountered in log\n",
            "  log_prod_mat=np.log(prod_mat)\n",
            "/content/helper_tools.py:101: RuntimeWarning: divide by zero encountered in log\n",
            "  log_prod_mat=np.log(prod_mat)\n",
            "/content/helper_tools.py:101: RuntimeWarning: divide by zero encountered in log\n",
            "  log_prod_mat=np.log(prod_mat)\n",
            "/content/helper_tools.py:101: RuntimeWarning: divide by zero encountered in log\n",
            "  log_prod_mat=np.log(prod_mat)\n",
            "/content/helper_tools.py:101: RuntimeWarning: divide by zero encountered in log\n",
            "  log_prod_mat=np.log(prod_mat)\n",
            "/content/helper_tools.py:101: RuntimeWarning: divide by zero encountered in log\n",
            "  log_prod_mat=np.log(prod_mat)\n",
            "/content/helper_tools.py:101: RuntimeWarning: divide by zero encountered in log\n",
            "  log_prod_mat=np.log(prod_mat)\n",
            "/content/helper_tools.py:101: RuntimeWarning: divide by zero encountered in log\n",
            "  log_prod_mat=np.log(prod_mat)\n",
            "/content/helper_tools.py:101: RuntimeWarning: divide by zero encountered in log\n",
            "  log_prod_mat=np.log(prod_mat)\n",
            "/content/helper_tools.py:101: RuntimeWarning: divide by zero encountered in log\n",
            "  log_prod_mat=np.log(prod_mat)\n",
            "/content/helper_tools.py:101: RuntimeWarning: divide by zero encountered in log\n",
            "  log_prod_mat=np.log(prod_mat)\n",
            "/content/helper_tools.py:101: RuntimeWarning: divide by zero encountered in log\n",
            "  log_prod_mat=np.log(prod_mat)\n",
            "/content/helper_tools.py:101: RuntimeWarning: divide by zero encountered in log\n",
            "  log_prod_mat=np.log(prod_mat)\n",
            "/content/helper_tools.py:101: RuntimeWarning: divide by zero encountered in log\n",
            "  log_prod_mat=np.log(prod_mat)\n",
            "/content/helper_tools.py:101: RuntimeWarning: divide by zero encountered in log\n",
            "  log_prod_mat=np.log(prod_mat)\n",
            "/content/helper_tools.py:101: RuntimeWarning: divide by zero encountered in log\n",
            "  log_prod_mat=np.log(prod_mat)\n",
            "/content/helper_tools.py:101: RuntimeWarning: divide by zero encountered in log\n",
            "  log_prod_mat=np.log(prod_mat)\n",
            "/content/helper_tools.py:101: RuntimeWarning: divide by zero encountered in log\n",
            "  log_prod_mat=np.log(prod_mat)\n",
            "/content/helper_tools.py:101: RuntimeWarning: divide by zero encountered in log\n",
            "  log_prod_mat=np.log(prod_mat)\n",
            "/content/helper_tools.py:101: RuntimeWarning: divide by zero encountered in log\n",
            "  log_prod_mat=np.log(prod_mat)\n",
            "/content/helper_tools.py:101: RuntimeWarning: divide by zero encountered in log\n",
            "  log_prod_mat=np.log(prod_mat)\n",
            "/content/helper_tools.py:101: RuntimeWarning: divide by zero encountered in log\n",
            "  log_prod_mat=np.log(prod_mat)\n",
            "/content/helper_tools.py:101: RuntimeWarning: divide by zero encountered in log\n",
            "  log_prod_mat=np.log(prod_mat)\n",
            "/content/helper_tools.py:101: RuntimeWarning: divide by zero encountered in log\n",
            "  log_prod_mat=np.log(prod_mat)\n",
            "/content/helper_tools.py:101: RuntimeWarning: divide by zero encountered in log\n",
            "  log_prod_mat=np.log(prod_mat)\n",
            "/content/helper_tools.py:101: RuntimeWarning: divide by zero encountered in log\n",
            "  log_prod_mat=np.log(prod_mat)\n",
            "/content/helper_tools.py:101: RuntimeWarning: divide by zero encountered in log\n",
            "  log_prod_mat=np.log(prod_mat)\n",
            "/content/helper_tools.py:101: RuntimeWarning: divide by zero encountered in log\n",
            "  log_prod_mat=np.log(prod_mat)\n",
            "/content/helper_tools.py:101: RuntimeWarning: divide by zero encountered in log\n",
            "  log_prod_mat=np.log(prod_mat)\n",
            "/content/helper_tools.py:101: RuntimeWarning: divide by zero encountered in log\n",
            "  log_prod_mat=np.log(prod_mat)\n",
            "/content/helper_tools.py:101: RuntimeWarning: divide by zero encountered in log\n",
            "  log_prod_mat=np.log(prod_mat)\n",
            "/content/helper_tools.py:101: RuntimeWarning: divide by zero encountered in log\n",
            "  log_prod_mat=np.log(prod_mat)\n",
            "/content/helper_tools.py:101: RuntimeWarning: divide by zero encountered in log\n",
            "  log_prod_mat=np.log(prod_mat)\n",
            "/content/helper_tools.py:101: RuntimeWarning: divide by zero encountered in log\n",
            "  log_prod_mat=np.log(prod_mat)\n",
            "/content/helper_tools.py:101: RuntimeWarning: divide by zero encountered in log\n",
            "  log_prod_mat=np.log(prod_mat)\n",
            "/content/helper_tools.py:101: RuntimeWarning: divide by zero encountered in log\n",
            "  log_prod_mat=np.log(prod_mat)\n",
            "/content/helper_tools.py:101: RuntimeWarning: divide by zero encountered in log\n",
            "  log_prod_mat=np.log(prod_mat)\n",
            "/content/helper_tools.py:101: RuntimeWarning: divide by zero encountered in log\n",
            "  log_prod_mat=np.log(prod_mat)\n",
            "/content/helper_tools.py:101: RuntimeWarning: divide by zero encountered in log\n",
            "  log_prod_mat=np.log(prod_mat)\n",
            "/content/helper_tools.py:101: RuntimeWarning: divide by zero encountered in log\n",
            "  log_prod_mat=np.log(prod_mat)\n",
            "/content/helper_tools.py:101: RuntimeWarning: divide by zero encountered in log\n",
            "  log_prod_mat=np.log(prod_mat)\n",
            "/content/helper_tools.py:101: RuntimeWarning: divide by zero encountered in log\n",
            "  log_prod_mat=np.log(prod_mat)\n",
            "/content/helper_tools.py:101: RuntimeWarning: divide by zero encountered in log\n",
            "  log_prod_mat=np.log(prod_mat)\n",
            "/content/helper_tools.py:101: RuntimeWarning: divide by zero encountered in log\n",
            "  log_prod_mat=np.log(prod_mat)\n",
            "/content/helper_tools.py:101: RuntimeWarning: divide by zero encountered in log\n",
            "  log_prod_mat=np.log(prod_mat)\n",
            "/content/helper_tools.py:101: RuntimeWarning: divide by zero encountered in log\n",
            "  log_prod_mat=np.log(prod_mat)\n",
            "/content/helper_tools.py:101: RuntimeWarning: divide by zero encountered in log\n",
            "  log_prod_mat=np.log(prod_mat)\n",
            "/content/helper_tools.py:101: RuntimeWarning: divide by zero encountered in log\n",
            "  log_prod_mat=np.log(prod_mat)\n",
            "/content/helper_tools.py:101: RuntimeWarning: divide by zero encountered in log\n",
            "  log_prod_mat=np.log(prod_mat)\n",
            "/content/helper_tools.py:101: RuntimeWarning: divide by zero encountered in log\n",
            "  log_prod_mat=np.log(prod_mat)\n",
            "/content/helper_tools.py:101: RuntimeWarning: divide by zero encountered in log\n",
            "  log_prod_mat=np.log(prod_mat)\n",
            "/content/helper_tools.py:101: RuntimeWarning: divide by zero encountered in log\n",
            "  log_prod_mat=np.log(prod_mat)\n",
            "/content/helper_tools.py:101: RuntimeWarning: divide by zero encountered in log\n",
            "  log_prod_mat=np.log(prod_mat)\n",
            "/content/helper_tools.py:101: RuntimeWarning: divide by zero encountered in log\n",
            "  log_prod_mat=np.log(prod_mat)\n",
            "/content/helper_tools.py:101: RuntimeWarning: divide by zero encountered in log\n",
            "  log_prod_mat=np.log(prod_mat)\n",
            "/content/helper_tools.py:101: RuntimeWarning: divide by zero encountered in log\n",
            "  log_prod_mat=np.log(prod_mat)\n",
            "/content/helper_tools.py:101: RuntimeWarning: divide by zero encountered in log\n",
            "  log_prod_mat=np.log(prod_mat)\n",
            "/content/helper_tools.py:101: RuntimeWarning: divide by zero encountered in log\n",
            "  log_prod_mat=np.log(prod_mat)\n",
            "/content/helper_tools.py:101: RuntimeWarning: divide by zero encountered in log\n",
            "  log_prod_mat=np.log(prod_mat)\n",
            "/content/helper_tools.py:101: RuntimeWarning: divide by zero encountered in log\n",
            "  log_prod_mat=np.log(prod_mat)\n",
            "/content/helper_tools.py:101: RuntimeWarning: divide by zero encountered in log\n",
            "  log_prod_mat=np.log(prod_mat)\n",
            "/content/helper_tools.py:101: RuntimeWarning: divide by zero encountered in log\n",
            "  log_prod_mat=np.log(prod_mat)\n",
            "/content/helper_tools.py:101: RuntimeWarning: divide by zero encountered in log\n",
            "  log_prod_mat=np.log(prod_mat)\n",
            "/content/helper_tools.py:101: RuntimeWarning: divide by zero encountered in log\n",
            "  log_prod_mat=np.log(prod_mat)\n",
            "/content/helper_tools.py:101: RuntimeWarning: divide by zero encountered in log\n",
            "  log_prod_mat=np.log(prod_mat)\n",
            "/content/helper_tools.py:101: RuntimeWarning: divide by zero encountered in log\n",
            "  log_prod_mat=np.log(prod_mat)\n",
            "/content/helper_tools.py:101: RuntimeWarning: divide by zero encountered in log\n",
            "  log_prod_mat=np.log(prod_mat)\n",
            "/content/helper_tools.py:101: RuntimeWarning: divide by zero encountered in log\n",
            "  log_prod_mat=np.log(prod_mat)\n",
            "/content/helper_tools.py:101: RuntimeWarning: divide by zero encountered in log\n",
            "  log_prod_mat=np.log(prod_mat)\n",
            "/content/helper_tools.py:101: RuntimeWarning: divide by zero encountered in log\n",
            "  log_prod_mat=np.log(prod_mat)\n",
            "/content/helper_tools.py:101: RuntimeWarning: divide by zero encountered in log\n",
            "  log_prod_mat=np.log(prod_mat)\n",
            "/content/helper_tools.py:101: RuntimeWarning: divide by zero encountered in log\n",
            "  log_prod_mat=np.log(prod_mat)\n",
            "/content/helper_tools.py:101: RuntimeWarning: divide by zero encountered in log\n",
            "  log_prod_mat=np.log(prod_mat)\n",
            "/content/helper_tools.py:101: RuntimeWarning: divide by zero encountered in log\n",
            "  log_prod_mat=np.log(prod_mat)\n",
            "/content/helper_tools.py:101: RuntimeWarning: divide by zero encountered in log\n",
            "  log_prod_mat=np.log(prod_mat)\n",
            "/content/helper_tools.py:101: RuntimeWarning: divide by zero encountered in log\n",
            "  log_prod_mat=np.log(prod_mat)\n",
            "/content/helper_tools.py:101: RuntimeWarning: divide by zero encountered in log\n",
            "  log_prod_mat=np.log(prod_mat)\n",
            "/content/helper_tools.py:101: RuntimeWarning: divide by zero encountered in log\n",
            "  log_prod_mat=np.log(prod_mat)\n",
            "/content/helper_tools.py:101: RuntimeWarning: divide by zero encountered in log\n",
            "  log_prod_mat=np.log(prod_mat)\n",
            "/content/helper_tools.py:101: RuntimeWarning: divide by zero encountered in log\n",
            "  log_prod_mat=np.log(prod_mat)\n",
            "/content/helper_tools.py:101: RuntimeWarning: divide by zero encountered in log\n",
            "  log_prod_mat=np.log(prod_mat)\n",
            "/content/helper_tools.py:101: RuntimeWarning: divide by zero encountered in log\n",
            "  log_prod_mat=np.log(prod_mat)\n",
            "/content/helper_tools.py:101: RuntimeWarning: divide by zero encountered in log\n",
            "  log_prod_mat=np.log(prod_mat)\n",
            "/content/helper_tools.py:101: RuntimeWarning: divide by zero encountered in log\n",
            "  log_prod_mat=np.log(prod_mat)\n",
            "/content/helper_tools.py:101: RuntimeWarning: divide by zero encountered in log\n",
            "  log_prod_mat=np.log(prod_mat)\n",
            "/content/helper_tools.py:101: RuntimeWarning: divide by zero encountered in log\n",
            "  log_prod_mat=np.log(prod_mat)\n",
            "/content/helper_tools.py:101: RuntimeWarning: divide by zero encountered in log\n",
            "  log_prod_mat=np.log(prod_mat)\n",
            "/content/helper_tools.py:101: RuntimeWarning: divide by zero encountered in log\n",
            "  log_prod_mat=np.log(prod_mat)\n",
            "/content/helper_tools.py:101: RuntimeWarning: divide by zero encountered in log\n",
            "  log_prod_mat=np.log(prod_mat)\n",
            "/content/helper_tools.py:101: RuntimeWarning: divide by zero encountered in log\n",
            "  log_prod_mat=np.log(prod_mat)\n",
            "/content/helper_tools.py:101: RuntimeWarning: divide by zero encountered in log\n",
            "  log_prod_mat=np.log(prod_mat)\n",
            "/content/helper_tools.py:101: RuntimeWarning: divide by zero encountered in log\n",
            "  log_prod_mat=np.log(prod_mat)\n",
            "/content/helper_tools.py:101: RuntimeWarning: divide by zero encountered in log\n",
            "  log_prod_mat=np.log(prod_mat)\n",
            "/content/helper_tools.py:101: RuntimeWarning: divide by zero encountered in log\n",
            "  log_prod_mat=np.log(prod_mat)\n",
            "/content/helper_tools.py:101: RuntimeWarning: divide by zero encountered in log\n",
            "  log_prod_mat=np.log(prod_mat)\n",
            "/content/helper_tools.py:101: RuntimeWarning: divide by zero encountered in log\n",
            "  log_prod_mat=np.log(prod_mat)\n",
            "/content/helper_tools.py:101: RuntimeWarning: divide by zero encountered in log\n",
            "  log_prod_mat=np.log(prod_mat)\n",
            "/content/helper_tools.py:101: RuntimeWarning: divide by zero encountered in log\n",
            "  log_prod_mat=np.log(prod_mat)\n",
            "/content/helper_tools.py:101: RuntimeWarning: divide by zero encountered in log\n",
            "  log_prod_mat=np.log(prod_mat)\n",
            "/content/helper_tools.py:101: RuntimeWarning: divide by zero encountered in log\n",
            "  log_prod_mat=np.log(prod_mat)\n",
            "/content/helper_tools.py:101: RuntimeWarning: divide by zero encountered in log\n",
            "  log_prod_mat=np.log(prod_mat)\n",
            "/content/helper_tools.py:101: RuntimeWarning: divide by zero encountered in log\n",
            "  log_prod_mat=np.log(prod_mat)\n",
            "/content/helper_tools.py:101: RuntimeWarning: divide by zero encountered in log\n",
            "  log_prod_mat=np.log(prod_mat)\n",
            "/content/helper_tools.py:101: RuntimeWarning: divide by zero encountered in log\n",
            "  log_prod_mat=np.log(prod_mat)\n",
            "/content/helper_tools.py:101: RuntimeWarning: divide by zero encountered in log\n",
            "  log_prod_mat=np.log(prod_mat)\n",
            "/content/helper_tools.py:101: RuntimeWarning: divide by zero encountered in log\n",
            "  log_prod_mat=np.log(prod_mat)\n",
            "/content/helper_tools.py:101: RuntimeWarning: divide by zero encountered in log\n",
            "  log_prod_mat=np.log(prod_mat)\n",
            "/content/helper_tools.py:101: RuntimeWarning: divide by zero encountered in log\n",
            "  log_prod_mat=np.log(prod_mat)\n",
            "/content/helper_tools.py:101: RuntimeWarning: divide by zero encountered in log\n",
            "  log_prod_mat=np.log(prod_mat)\n",
            "/content/helper_tools.py:101: RuntimeWarning: divide by zero encountered in log\n",
            "  log_prod_mat=np.log(prod_mat)\n",
            "/content/helper_tools.py:101: RuntimeWarning: divide by zero encountered in log\n",
            "  log_prod_mat=np.log(prod_mat)\n",
            "/content/helper_tools.py:101: RuntimeWarning: divide by zero encountered in log\n",
            "  log_prod_mat=np.log(prod_mat)\n",
            "/content/helper_tools.py:101: RuntimeWarning: divide by zero encountered in log\n",
            "  log_prod_mat=np.log(prod_mat)\n",
            "/content/helper_tools.py:101: RuntimeWarning: divide by zero encountered in log\n",
            "  log_prod_mat=np.log(prod_mat)\n",
            "/content/helper_tools.py:101: RuntimeWarning: divide by zero encountered in log\n",
            "  log_prod_mat=np.log(prod_mat)\n",
            "/content/helper_tools.py:101: RuntimeWarning: divide by zero encountered in log\n",
            "  log_prod_mat=np.log(prod_mat)\n",
            "/content/helper_tools.py:101: RuntimeWarning: divide by zero encountered in log\n",
            "  log_prod_mat=np.log(prod_mat)\n",
            "/content/helper_tools.py:101: RuntimeWarning: divide by zero encountered in log\n",
            "  log_prod_mat=np.log(prod_mat)\n",
            "/content/helper_tools.py:101: RuntimeWarning: divide by zero encountered in log\n",
            "  log_prod_mat=np.log(prod_mat)\n",
            "/content/helper_tools.py:101: RuntimeWarning: divide by zero encountered in log\n",
            "  log_prod_mat=np.log(prod_mat)\n",
            "/content/helper_tools.py:101: RuntimeWarning: divide by zero encountered in log\n",
            "  log_prod_mat=np.log(prod_mat)\n",
            "/content/helper_tools.py:101: RuntimeWarning: divide by zero encountered in log\n",
            "  log_prod_mat=np.log(prod_mat)\n",
            "/content/helper_tools.py:101: RuntimeWarning: divide by zero encountered in log\n",
            "  log_prod_mat=np.log(prod_mat)\n",
            "/content/helper_tools.py:101: RuntimeWarning: divide by zero encountered in log\n",
            "  log_prod_mat=np.log(prod_mat)\n",
            "/content/helper_tools.py:101: RuntimeWarning: divide by zero encountered in log\n",
            "  log_prod_mat=np.log(prod_mat)\n",
            "/content/helper_tools.py:101: RuntimeWarning: divide by zero encountered in log\n",
            "  log_prod_mat=np.log(prod_mat)\n",
            "/content/helper_tools.py:101: RuntimeWarning: divide by zero encountered in log\n",
            "  log_prod_mat=np.log(prod_mat)\n",
            "/content/helper_tools.py:101: RuntimeWarning: divide by zero encountered in log\n",
            "  log_prod_mat=np.log(prod_mat)\n",
            "/content/helper_tools.py:101: RuntimeWarning: divide by zero encountered in log\n",
            "  log_prod_mat=np.log(prod_mat)\n",
            "/content/helper_tools.py:101: RuntimeWarning: divide by zero encountered in log\n",
            "  log_prod_mat=np.log(prod_mat)\n",
            "/content/helper_tools.py:101: RuntimeWarning: divide by zero encountered in log\n",
            "  log_prod_mat=np.log(prod_mat)\n",
            "/content/helper_tools.py:101: RuntimeWarning: divide by zero encountered in log\n",
            "  log_prod_mat=np.log(prod_mat)\n",
            "/content/helper_tools.py:101: RuntimeWarning: divide by zero encountered in log\n",
            "  log_prod_mat=np.log(prod_mat)\n",
            "/content/helper_tools.py:101: RuntimeWarning: divide by zero encountered in log\n",
            "  log_prod_mat=np.log(prod_mat)\n",
            "/content/helper_tools.py:101: RuntimeWarning: divide by zero encountered in log\n",
            "  log_prod_mat=np.log(prod_mat)\n",
            "/content/helper_tools.py:101: RuntimeWarning: divide by zero encountered in log\n",
            "  log_prod_mat=np.log(prod_mat)\n",
            "/content/helper_tools.py:101: RuntimeWarning: divide by zero encountered in log\n",
            "  log_prod_mat=np.log(prod_mat)\n",
            "/content/helper_tools.py:101: RuntimeWarning: divide by zero encountered in log\n",
            "  log_prod_mat=np.log(prod_mat)\n",
            "/content/helper_tools.py:101: RuntimeWarning: divide by zero encountered in log\n",
            "  log_prod_mat=np.log(prod_mat)\n",
            "/content/helper_tools.py:101: RuntimeWarning: divide by zero encountered in log\n",
            "  log_prod_mat=np.log(prod_mat)\n",
            "/content/helper_tools.py:101: RuntimeWarning: divide by zero encountered in log\n",
            "  log_prod_mat=np.log(prod_mat)\n",
            "/content/helper_tools.py:101: RuntimeWarning: divide by zero encountered in log\n",
            "  log_prod_mat=np.log(prod_mat)\n",
            "/content/helper_tools.py:101: RuntimeWarning: divide by zero encountered in log\n",
            "  log_prod_mat=np.log(prod_mat)\n",
            "/content/helper_tools.py:101: RuntimeWarning: divide by zero encountered in log\n",
            "  log_prod_mat=np.log(prod_mat)\n",
            "/content/helper_tools.py:101: RuntimeWarning: divide by zero encountered in log\n",
            "  log_prod_mat=np.log(prod_mat)\n",
            "/content/helper_tools.py:101: RuntimeWarning: divide by zero encountered in log\n",
            "  log_prod_mat=np.log(prod_mat)\n",
            "/content/helper_tools.py:101: RuntimeWarning: divide by zero encountered in log\n",
            "  log_prod_mat=np.log(prod_mat)\n",
            "/content/helper_tools.py:101: RuntimeWarning: divide by zero encountered in log\n",
            "  log_prod_mat=np.log(prod_mat)\n",
            "/content/helper_tools.py:101: RuntimeWarning: divide by zero encountered in log\n",
            "  log_prod_mat=np.log(prod_mat)\n",
            "/content/helper_tools.py:101: RuntimeWarning: divide by zero encountered in log\n",
            "  log_prod_mat=np.log(prod_mat)\n",
            "/content/helper_tools.py:101: RuntimeWarning: divide by zero encountered in log\n",
            "  log_prod_mat=np.log(prod_mat)\n",
            "/content/helper_tools.py:101: RuntimeWarning: divide by zero encountered in log\n",
            "  log_prod_mat=np.log(prod_mat)\n",
            "/content/helper_tools.py:101: RuntimeWarning: divide by zero encountered in log\n",
            "  log_prod_mat=np.log(prod_mat)\n",
            "/content/helper_tools.py:101: RuntimeWarning: divide by zero encountered in log\n",
            "  log_prod_mat=np.log(prod_mat)\n",
            "/content/helper_tools.py:101: RuntimeWarning: divide by zero encountered in log\n",
            "  log_prod_mat=np.log(prod_mat)\n",
            "/content/helper_tools.py:101: RuntimeWarning: divide by zero encountered in log\n",
            "  log_prod_mat=np.log(prod_mat)\n",
            "/content/helper_tools.py:101: RuntimeWarning: divide by zero encountered in log\n",
            "  log_prod_mat=np.log(prod_mat)\n",
            "/content/helper_tools.py:101: RuntimeWarning: divide by zero encountered in log\n",
            "  log_prod_mat=np.log(prod_mat)\n",
            "/content/helper_tools.py:101: RuntimeWarning: divide by zero encountered in log\n",
            "  log_prod_mat=np.log(prod_mat)\n",
            "/content/helper_tools.py:101: RuntimeWarning: divide by zero encountered in log\n",
            "  log_prod_mat=np.log(prod_mat)\n",
            "/content/helper_tools.py:101: RuntimeWarning: divide by zero encountered in log\n",
            "  log_prod_mat=np.log(prod_mat)\n",
            "/content/helper_tools.py:101: RuntimeWarning: divide by zero encountered in log\n",
            "  log_prod_mat=np.log(prod_mat)\n",
            "/content/helper_tools.py:101: RuntimeWarning: divide by zero encountered in log\n",
            "  log_prod_mat=np.log(prod_mat)\n",
            "/content/helper_tools.py:101: RuntimeWarning: divide by zero encountered in log\n",
            "  log_prod_mat=np.log(prod_mat)\n",
            "/content/helper_tools.py:101: RuntimeWarning: divide by zero encountered in log\n",
            "  log_prod_mat=np.log(prod_mat)\n",
            "/content/helper_tools.py:101: RuntimeWarning: divide by zero encountered in log\n",
            "  log_prod_mat=np.log(prod_mat)\n",
            "/content/helper_tools.py:101: RuntimeWarning: divide by zero encountered in log\n",
            "  log_prod_mat=np.log(prod_mat)\n",
            "/content/helper_tools.py:101: RuntimeWarning: divide by zero encountered in log\n",
            "  log_prod_mat=np.log(prod_mat)\n",
            "/content/helper_tools.py:101: RuntimeWarning: divide by zero encountered in log\n",
            "  log_prod_mat=np.log(prod_mat)\n",
            "/content/helper_tools.py:101: RuntimeWarning: divide by zero encountered in log\n",
            "  log_prod_mat=np.log(prod_mat)\n",
            "/content/helper_tools.py:101: RuntimeWarning: divide by zero encountered in log\n",
            "  log_prod_mat=np.log(prod_mat)\n",
            "/content/helper_tools.py:101: RuntimeWarning: divide by zero encountered in log\n",
            "  log_prod_mat=np.log(prod_mat)\n",
            "/content/helper_tools.py:101: RuntimeWarning: divide by zero encountered in log\n",
            "  log_prod_mat=np.log(prod_mat)\n",
            "/content/helper_tools.py:101: RuntimeWarning: divide by zero encountered in log\n",
            "  log_prod_mat=np.log(prod_mat)\n",
            "/content/helper_tools.py:101: RuntimeWarning: divide by zero encountered in log\n",
            "  log_prod_mat=np.log(prod_mat)\n",
            "/content/helper_tools.py:101: RuntimeWarning: divide by zero encountered in log\n",
            "  log_prod_mat=np.log(prod_mat)\n",
            "/content/helper_tools.py:101: RuntimeWarning: divide by zero encountered in log\n",
            "  log_prod_mat=np.log(prod_mat)\n",
            "/content/helper_tools.py:101: RuntimeWarning: divide by zero encountered in log\n",
            "  log_prod_mat=np.log(prod_mat)\n",
            "/content/helper_tools.py:101: RuntimeWarning: divide by zero encountered in log\n",
            "  log_prod_mat=np.log(prod_mat)\n",
            "/content/helper_tools.py:101: RuntimeWarning: divide by zero encountered in log\n",
            "  log_prod_mat=np.log(prod_mat)\n",
            "/content/helper_tools.py:101: RuntimeWarning: divide by zero encountered in log\n",
            "  log_prod_mat=np.log(prod_mat)\n",
            "/content/helper_tools.py:101: RuntimeWarning: divide by zero encountered in log\n",
            "  log_prod_mat=np.log(prod_mat)\n",
            "/content/helper_tools.py:101: RuntimeWarning: divide by zero encountered in log\n",
            "  log_prod_mat=np.log(prod_mat)\n",
            "/content/helper_tools.py:101: RuntimeWarning: divide by zero encountered in log\n",
            "  log_prod_mat=np.log(prod_mat)\n",
            "/content/helper_tools.py:101: RuntimeWarning: divide by zero encountered in log\n",
            "  log_prod_mat=np.log(prod_mat)\n",
            "/content/helper_tools.py:101: RuntimeWarning: divide by zero encountered in log\n",
            "  log_prod_mat=np.log(prod_mat)\n",
            "/content/helper_tools.py:101: RuntimeWarning: divide by zero encountered in log\n",
            "  log_prod_mat=np.log(prod_mat)\n",
            "/content/helper_tools.py:101: RuntimeWarning: divide by zero encountered in log\n",
            "  log_prod_mat=np.log(prod_mat)\n",
            "/content/helper_tools.py:101: RuntimeWarning: divide by zero encountered in log\n",
            "  log_prod_mat=np.log(prod_mat)\n",
            "/content/helper_tools.py:101: RuntimeWarning: divide by zero encountered in log\n",
            "  log_prod_mat=np.log(prod_mat)\n",
            "/content/helper_tools.py:101: RuntimeWarning: divide by zero encountered in log\n",
            "  log_prod_mat=np.log(prod_mat)\n",
            "/content/helper_tools.py:101: RuntimeWarning: divide by zero encountered in log\n",
            "  log_prod_mat=np.log(prod_mat)\n",
            "/content/helper_tools.py:101: RuntimeWarning: divide by zero encountered in log\n",
            "  log_prod_mat=np.log(prod_mat)\n",
            "/content/helper_tools.py:101: RuntimeWarning: divide by zero encountered in log\n",
            "  log_prod_mat=np.log(prod_mat)\n",
            "/content/helper_tools.py:101: RuntimeWarning: divide by zero encountered in log\n",
            "  log_prod_mat=np.log(prod_mat)\n",
            "/content/helper_tools.py:101: RuntimeWarning: divide by zero encountered in log\n",
            "  log_prod_mat=np.log(prod_mat)\n",
            "/content/helper_tools.py:101: RuntimeWarning: divide by zero encountered in log\n",
            "  log_prod_mat=np.log(prod_mat)\n",
            "/content/helper_tools.py:101: RuntimeWarning: divide by zero encountered in log\n",
            "  log_prod_mat=np.log(prod_mat)\n",
            "/content/helper_tools.py:101: RuntimeWarning: divide by zero encountered in log\n",
            "  log_prod_mat=np.log(prod_mat)\n",
            "/content/helper_tools.py:101: RuntimeWarning: divide by zero encountered in log\n",
            "  log_prod_mat=np.log(prod_mat)\n",
            "/content/helper_tools.py:101: RuntimeWarning: divide by zero encountered in log\n",
            "  log_prod_mat=np.log(prod_mat)\n",
            "/content/helper_tools.py:101: RuntimeWarning: divide by zero encountered in log\n",
            "  log_prod_mat=np.log(prod_mat)\n",
            "/content/helper_tools.py:101: RuntimeWarning: divide by zero encountered in log\n",
            "  log_prod_mat=np.log(prod_mat)\n",
            "/content/helper_tools.py:101: RuntimeWarning: divide by zero encountered in log\n",
            "  log_prod_mat=np.log(prod_mat)\n",
            "/content/helper_tools.py:101: RuntimeWarning: divide by zero encountered in log\n",
            "  log_prod_mat=np.log(prod_mat)\n",
            "/content/helper_tools.py:101: RuntimeWarning: divide by zero encountered in log\n",
            "  log_prod_mat=np.log(prod_mat)\n",
            "/content/helper_tools.py:101: RuntimeWarning: divide by zero encountered in log\n",
            "  log_prod_mat=np.log(prod_mat)\n",
            "/content/helper_tools.py:101: RuntimeWarning: divide by zero encountered in log\n",
            "  log_prod_mat=np.log(prod_mat)\n",
            "/content/helper_tools.py:101: RuntimeWarning: divide by zero encountered in log\n",
            "  log_prod_mat=np.log(prod_mat)\n",
            "/content/helper_tools.py:101: RuntimeWarning: divide by zero encountered in log\n",
            "  log_prod_mat=np.log(prod_mat)\n",
            "/content/helper_tools.py:101: RuntimeWarning: divide by zero encountered in log\n",
            "  log_prod_mat=np.log(prod_mat)\n",
            "/content/helper_tools.py:101: RuntimeWarning: divide by zero encountered in log\n",
            "  log_prod_mat=np.log(prod_mat)\n",
            "/content/helper_tools.py:101: RuntimeWarning: divide by zero encountered in log\n",
            "  log_prod_mat=np.log(prod_mat)\n",
            "/content/helper_tools.py:101: RuntimeWarning: divide by zero encountered in log\n",
            "  log_prod_mat=np.log(prod_mat)\n",
            "/content/helper_tools.py:101: RuntimeWarning: divide by zero encountered in log\n",
            "  log_prod_mat=np.log(prod_mat)\n",
            "/content/helper_tools.py:101: RuntimeWarning: divide by zero encountered in log\n",
            "  log_prod_mat=np.log(prod_mat)\n",
            "/content/helper_tools.py:101: RuntimeWarning: divide by zero encountered in log\n",
            "  log_prod_mat=np.log(prod_mat)\n",
            "/content/helper_tools.py:101: RuntimeWarning: divide by zero encountered in log\n",
            "  log_prod_mat=np.log(prod_mat)\n",
            "/content/helper_tools.py:101: RuntimeWarning: divide by zero encountered in log\n",
            "  log_prod_mat=np.log(prod_mat)\n",
            "/content/helper_tools.py:101: RuntimeWarning: divide by zero encountered in log\n",
            "  log_prod_mat=np.log(prod_mat)\n",
            "/content/helper_tools.py:101: RuntimeWarning: divide by zero encountered in log\n",
            "  log_prod_mat=np.log(prod_mat)\n",
            "/content/helper_tools.py:101: RuntimeWarning: divide by zero encountered in log\n",
            "  log_prod_mat=np.log(prod_mat)\n",
            "/content/helper_tools.py:101: RuntimeWarning: divide by zero encountered in log\n",
            "  log_prod_mat=np.log(prod_mat)\n",
            "/content/helper_tools.py:101: RuntimeWarning: divide by zero encountered in log\n",
            "  log_prod_mat=np.log(prod_mat)\n",
            "/content/helper_tools.py:101: RuntimeWarning: divide by zero encountered in log\n",
            "  log_prod_mat=np.log(prod_mat)\n",
            "/content/helper_tools.py:101: RuntimeWarning: divide by zero encountered in log\n",
            "  log_prod_mat=np.log(prod_mat)\n",
            "/content/helper_tools.py:101: RuntimeWarning: divide by zero encountered in log\n",
            "  log_prod_mat=np.log(prod_mat)\n",
            "/content/helper_tools.py:101: RuntimeWarning: divide by zero encountered in log\n",
            "  log_prod_mat=np.log(prod_mat)\n",
            "/content/helper_tools.py:101: RuntimeWarning: divide by zero encountered in log\n",
            "  log_prod_mat=np.log(prod_mat)\n",
            "/content/helper_tools.py:101: RuntimeWarning: divide by zero encountered in log\n",
            "  log_prod_mat=np.log(prod_mat)\n",
            "/content/helper_tools.py:101: RuntimeWarning: divide by zero encountered in log\n",
            "  log_prod_mat=np.log(prod_mat)\n",
            "/content/helper_tools.py:101: RuntimeWarning: divide by zero encountered in log\n",
            "  log_prod_mat=np.log(prod_mat)\n",
            "/content/helper_tools.py:101: RuntimeWarning: divide by zero encountered in log\n",
            "  log_prod_mat=np.log(prod_mat)\n",
            "/content/helper_tools.py:101: RuntimeWarning: divide by zero encountered in log\n",
            "  log_prod_mat=np.log(prod_mat)\n",
            "/content/helper_tools.py:101: RuntimeWarning: divide by zero encountered in log\n",
            "  log_prod_mat=np.log(prod_mat)\n",
            "/content/helper_tools.py:101: RuntimeWarning: divide by zero encountered in log\n",
            "  log_prod_mat=np.log(prod_mat)\n",
            "/content/helper_tools.py:101: RuntimeWarning: divide by zero encountered in log\n",
            "  log_prod_mat=np.log(prod_mat)\n",
            "/content/helper_tools.py:101: RuntimeWarning: divide by zero encountered in log\n",
            "  log_prod_mat=np.log(prod_mat)\n",
            "/content/helper_tools.py:101: RuntimeWarning: divide by zero encountered in log\n",
            "  log_prod_mat=np.log(prod_mat)\n",
            "/content/helper_tools.py:101: RuntimeWarning: divide by zero encountered in log\n",
            "  log_prod_mat=np.log(prod_mat)\n",
            "/content/helper_tools.py:101: RuntimeWarning: divide by zero encountered in log\n",
            "  log_prod_mat=np.log(prod_mat)\n",
            "/content/helper_tools.py:101: RuntimeWarning: divide by zero encountered in log\n",
            "  log_prod_mat=np.log(prod_mat)\n",
            "/content/helper_tools.py:101: RuntimeWarning: divide by zero encountered in log\n",
            "  log_prod_mat=np.log(prod_mat)\n",
            "/content/helper_tools.py:101: RuntimeWarning: divide by zero encountered in log\n",
            "  log_prod_mat=np.log(prod_mat)\n",
            "/content/helper_tools.py:101: RuntimeWarning: divide by zero encountered in log\n",
            "  log_prod_mat=np.log(prod_mat)\n",
            "/content/helper_tools.py:101: RuntimeWarning: divide by zero encountered in log\n",
            "  log_prod_mat=np.log(prod_mat)\n",
            "/content/helper_tools.py:101: RuntimeWarning: divide by zero encountered in log\n",
            "  log_prod_mat=np.log(prod_mat)\n",
            "/content/helper_tools.py:101: RuntimeWarning: divide by zero encountered in log\n",
            "  log_prod_mat=np.log(prod_mat)\n",
            "/content/helper_tools.py:101: RuntimeWarning: divide by zero encountered in log\n",
            "  log_prod_mat=np.log(prod_mat)\n",
            "/content/helper_tools.py:101: RuntimeWarning: divide by zero encountered in log\n",
            "  log_prod_mat=np.log(prod_mat)\n",
            "/content/helper_tools.py:101: RuntimeWarning: divide by zero encountered in log\n",
            "  log_prod_mat=np.log(prod_mat)\n",
            "/content/helper_tools.py:101: RuntimeWarning: divide by zero encountered in log\n",
            "  log_prod_mat=np.log(prod_mat)\n",
            "/content/helper_tools.py:101: RuntimeWarning: divide by zero encountered in log\n",
            "  log_prod_mat=np.log(prod_mat)\n",
            "/content/helper_tools.py:101: RuntimeWarning: divide by zero encountered in log\n",
            "  log_prod_mat=np.log(prod_mat)\n",
            "/content/helper_tools.py:101: RuntimeWarning: divide by zero encountered in log\n",
            "  log_prod_mat=np.log(prod_mat)\n",
            "/content/helper_tools.py:101: RuntimeWarning: divide by zero encountered in log\n",
            "  log_prod_mat=np.log(prod_mat)\n",
            "/content/helper_tools.py:101: RuntimeWarning: divide by zero encountered in log\n",
            "  log_prod_mat=np.log(prod_mat)\n",
            "/content/helper_tools.py:101: RuntimeWarning: divide by zero encountered in log\n",
            "  log_prod_mat=np.log(prod_mat)\n",
            "/content/helper_tools.py:101: RuntimeWarning: divide by zero encountered in log\n",
            "  log_prod_mat=np.log(prod_mat)\n",
            "/content/helper_tools.py:101: RuntimeWarning: divide by zero encountered in log\n",
            "  log_prod_mat=np.log(prod_mat)\n",
            "/content/helper_tools.py:101: RuntimeWarning: divide by zero encountered in log\n",
            "  log_prod_mat=np.log(prod_mat)\n",
            "/content/helper_tools.py:101: RuntimeWarning: divide by zero encountered in log\n",
            "  log_prod_mat=np.log(prod_mat)\n",
            "/content/helper_tools.py:101: RuntimeWarning: divide by zero encountered in log\n",
            "  log_prod_mat=np.log(prod_mat)\n",
            "/content/helper_tools.py:101: RuntimeWarning: divide by zero encountered in log\n",
            "  log_prod_mat=np.log(prod_mat)\n",
            "/content/helper_tools.py:101: RuntimeWarning: divide by zero encountered in log\n",
            "  log_prod_mat=np.log(prod_mat)\n",
            "/content/helper_tools.py:101: RuntimeWarning: divide by zero encountered in log\n",
            "  log_prod_mat=np.log(prod_mat)\n",
            "/content/helper_tools.py:101: RuntimeWarning: divide by zero encountered in log\n",
            "  log_prod_mat=np.log(prod_mat)\n",
            "/content/helper_tools.py:101: RuntimeWarning: divide by zero encountered in log\n",
            "  log_prod_mat=np.log(prod_mat)\n",
            "/content/helper_tools.py:101: RuntimeWarning: divide by zero encountered in log\n",
            "  log_prod_mat=np.log(prod_mat)\n",
            "/content/helper_tools.py:101: RuntimeWarning: divide by zero encountered in log\n",
            "  log_prod_mat=np.log(prod_mat)\n",
            "/content/helper_tools.py:101: RuntimeWarning: divide by zero encountered in log\n",
            "  log_prod_mat=np.log(prod_mat)\n",
            "/content/helper_tools.py:101: RuntimeWarning: divide by zero encountered in log\n",
            "  log_prod_mat=np.log(prod_mat)\n",
            "/content/helper_tools.py:101: RuntimeWarning: divide by zero encountered in log\n",
            "  log_prod_mat=np.log(prod_mat)\n",
            "/content/helper_tools.py:101: RuntimeWarning: divide by zero encountered in log\n",
            "  log_prod_mat=np.log(prod_mat)\n",
            "/content/helper_tools.py:101: RuntimeWarning: divide by zero encountered in log\n",
            "  log_prod_mat=np.log(prod_mat)\n",
            "/content/helper_tools.py:101: RuntimeWarning: divide by zero encountered in log\n",
            "  log_prod_mat=np.log(prod_mat)\n",
            "/content/helper_tools.py:101: RuntimeWarning: divide by zero encountered in log\n",
            "  log_prod_mat=np.log(prod_mat)\n",
            "/content/helper_tools.py:101: RuntimeWarning: divide by zero encountered in log\n",
            "  log_prod_mat=np.log(prod_mat)\n",
            "/content/helper_tools.py:101: RuntimeWarning: divide by zero encountered in log\n",
            "  log_prod_mat=np.log(prod_mat)\n",
            "/content/helper_tools.py:101: RuntimeWarning: divide by zero encountered in log\n",
            "  log_prod_mat=np.log(prod_mat)\n",
            "/content/helper_tools.py:101: RuntimeWarning: divide by zero encountered in log\n",
            "  log_prod_mat=np.log(prod_mat)\n",
            "/content/helper_tools.py:101: RuntimeWarning: divide by zero encountered in log\n",
            "  log_prod_mat=np.log(prod_mat)\n",
            "/content/helper_tools.py:101: RuntimeWarning: divide by zero encountered in log\n",
            "  log_prod_mat=np.log(prod_mat)\n",
            "/content/helper_tools.py:101: RuntimeWarning: divide by zero encountered in log\n",
            "  log_prod_mat=np.log(prod_mat)\n",
            "/content/helper_tools.py:101: RuntimeWarning: divide by zero encountered in log\n",
            "  log_prod_mat=np.log(prod_mat)\n",
            "/content/helper_tools.py:101: RuntimeWarning: divide by zero encountered in log\n",
            "  log_prod_mat=np.log(prod_mat)\n",
            "/content/helper_tools.py:101: RuntimeWarning: divide by zero encountered in log\n",
            "  log_prod_mat=np.log(prod_mat)\n",
            "/content/helper_tools.py:101: RuntimeWarning: divide by zero encountered in log\n",
            "  log_prod_mat=np.log(prod_mat)\n",
            "/content/helper_tools.py:101: RuntimeWarning: divide by zero encountered in log\n",
            "  log_prod_mat=np.log(prod_mat)\n",
            "/content/helper_tools.py:101: RuntimeWarning: divide by zero encountered in log\n",
            "  log_prod_mat=np.log(prod_mat)\n",
            "/content/helper_tools.py:101: RuntimeWarning: divide by zero encountered in log\n",
            "  log_prod_mat=np.log(prod_mat)\n",
            "/content/helper_tools.py:101: RuntimeWarning: divide by zero encountered in log\n",
            "  log_prod_mat=np.log(prod_mat)\n",
            "/content/helper_tools.py:101: RuntimeWarning: divide by zero encountered in log\n",
            "  log_prod_mat=np.log(prod_mat)\n",
            "/content/helper_tools.py:101: RuntimeWarning: divide by zero encountered in log\n",
            "  log_prod_mat=np.log(prod_mat)\n",
            "/content/helper_tools.py:101: RuntimeWarning: divide by zero encountered in log\n",
            "  log_prod_mat=np.log(prod_mat)\n",
            "/content/helper_tools.py:101: RuntimeWarning: divide by zero encountered in log\n",
            "  log_prod_mat=np.log(prod_mat)\n",
            "/content/helper_tools.py:101: RuntimeWarning: divide by zero encountered in log\n",
            "  log_prod_mat=np.log(prod_mat)\n",
            "/content/helper_tools.py:101: RuntimeWarning: divide by zero encountered in log\n",
            "  log_prod_mat=np.log(prod_mat)\n",
            "/content/helper_tools.py:101: RuntimeWarning: divide by zero encountered in log\n",
            "  log_prod_mat=np.log(prod_mat)\n",
            "/content/helper_tools.py:101: RuntimeWarning: divide by zero encountered in log\n",
            "  log_prod_mat=np.log(prod_mat)\n",
            "/content/helper_tools.py:101: RuntimeWarning: divide by zero encountered in log\n",
            "  log_prod_mat=np.log(prod_mat)\n",
            "/content/helper_tools.py:101: RuntimeWarning: divide by zero encountered in log\n",
            "  log_prod_mat=np.log(prod_mat)\n",
            "/content/helper_tools.py:101: RuntimeWarning: divide by zero encountered in log\n",
            "  log_prod_mat=np.log(prod_mat)\n",
            "/content/helper_tools.py:101: RuntimeWarning: divide by zero encountered in log\n",
            "  log_prod_mat=np.log(prod_mat)\n",
            "/content/helper_tools.py:101: RuntimeWarning: divide by zero encountered in log\n",
            "  log_prod_mat=np.log(prod_mat)\n",
            "/content/helper_tools.py:101: RuntimeWarning: divide by zero encountered in log\n",
            "  log_prod_mat=np.log(prod_mat)\n",
            "/content/helper_tools.py:101: RuntimeWarning: divide by zero encountered in log\n",
            "  log_prod_mat=np.log(prod_mat)\n",
            "/content/helper_tools.py:101: RuntimeWarning: divide by zero encountered in log\n",
            "  log_prod_mat=np.log(prod_mat)\n",
            "/content/helper_tools.py:101: RuntimeWarning: divide by zero encountered in log\n",
            "  log_prod_mat=np.log(prod_mat)\n",
            "/content/helper_tools.py:101: RuntimeWarning: divide by zero encountered in log\n",
            "  log_prod_mat=np.log(prod_mat)\n",
            "/content/helper_tools.py:101: RuntimeWarning: divide by zero encountered in log\n",
            "  log_prod_mat=np.log(prod_mat)\n",
            "/content/helper_tools.py:101: RuntimeWarning: divide by zero encountered in log\n",
            "  log_prod_mat=np.log(prod_mat)\n",
            "/content/helper_tools.py:101: RuntimeWarning: divide by zero encountered in log\n",
            "  log_prod_mat=np.log(prod_mat)\n",
            "/content/helper_tools.py:101: RuntimeWarning: divide by zero encountered in log\n",
            "  log_prod_mat=np.log(prod_mat)\n",
            "/content/helper_tools.py:101: RuntimeWarning: divide by zero encountered in log\n",
            "  log_prod_mat=np.log(prod_mat)\n",
            "/content/helper_tools.py:101: RuntimeWarning: divide by zero encountered in log\n",
            "  log_prod_mat=np.log(prod_mat)\n",
            "/content/helper_tools.py:101: RuntimeWarning: divide by zero encountered in log\n",
            "  log_prod_mat=np.log(prod_mat)\n",
            "/content/helper_tools.py:101: RuntimeWarning: divide by zero encountered in log\n",
            "  log_prod_mat=np.log(prod_mat)\n",
            "/content/helper_tools.py:101: RuntimeWarning: divide by zero encountered in log\n",
            "  log_prod_mat=np.log(prod_mat)\n",
            "/content/helper_tools.py:101: RuntimeWarning: divide by zero encountered in log\n",
            "  log_prod_mat=np.log(prod_mat)\n",
            "/content/helper_tools.py:101: RuntimeWarning: divide by zero encountered in log\n",
            "  log_prod_mat=np.log(prod_mat)\n",
            "/content/helper_tools.py:101: RuntimeWarning: divide by zero encountered in log\n",
            "  log_prod_mat=np.log(prod_mat)\n",
            "/content/helper_tools.py:101: RuntimeWarning: divide by zero encountered in log\n",
            "  log_prod_mat=np.log(prod_mat)\n",
            "/content/helper_tools.py:101: RuntimeWarning: divide by zero encountered in log\n",
            "  log_prod_mat=np.log(prod_mat)\n",
            "/content/helper_tools.py:101: RuntimeWarning: divide by zero encountered in log\n",
            "  log_prod_mat=np.log(prod_mat)\n",
            "/content/helper_tools.py:101: RuntimeWarning: divide by zero encountered in log\n",
            "  log_prod_mat=np.log(prod_mat)\n",
            "/content/helper_tools.py:101: RuntimeWarning: divide by zero encountered in log\n",
            "  log_prod_mat=np.log(prod_mat)\n",
            "/content/helper_tools.py:101: RuntimeWarning: divide by zero encountered in log\n",
            "  log_prod_mat=np.log(prod_mat)\n",
            "/content/helper_tools.py:101: RuntimeWarning: divide by zero encountered in log\n",
            "  log_prod_mat=np.log(prod_mat)\n",
            "/content/helper_tools.py:101: RuntimeWarning: divide by zero encountered in log\n",
            "  log_prod_mat=np.log(prod_mat)\n",
            "/content/helper_tools.py:101: RuntimeWarning: divide by zero encountered in log\n",
            "  log_prod_mat=np.log(prod_mat)\n",
            "/content/helper_tools.py:101: RuntimeWarning: divide by zero encountered in log\n",
            "  log_prod_mat=np.log(prod_mat)\n",
            "/content/helper_tools.py:101: RuntimeWarning: divide by zero encountered in log\n",
            "  log_prod_mat=np.log(prod_mat)\n",
            "/content/helper_tools.py:101: RuntimeWarning: divide by zero encountered in log\n",
            "  log_prod_mat=np.log(prod_mat)\n",
            "/content/helper_tools.py:101: RuntimeWarning: divide by zero encountered in log\n",
            "  log_prod_mat=np.log(prod_mat)\n",
            "/content/helper_tools.py:101: RuntimeWarning: divide by zero encountered in log\n",
            "  log_prod_mat=np.log(prod_mat)\n",
            "/content/helper_tools.py:101: RuntimeWarning: divide by zero encountered in log\n",
            "  log_prod_mat=np.log(prod_mat)\n",
            "/content/helper_tools.py:101: RuntimeWarning: divide by zero encountered in log\n",
            "  log_prod_mat=np.log(prod_mat)\n",
            "/content/helper_tools.py:101: RuntimeWarning: divide by zero encountered in log\n",
            "  log_prod_mat=np.log(prod_mat)\n",
            "/content/helper_tools.py:101: RuntimeWarning: divide by zero encountered in log\n",
            "  log_prod_mat=np.log(prod_mat)\n",
            "/content/helper_tools.py:101: RuntimeWarning: divide by zero encountered in log\n",
            "  log_prod_mat=np.log(prod_mat)\n",
            "/content/helper_tools.py:101: RuntimeWarning: divide by zero encountered in log\n",
            "  log_prod_mat=np.log(prod_mat)\n",
            "/content/helper_tools.py:101: RuntimeWarning: divide by zero encountered in log\n",
            "  log_prod_mat=np.log(prod_mat)\n",
            "/content/helper_tools.py:101: RuntimeWarning: divide by zero encountered in log\n",
            "  log_prod_mat=np.log(prod_mat)\n",
            "/content/helper_tools.py:101: RuntimeWarning: divide by zero encountered in log\n",
            "  log_prod_mat=np.log(prod_mat)\n",
            "/content/helper_tools.py:101: RuntimeWarning: divide by zero encountered in log\n",
            "  log_prod_mat=np.log(prod_mat)\n",
            "/content/helper_tools.py:101: RuntimeWarning: divide by zero encountered in log\n",
            "  log_prod_mat=np.log(prod_mat)\n",
            "/content/helper_tools.py:101: RuntimeWarning: divide by zero encountered in log\n",
            "  log_prod_mat=np.log(prod_mat)\n",
            "/content/helper_tools.py:101: RuntimeWarning: divide by zero encountered in log\n",
            "  log_prod_mat=np.log(prod_mat)\n",
            "/content/helper_tools.py:101: RuntimeWarning: divide by zero encountered in log\n",
            "  log_prod_mat=np.log(prod_mat)\n",
            "/content/helper_tools.py:101: RuntimeWarning: divide by zero encountered in log\n",
            "  log_prod_mat=np.log(prod_mat)\n",
            "/content/helper_tools.py:101: RuntimeWarning: divide by zero encountered in log\n",
            "  log_prod_mat=np.log(prod_mat)\n",
            "/content/helper_tools.py:101: RuntimeWarning: divide by zero encountered in log\n",
            "  log_prod_mat=np.log(prod_mat)\n",
            "/content/helper_tools.py:101: RuntimeWarning: divide by zero encountered in log\n",
            "  log_prod_mat=np.log(prod_mat)\n",
            "/content/helper_tools.py:101: RuntimeWarning: divide by zero encountered in log\n",
            "  log_prod_mat=np.log(prod_mat)\n",
            "/content/helper_tools.py:101: RuntimeWarning: divide by zero encountered in log\n",
            "  log_prod_mat=np.log(prod_mat)\n",
            "/content/helper_tools.py:101: RuntimeWarning: divide by zero encountered in log\n",
            "  log_prod_mat=np.log(prod_mat)\n",
            "/content/helper_tools.py:101: RuntimeWarning: divide by zero encountered in log\n",
            "  log_prod_mat=np.log(prod_mat)\n",
            "/content/helper_tools.py:101: RuntimeWarning: divide by zero encountered in log\n",
            "  log_prod_mat=np.log(prod_mat)\n",
            "/content/helper_tools.py:101: RuntimeWarning: divide by zero encountered in log\n",
            "  log_prod_mat=np.log(prod_mat)\n",
            "/content/helper_tools.py:101: RuntimeWarning: divide by zero encountered in log\n",
            "  log_prod_mat=np.log(prod_mat)\n",
            "/content/helper_tools.py:101: RuntimeWarning: divide by zero encountered in log\n",
            "  log_prod_mat=np.log(prod_mat)\n",
            "/content/helper_tools.py:101: RuntimeWarning: divide by zero encountered in log\n",
            "  log_prod_mat=np.log(prod_mat)\n",
            "/content/helper_tools.py:101: RuntimeWarning: divide by zero encountered in log\n",
            "  log_prod_mat=np.log(prod_mat)\n",
            "/content/helper_tools.py:101: RuntimeWarning: divide by zero encountered in log\n",
            "  log_prod_mat=np.log(prod_mat)\n",
            "/content/helper_tools.py:101: RuntimeWarning: divide by zero encountered in log\n",
            "  log_prod_mat=np.log(prod_mat)\n",
            "/content/helper_tools.py:101: RuntimeWarning: divide by zero encountered in log\n",
            "  log_prod_mat=np.log(prod_mat)\n",
            "/content/helper_tools.py:101: RuntimeWarning: divide by zero encountered in log\n",
            "  log_prod_mat=np.log(prod_mat)\n",
            "/content/helper_tools.py:101: RuntimeWarning: divide by zero encountered in log\n",
            "  log_prod_mat=np.log(prod_mat)\n",
            "/content/helper_tools.py:101: RuntimeWarning: divide by zero encountered in log\n",
            "  log_prod_mat=np.log(prod_mat)\n",
            "/content/helper_tools.py:101: RuntimeWarning: divide by zero encountered in log\n",
            "  log_prod_mat=np.log(prod_mat)\n",
            "/content/helper_tools.py:101: RuntimeWarning: divide by zero encountered in log\n",
            "  log_prod_mat=np.log(prod_mat)\n",
            "/content/helper_tools.py:101: RuntimeWarning: divide by zero encountered in log\n",
            "  log_prod_mat=np.log(prod_mat)\n",
            "/content/helper_tools.py:101: RuntimeWarning: divide by zero encountered in log\n",
            "  log_prod_mat=np.log(prod_mat)\n",
            "/content/helper_tools.py:101: RuntimeWarning: divide by zero encountered in log\n",
            "  log_prod_mat=np.log(prod_mat)\n",
            "/content/helper_tools.py:101: RuntimeWarning: divide by zero encountered in log\n",
            "  log_prod_mat=np.log(prod_mat)\n",
            "/content/helper_tools.py:101: RuntimeWarning: divide by zero encountered in log\n",
            "  log_prod_mat=np.log(prod_mat)\n",
            "/content/helper_tools.py:101: RuntimeWarning: divide by zero encountered in log\n",
            "  log_prod_mat=np.log(prod_mat)\n",
            "/content/helper_tools.py:101: RuntimeWarning: divide by zero encountered in log\n",
            "  log_prod_mat=np.log(prod_mat)\n",
            "/content/helper_tools.py:101: RuntimeWarning: divide by zero encountered in log\n",
            "  log_prod_mat=np.log(prod_mat)\n",
            "/content/helper_tools.py:101: RuntimeWarning: divide by zero encountered in log\n",
            "  log_prod_mat=np.log(prod_mat)\n",
            "/content/helper_tools.py:101: RuntimeWarning: divide by zero encountered in log\n",
            "  log_prod_mat=np.log(prod_mat)\n",
            "/content/helper_tools.py:101: RuntimeWarning: divide by zero encountered in log\n",
            "  log_prod_mat=np.log(prod_mat)\n",
            "/content/helper_tools.py:101: RuntimeWarning: divide by zero encountered in log\n",
            "  log_prod_mat=np.log(prod_mat)\n",
            "/content/helper_tools.py:101: RuntimeWarning: divide by zero encountered in log\n",
            "  log_prod_mat=np.log(prod_mat)\n",
            "/content/helper_tools.py:101: RuntimeWarning: divide by zero encountered in log\n",
            "  log_prod_mat=np.log(prod_mat)\n",
            "/content/helper_tools.py:101: RuntimeWarning: divide by zero encountered in log\n",
            "  log_prod_mat=np.log(prod_mat)\n",
            "/content/helper_tools.py:101: RuntimeWarning: divide by zero encountered in log\n",
            "  log_prod_mat=np.log(prod_mat)\n",
            "/content/helper_tools.py:101: RuntimeWarning: divide by zero encountered in log\n",
            "  log_prod_mat=np.log(prod_mat)\n",
            "/content/helper_tools.py:101: RuntimeWarning: divide by zero encountered in log\n",
            "  log_prod_mat=np.log(prod_mat)\n",
            "/content/helper_tools.py:101: RuntimeWarning: divide by zero encountered in log\n",
            "  log_prod_mat=np.log(prod_mat)\n",
            "/content/helper_tools.py:101: RuntimeWarning: divide by zero encountered in log\n",
            "  log_prod_mat=np.log(prod_mat)\n",
            "/content/helper_tools.py:101: RuntimeWarning: divide by zero encountered in log\n",
            "  log_prod_mat=np.log(prod_mat)\n",
            "/content/helper_tools.py:101: RuntimeWarning: divide by zero encountered in log\n",
            "  log_prod_mat=np.log(prod_mat)\n",
            "/content/helper_tools.py:101: RuntimeWarning: divide by zero encountered in log\n",
            "  log_prod_mat=np.log(prod_mat)\n",
            "/content/helper_tools.py:101: RuntimeWarning: divide by zero encountered in log\n",
            "  log_prod_mat=np.log(prod_mat)\n",
            "/content/helper_tools.py:101: RuntimeWarning: divide by zero encountered in log\n",
            "  log_prod_mat=np.log(prod_mat)\n",
            "/content/helper_tools.py:101: RuntimeWarning: divide by zero encountered in log\n",
            "  log_prod_mat=np.log(prod_mat)\n",
            "/content/helper_tools.py:101: RuntimeWarning: divide by zero encountered in log\n",
            "  log_prod_mat=np.log(prod_mat)\n",
            "/content/helper_tools.py:101: RuntimeWarning: divide by zero encountered in log\n",
            "  log_prod_mat=np.log(prod_mat)\n",
            "/content/helper_tools.py:101: RuntimeWarning: divide by zero encountered in log\n",
            "  log_prod_mat=np.log(prod_mat)\n",
            "/content/helper_tools.py:101: RuntimeWarning: divide by zero encountered in log\n",
            "  log_prod_mat=np.log(prod_mat)\n",
            "/content/helper_tools.py:101: RuntimeWarning: divide by zero encountered in log\n",
            "  log_prod_mat=np.log(prod_mat)\n",
            "/content/helper_tools.py:101: RuntimeWarning: divide by zero encountered in log\n",
            "  log_prod_mat=np.log(prod_mat)\n",
            "/content/helper_tools.py:101: RuntimeWarning: divide by zero encountered in log\n",
            "  log_prod_mat=np.log(prod_mat)\n",
            "/content/helper_tools.py:101: RuntimeWarning: divide by zero encountered in log\n",
            "  log_prod_mat=np.log(prod_mat)\n",
            "/content/helper_tools.py:101: RuntimeWarning: divide by zero encountered in log\n",
            "  log_prod_mat=np.log(prod_mat)\n",
            "/content/helper_tools.py:101: RuntimeWarning: divide by zero encountered in log\n",
            "  log_prod_mat=np.log(prod_mat)\n",
            "/content/helper_tools.py:101: RuntimeWarning: divide by zero encountered in log\n",
            "  log_prod_mat=np.log(prod_mat)\n",
            "/content/helper_tools.py:101: RuntimeWarning: divide by zero encountered in log\n",
            "  log_prod_mat=np.log(prod_mat)\n",
            "/content/helper_tools.py:101: RuntimeWarning: divide by zero encountered in log\n",
            "  log_prod_mat=np.log(prod_mat)\n",
            "/content/helper_tools.py:101: RuntimeWarning: divide by zero encountered in log\n",
            "  log_prod_mat=np.log(prod_mat)\n",
            "/content/helper_tools.py:101: RuntimeWarning: divide by zero encountered in log\n",
            "  log_prod_mat=np.log(prod_mat)\n",
            "/content/helper_tools.py:101: RuntimeWarning: divide by zero encountered in log\n",
            "  log_prod_mat=np.log(prod_mat)\n",
            "/content/helper_tools.py:101: RuntimeWarning: divide by zero encountered in log\n",
            "  log_prod_mat=np.log(prod_mat)\n",
            "/content/helper_tools.py:101: RuntimeWarning: divide by zero encountered in log\n",
            "  log_prod_mat=np.log(prod_mat)\n",
            "/content/helper_tools.py:101: RuntimeWarning: divide by zero encountered in log\n",
            "  log_prod_mat=np.log(prod_mat)\n",
            "/content/helper_tools.py:101: RuntimeWarning: divide by zero encountered in log\n",
            "  log_prod_mat=np.log(prod_mat)\n",
            "/content/helper_tools.py:101: RuntimeWarning: divide by zero encountered in log\n",
            "  log_prod_mat=np.log(prod_mat)\n",
            "/content/helper_tools.py:101: RuntimeWarning: divide by zero encountered in log\n",
            "  log_prod_mat=np.log(prod_mat)\n",
            "/content/helper_tools.py:101: RuntimeWarning: divide by zero encountered in log\n",
            "  log_prod_mat=np.log(prod_mat)\n",
            "/content/helper_tools.py:101: RuntimeWarning: divide by zero encountered in log\n",
            "  log_prod_mat=np.log(prod_mat)\n",
            "/content/helper_tools.py:101: RuntimeWarning: divide by zero encountered in log\n",
            "  log_prod_mat=np.log(prod_mat)\n",
            "/content/helper_tools.py:101: RuntimeWarning: divide by zero encountered in log\n",
            "  log_prod_mat=np.log(prod_mat)\n",
            "/content/helper_tools.py:101: RuntimeWarning: divide by zero encountered in log\n",
            "  log_prod_mat=np.log(prod_mat)\n",
            "/content/helper_tools.py:101: RuntimeWarning: divide by zero encountered in log\n",
            "  log_prod_mat=np.log(prod_mat)\n",
            "/content/helper_tools.py:101: RuntimeWarning: divide by zero encountered in log\n",
            "  log_prod_mat=np.log(prod_mat)\n",
            "/content/helper_tools.py:101: RuntimeWarning: divide by zero encountered in log\n",
            "  log_prod_mat=np.log(prod_mat)\n",
            "/content/helper_tools.py:101: RuntimeWarning: divide by zero encountered in log\n",
            "  log_prod_mat=np.log(prod_mat)\n",
            "/content/helper_tools.py:101: RuntimeWarning: divide by zero encountered in log\n",
            "  log_prod_mat=np.log(prod_mat)\n",
            "/content/helper_tools.py:101: RuntimeWarning: divide by zero encountered in log\n",
            "  log_prod_mat=np.log(prod_mat)\n",
            "/content/helper_tools.py:101: RuntimeWarning: divide by zero encountered in log\n",
            "  log_prod_mat=np.log(prod_mat)\n",
            "/content/helper_tools.py:101: RuntimeWarning: divide by zero encountered in log\n",
            "  log_prod_mat=np.log(prod_mat)\n",
            "/content/helper_tools.py:101: RuntimeWarning: divide by zero encountered in log\n",
            "  log_prod_mat=np.log(prod_mat)\n",
            "/content/helper_tools.py:101: RuntimeWarning: divide by zero encountered in log\n",
            "  log_prod_mat=np.log(prod_mat)\n",
            "/content/helper_tools.py:101: RuntimeWarning: divide by zero encountered in log\n",
            "  log_prod_mat=np.log(prod_mat)\n",
            "/content/helper_tools.py:101: RuntimeWarning: divide by zero encountered in log\n",
            "  log_prod_mat=np.log(prod_mat)\n",
            "/content/helper_tools.py:101: RuntimeWarning: divide by zero encountered in log\n",
            "  log_prod_mat=np.log(prod_mat)\n",
            "/content/helper_tools.py:101: RuntimeWarning: divide by zero encountered in log\n",
            "  log_prod_mat=np.log(prod_mat)\n",
            "/content/helper_tools.py:101: RuntimeWarning: divide by zero encountered in log\n",
            "  log_prod_mat=np.log(prod_mat)\n",
            "/content/helper_tools.py:101: RuntimeWarning: divide by zero encountered in log\n",
            "  log_prod_mat=np.log(prod_mat)\n",
            "/content/helper_tools.py:101: RuntimeWarning: divide by zero encountered in log\n",
            "  log_prod_mat=np.log(prod_mat)\n",
            "/content/helper_tools.py:101: RuntimeWarning: divide by zero encountered in log\n",
            "  log_prod_mat=np.log(prod_mat)\n",
            "/content/helper_tools.py:101: RuntimeWarning: divide by zero encountered in log\n",
            "  log_prod_mat=np.log(prod_mat)\n",
            "/content/helper_tools.py:101: RuntimeWarning: divide by zero encountered in log\n",
            "  log_prod_mat=np.log(prod_mat)\n",
            "/content/helper_tools.py:101: RuntimeWarning: divide by zero encountered in log\n",
            "  log_prod_mat=np.log(prod_mat)\n",
            "/content/helper_tools.py:101: RuntimeWarning: divide by zero encountered in log\n",
            "  log_prod_mat=np.log(prod_mat)\n",
            "/content/helper_tools.py:101: RuntimeWarning: divide by zero encountered in log\n",
            "  log_prod_mat=np.log(prod_mat)\n",
            "/content/helper_tools.py:101: RuntimeWarning: divide by zero encountered in log\n",
            "  log_prod_mat=np.log(prod_mat)\n",
            "/content/helper_tools.py:101: RuntimeWarning: divide by zero encountered in log\n",
            "  log_prod_mat=np.log(prod_mat)\n",
            "/content/helper_tools.py:101: RuntimeWarning: divide by zero encountered in log\n",
            "  log_prod_mat=np.log(prod_mat)\n",
            "/content/helper_tools.py:101: RuntimeWarning: divide by zero encountered in log\n",
            "  log_prod_mat=np.log(prod_mat)\n",
            "/content/helper_tools.py:101: RuntimeWarning: divide by zero encountered in log\n",
            "  log_prod_mat=np.log(prod_mat)\n",
            "/content/helper_tools.py:101: RuntimeWarning: divide by zero encountered in log\n",
            "  log_prod_mat=np.log(prod_mat)\n",
            "/content/helper_tools.py:101: RuntimeWarning: divide by zero encountered in log\n",
            "  log_prod_mat=np.log(prod_mat)\n",
            "/content/helper_tools.py:101: RuntimeWarning: divide by zero encountered in log\n",
            "  log_prod_mat=np.log(prod_mat)\n",
            "/content/helper_tools.py:101: RuntimeWarning: divide by zero encountered in log\n",
            "  log_prod_mat=np.log(prod_mat)\n",
            "/content/helper_tools.py:101: RuntimeWarning: divide by zero encountered in log\n",
            "  log_prod_mat=np.log(prod_mat)\n",
            "/content/helper_tools.py:101: RuntimeWarning: divide by zero encountered in log\n",
            "  log_prod_mat=np.log(prod_mat)\n",
            "/content/helper_tools.py:101: RuntimeWarning: divide by zero encountered in log\n",
            "  log_prod_mat=np.log(prod_mat)\n",
            "/content/helper_tools.py:101: RuntimeWarning: divide by zero encountered in log\n",
            "  log_prod_mat=np.log(prod_mat)\n",
            "/content/helper_tools.py:101: RuntimeWarning: divide by zero encountered in log\n",
            "  log_prod_mat=np.log(prod_mat)\n",
            "/content/helper_tools.py:101: RuntimeWarning: divide by zero encountered in log\n",
            "  log_prod_mat=np.log(prod_mat)\n",
            "/content/helper_tools.py:101: RuntimeWarning: divide by zero encountered in log\n",
            "  log_prod_mat=np.log(prod_mat)\n",
            "/content/helper_tools.py:101: RuntimeWarning: divide by zero encountered in log\n",
            "  log_prod_mat=np.log(prod_mat)\n",
            "/content/helper_tools.py:101: RuntimeWarning: divide by zero encountered in log\n",
            "  log_prod_mat=np.log(prod_mat)\n",
            "/content/helper_tools.py:101: RuntimeWarning: divide by zero encountered in log\n",
            "  log_prod_mat=np.log(prod_mat)\n",
            "/content/helper_tools.py:101: RuntimeWarning: divide by zero encountered in log\n",
            "  log_prod_mat=np.log(prod_mat)\n",
            "/content/helper_tools.py:101: RuntimeWarning: divide by zero encountered in log\n",
            "  log_prod_mat=np.log(prod_mat)\n",
            "/content/helper_tools.py:101: RuntimeWarning: divide by zero encountered in log\n",
            "  log_prod_mat=np.log(prod_mat)\n",
            "/content/helper_tools.py:101: RuntimeWarning: divide by zero encountered in log\n",
            "  log_prod_mat=np.log(prod_mat)\n",
            "/content/helper_tools.py:101: RuntimeWarning: divide by zero encountered in log\n",
            "  log_prod_mat=np.log(prod_mat)\n",
            "/content/helper_tools.py:101: RuntimeWarning: divide by zero encountered in log\n",
            "  log_prod_mat=np.log(prod_mat)\n",
            "/content/helper_tools.py:101: RuntimeWarning: divide by zero encountered in log\n",
            "  log_prod_mat=np.log(prod_mat)\n",
            "/content/helper_tools.py:101: RuntimeWarning: divide by zero encountered in log\n",
            "  log_prod_mat=np.log(prod_mat)\n",
            "/content/helper_tools.py:101: RuntimeWarning: divide by zero encountered in log\n",
            "  log_prod_mat=np.log(prod_mat)\n",
            "/content/helper_tools.py:101: RuntimeWarning: divide by zero encountered in log\n",
            "  log_prod_mat=np.log(prod_mat)\n",
            "/content/helper_tools.py:101: RuntimeWarning: divide by zero encountered in log\n",
            "  log_prod_mat=np.log(prod_mat)\n",
            "/content/helper_tools.py:101: RuntimeWarning: divide by zero encountered in log\n",
            "  log_prod_mat=np.log(prod_mat)\n",
            "/content/helper_tools.py:101: RuntimeWarning: divide by zero encountered in log\n",
            "  log_prod_mat=np.log(prod_mat)\n",
            "/content/helper_tools.py:101: RuntimeWarning: divide by zero encountered in log\n",
            "  log_prod_mat=np.log(prod_mat)\n",
            "/content/helper_tools.py:101: RuntimeWarning: divide by zero encountered in log\n",
            "  log_prod_mat=np.log(prod_mat)\n",
            "/content/helper_tools.py:101: RuntimeWarning: divide by zero encountered in log\n",
            "  log_prod_mat=np.log(prod_mat)\n",
            "/content/helper_tools.py:101: RuntimeWarning: divide by zero encountered in log\n",
            "  log_prod_mat=np.log(prod_mat)\n",
            "/content/helper_tools.py:101: RuntimeWarning: divide by zero encountered in log\n",
            "  log_prod_mat=np.log(prod_mat)\n",
            "/content/helper_tools.py:101: RuntimeWarning: divide by zero encountered in log\n",
            "  log_prod_mat=np.log(prod_mat)\n",
            "/content/helper_tools.py:101: RuntimeWarning: divide by zero encountered in log\n",
            "  log_prod_mat=np.log(prod_mat)\n",
            "/content/helper_tools.py:101: RuntimeWarning: divide by zero encountered in log\n",
            "  log_prod_mat=np.log(prod_mat)\n",
            "/content/helper_tools.py:101: RuntimeWarning: divide by zero encountered in log\n",
            "  log_prod_mat=np.log(prod_mat)\n",
            "/content/helper_tools.py:101: RuntimeWarning: divide by zero encountered in log\n",
            "  log_prod_mat=np.log(prod_mat)\n",
            "/content/helper_tools.py:101: RuntimeWarning: divide by zero encountered in log\n",
            "  log_prod_mat=np.log(prod_mat)\n",
            "/content/helper_tools.py:101: RuntimeWarning: divide by zero encountered in log\n",
            "  log_prod_mat=np.log(prod_mat)\n",
            "/content/helper_tools.py:101: RuntimeWarning: divide by zero encountered in log\n",
            "  log_prod_mat=np.log(prod_mat)\n",
            "/content/helper_tools.py:101: RuntimeWarning: divide by zero encountered in log\n",
            "  log_prod_mat=np.log(prod_mat)\n",
            "/content/helper_tools.py:101: RuntimeWarning: divide by zero encountered in log\n",
            "  log_prod_mat=np.log(prod_mat)\n",
            "/content/helper_tools.py:101: RuntimeWarning: divide by zero encountered in log\n",
            "  log_prod_mat=np.log(prod_mat)\n",
            "/content/helper_tools.py:101: RuntimeWarning: divide by zero encountered in log\n",
            "  log_prod_mat=np.log(prod_mat)\n",
            "/content/helper_tools.py:101: RuntimeWarning: divide by zero encountered in log\n",
            "  log_prod_mat=np.log(prod_mat)\n",
            "/content/helper_tools.py:101: RuntimeWarning: divide by zero encountered in log\n",
            "  log_prod_mat=np.log(prod_mat)\n",
            "/content/helper_tools.py:101: RuntimeWarning: divide by zero encountered in log\n",
            "  log_prod_mat=np.log(prod_mat)\n",
            "/content/helper_tools.py:101: RuntimeWarning: divide by zero encountered in log\n",
            "  log_prod_mat=np.log(prod_mat)\n",
            "/content/helper_tools.py:101: RuntimeWarning: divide by zero encountered in log\n",
            "  log_prod_mat=np.log(prod_mat)\n",
            "/content/helper_tools.py:101: RuntimeWarning: divide by zero encountered in log\n",
            "  log_prod_mat=np.log(prod_mat)\n",
            "/content/helper_tools.py:101: RuntimeWarning: divide by zero encountered in log\n",
            "  log_prod_mat=np.log(prod_mat)\n",
            "/content/helper_tools.py:101: RuntimeWarning: divide by zero encountered in log\n",
            "  log_prod_mat=np.log(prod_mat)\n",
            "/content/helper_tools.py:101: RuntimeWarning: divide by zero encountered in log\n",
            "  log_prod_mat=np.log(prod_mat)\n",
            "/content/helper_tools.py:101: RuntimeWarning: divide by zero encountered in log\n",
            "  log_prod_mat=np.log(prod_mat)\n",
            "/content/helper_tools.py:101: RuntimeWarning: divide by zero encountered in log\n",
            "  log_prod_mat=np.log(prod_mat)\n",
            "/content/helper_tools.py:101: RuntimeWarning: divide by zero encountered in log\n",
            "  log_prod_mat=np.log(prod_mat)\n",
            "/content/helper_tools.py:101: RuntimeWarning: divide by zero encountered in log\n",
            "  log_prod_mat=np.log(prod_mat)\n",
            "/content/helper_tools.py:101: RuntimeWarning: divide by zero encountered in log\n",
            "  log_prod_mat=np.log(prod_mat)\n",
            "/content/helper_tools.py:101: RuntimeWarning: divide by zero encountered in log\n",
            "  log_prod_mat=np.log(prod_mat)\n",
            "/content/helper_tools.py:101: RuntimeWarning: divide by zero encountered in log\n",
            "  log_prod_mat=np.log(prod_mat)\n",
            "/content/helper_tools.py:101: RuntimeWarning: divide by zero encountered in log\n",
            "  log_prod_mat=np.log(prod_mat)\n",
            "/content/helper_tools.py:101: RuntimeWarning: divide by zero encountered in log\n",
            "  log_prod_mat=np.log(prod_mat)\n",
            "/content/helper_tools.py:101: RuntimeWarning: divide by zero encountered in log\n",
            "  log_prod_mat=np.log(prod_mat)\n",
            "/content/helper_tools.py:101: RuntimeWarning: divide by zero encountered in log\n",
            "  log_prod_mat=np.log(prod_mat)\n",
            "/content/helper_tools.py:101: RuntimeWarning: divide by zero encountered in log\n",
            "  log_prod_mat=np.log(prod_mat)\n",
            "/content/helper_tools.py:101: RuntimeWarning: divide by zero encountered in log\n",
            "  log_prod_mat=np.log(prod_mat)\n",
            "/content/helper_tools.py:101: RuntimeWarning: divide by zero encountered in log\n",
            "  log_prod_mat=np.log(prod_mat)\n",
            "/content/helper_tools.py:101: RuntimeWarning: divide by zero encountered in log\n",
            "  log_prod_mat=np.log(prod_mat)\n",
            "/content/helper_tools.py:101: RuntimeWarning: divide by zero encountered in log\n",
            "  log_prod_mat=np.log(prod_mat)\n",
            "/content/helper_tools.py:101: RuntimeWarning: divide by zero encountered in log\n",
            "  log_prod_mat=np.log(prod_mat)\n",
            "/content/helper_tools.py:101: RuntimeWarning: divide by zero encountered in log\n",
            "  log_prod_mat=np.log(prod_mat)\n",
            "/content/helper_tools.py:101: RuntimeWarning: divide by zero encountered in log\n",
            "  log_prod_mat=np.log(prod_mat)\n",
            "/content/helper_tools.py:101: RuntimeWarning: divide by zero encountered in log\n",
            "  log_prod_mat=np.log(prod_mat)\n",
            "/content/helper_tools.py:101: RuntimeWarning: divide by zero encountered in log\n",
            "  log_prod_mat=np.log(prod_mat)\n",
            "/content/helper_tools.py:101: RuntimeWarning: divide by zero encountered in log\n",
            "  log_prod_mat=np.log(prod_mat)\n",
            "/content/helper_tools.py:101: RuntimeWarning: divide by zero encountered in log\n",
            "  log_prod_mat=np.log(prod_mat)\n",
            "/content/helper_tools.py:101: RuntimeWarning: divide by zero encountered in log\n",
            "  log_prod_mat=np.log(prod_mat)\n",
            "/content/helper_tools.py:101: RuntimeWarning: divide by zero encountered in log\n",
            "  log_prod_mat=np.log(prod_mat)\n",
            "/content/helper_tools.py:101: RuntimeWarning: divide by zero encountered in log\n",
            "  log_prod_mat=np.log(prod_mat)\n",
            "/content/helper_tools.py:101: RuntimeWarning: divide by zero encountered in log\n",
            "  log_prod_mat=np.log(prod_mat)\n",
            "/content/helper_tools.py:101: RuntimeWarning: divide by zero encountered in log\n",
            "  log_prod_mat=np.log(prod_mat)\n",
            "/content/helper_tools.py:101: RuntimeWarning: divide by zero encountered in log\n",
            "  log_prod_mat=np.log(prod_mat)\n",
            "/content/helper_tools.py:101: RuntimeWarning: divide by zero encountered in log\n",
            "  log_prod_mat=np.log(prod_mat)\n",
            "/content/helper_tools.py:101: RuntimeWarning: divide by zero encountered in log\n",
            "  log_prod_mat=np.log(prod_mat)\n",
            "/content/helper_tools.py:101: RuntimeWarning: divide by zero encountered in log\n",
            "  log_prod_mat=np.log(prod_mat)\n",
            "/content/helper_tools.py:101: RuntimeWarning: divide by zero encountered in log\n",
            "  log_prod_mat=np.log(prod_mat)\n",
            "/content/helper_tools.py:101: RuntimeWarning: divide by zero encountered in log\n",
            "  log_prod_mat=np.log(prod_mat)\n",
            "/content/helper_tools.py:101: RuntimeWarning: divide by zero encountered in log\n",
            "  log_prod_mat=np.log(prod_mat)\n",
            "/content/helper_tools.py:101: RuntimeWarning: divide by zero encountered in log\n",
            "  log_prod_mat=np.log(prod_mat)\n",
            "/content/helper_tools.py:101: RuntimeWarning: divide by zero encountered in log\n",
            "  log_prod_mat=np.log(prod_mat)\n",
            "/content/helper_tools.py:101: RuntimeWarning: divide by zero encountered in log\n",
            "  log_prod_mat=np.log(prod_mat)\n",
            "/content/helper_tools.py:101: RuntimeWarning: divide by zero encountered in log\n",
            "  log_prod_mat=np.log(prod_mat)\n",
            "/content/helper_tools.py:101: RuntimeWarning: divide by zero encountered in log\n",
            "  log_prod_mat=np.log(prod_mat)\n",
            "/content/helper_tools.py:101: RuntimeWarning: divide by zero encountered in log\n",
            "  log_prod_mat=np.log(prod_mat)\n",
            "/content/helper_tools.py:101: RuntimeWarning: divide by zero encountered in log\n",
            "  log_prod_mat=np.log(prod_mat)\n",
            "/content/helper_tools.py:101: RuntimeWarning: divide by zero encountered in log\n",
            "  log_prod_mat=np.log(prod_mat)\n",
            "/content/helper_tools.py:101: RuntimeWarning: divide by zero encountered in log\n",
            "  log_prod_mat=np.log(prod_mat)\n",
            "/content/helper_tools.py:101: RuntimeWarning: divide by zero encountered in log\n",
            "  log_prod_mat=np.log(prod_mat)\n",
            "/content/helper_tools.py:101: RuntimeWarning: divide by zero encountered in log\n",
            "  log_prod_mat=np.log(prod_mat)\n",
            "/content/helper_tools.py:101: RuntimeWarning: divide by zero encountered in log\n",
            "  log_prod_mat=np.log(prod_mat)\n",
            "/content/helper_tools.py:101: RuntimeWarning: divide by zero encountered in log\n",
            "  log_prod_mat=np.log(prod_mat)\n",
            "/content/helper_tools.py:101: RuntimeWarning: divide by zero encountered in log\n",
            "  log_prod_mat=np.log(prod_mat)\n",
            "/content/helper_tools.py:101: RuntimeWarning: divide by zero encountered in log\n",
            "  log_prod_mat=np.log(prod_mat)\n",
            "/content/helper_tools.py:101: RuntimeWarning: divide by zero encountered in log\n",
            "  log_prod_mat=np.log(prod_mat)\n",
            "/content/helper_tools.py:101: RuntimeWarning: divide by zero encountered in log\n",
            "  log_prod_mat=np.log(prod_mat)\n",
            "/content/helper_tools.py:101: RuntimeWarning: divide by zero encountered in log\n",
            "  log_prod_mat=np.log(prod_mat)\n",
            "/content/helper_tools.py:101: RuntimeWarning: divide by zero encountered in log\n",
            "  log_prod_mat=np.log(prod_mat)\n",
            "/content/helper_tools.py:101: RuntimeWarning: divide by zero encountered in log\n",
            "  log_prod_mat=np.log(prod_mat)\n",
            "/content/helper_tools.py:101: RuntimeWarning: divide by zero encountered in log\n",
            "  log_prod_mat=np.log(prod_mat)\n",
            "/content/helper_tools.py:101: RuntimeWarning: divide by zero encountered in log\n",
            "  log_prod_mat=np.log(prod_mat)\n",
            "/content/helper_tools.py:101: RuntimeWarning: divide by zero encountered in log\n",
            "  log_prod_mat=np.log(prod_mat)\n",
            "/content/helper_tools.py:101: RuntimeWarning: divide by zero encountered in log\n",
            "  log_prod_mat=np.log(prod_mat)\n",
            "/content/helper_tools.py:101: RuntimeWarning: divide by zero encountered in log\n",
            "  log_prod_mat=np.log(prod_mat)\n",
            "/content/helper_tools.py:101: RuntimeWarning: divide by zero encountered in log\n",
            "  log_prod_mat=np.log(prod_mat)\n",
            "/content/helper_tools.py:101: RuntimeWarning: divide by zero encountered in log\n",
            "  log_prod_mat=np.log(prod_mat)\n",
            "/content/helper_tools.py:101: RuntimeWarning: divide by zero encountered in log\n",
            "  log_prod_mat=np.log(prod_mat)\n",
            "/content/helper_tools.py:101: RuntimeWarning: divide by zero encountered in log\n",
            "  log_prod_mat=np.log(prod_mat)\n",
            "/content/helper_tools.py:101: RuntimeWarning: divide by zero encountered in log\n",
            "  log_prod_mat=np.log(prod_mat)\n",
            "/content/helper_tools.py:101: RuntimeWarning: divide by zero encountered in log\n",
            "  log_prod_mat=np.log(prod_mat)\n",
            "/content/helper_tools.py:101: RuntimeWarning: divide by zero encountered in log\n",
            "  log_prod_mat=np.log(prod_mat)\n",
            "/content/helper_tools.py:101: RuntimeWarning: divide by zero encountered in log\n",
            "  log_prod_mat=np.log(prod_mat)\n",
            "/content/helper_tools.py:101: RuntimeWarning: divide by zero encountered in log\n",
            "  log_prod_mat=np.log(prod_mat)\n",
            "/content/helper_tools.py:101: RuntimeWarning: divide by zero encountered in log\n",
            "  log_prod_mat=np.log(prod_mat)\n",
            "/content/helper_tools.py:101: RuntimeWarning: divide by zero encountered in log\n",
            "  log_prod_mat=np.log(prod_mat)\n",
            "/content/helper_tools.py:101: RuntimeWarning: divide by zero encountered in log\n",
            "  log_prod_mat=np.log(prod_mat)\n",
            "/content/helper_tools.py:101: RuntimeWarning: divide by zero encountered in log\n",
            "  log_prod_mat=np.log(prod_mat)\n",
            "/content/helper_tools.py:101: RuntimeWarning: divide by zero encountered in log\n",
            "  log_prod_mat=np.log(prod_mat)\n",
            "/content/helper_tools.py:101: RuntimeWarning: divide by zero encountered in log\n",
            "  log_prod_mat=np.log(prod_mat)\n",
            "/content/helper_tools.py:101: RuntimeWarning: divide by zero encountered in log\n",
            "  log_prod_mat=np.log(prod_mat)\n",
            "/content/helper_tools.py:101: RuntimeWarning: divide by zero encountered in log\n",
            "  log_prod_mat=np.log(prod_mat)\n",
            "/content/helper_tools.py:101: RuntimeWarning: divide by zero encountered in log\n",
            "  log_prod_mat=np.log(prod_mat)\n",
            "/content/helper_tools.py:101: RuntimeWarning: divide by zero encountered in log\n",
            "  log_prod_mat=np.log(prod_mat)\n",
            "/content/helper_tools.py:101: RuntimeWarning: divide by zero encountered in log\n",
            "  log_prod_mat=np.log(prod_mat)\n",
            "/content/helper_tools.py:101: RuntimeWarning: divide by zero encountered in log\n",
            "  log_prod_mat=np.log(prod_mat)\n",
            "/content/helper_tools.py:101: RuntimeWarning: divide by zero encountered in log\n",
            "  log_prod_mat=np.log(prod_mat)\n",
            "/content/helper_tools.py:101: RuntimeWarning: divide by zero encountered in log\n",
            "  log_prod_mat=np.log(prod_mat)\n",
            "/content/helper_tools.py:101: RuntimeWarning: divide by zero encountered in log\n",
            "  log_prod_mat=np.log(prod_mat)\n",
            "/content/helper_tools.py:101: RuntimeWarning: divide by zero encountered in log\n",
            "  log_prod_mat=np.log(prod_mat)\n",
            "/content/helper_tools.py:101: RuntimeWarning: divide by zero encountered in log\n",
            "  log_prod_mat=np.log(prod_mat)\n",
            "/content/helper_tools.py:101: RuntimeWarning: divide by zero encountered in log\n",
            "  log_prod_mat=np.log(prod_mat)\n",
            "/content/helper_tools.py:101: RuntimeWarning: divide by zero encountered in log\n",
            "  log_prod_mat=np.log(prod_mat)\n",
            "/content/helper_tools.py:101: RuntimeWarning: divide by zero encountered in log\n",
            "  log_prod_mat=np.log(prod_mat)\n",
            "/content/helper_tools.py:101: RuntimeWarning: divide by zero encountered in log\n",
            "  log_prod_mat=np.log(prod_mat)\n",
            "/content/helper_tools.py:101: RuntimeWarning: divide by zero encountered in log\n",
            "  log_prod_mat=np.log(prod_mat)\n",
            "/content/helper_tools.py:101: RuntimeWarning: divide by zero encountered in log\n",
            "  log_prod_mat=np.log(prod_mat)\n",
            "/content/helper_tools.py:101: RuntimeWarning: divide by zero encountered in log\n",
            "  log_prod_mat=np.log(prod_mat)\n",
            "/content/helper_tools.py:101: RuntimeWarning: divide by zero encountered in log\n",
            "  log_prod_mat=np.log(prod_mat)\n",
            "/content/helper_tools.py:101: RuntimeWarning: divide by zero encountered in log\n",
            "  log_prod_mat=np.log(prod_mat)\n",
            "/content/helper_tools.py:101: RuntimeWarning: divide by zero encountered in log\n",
            "  log_prod_mat=np.log(prod_mat)\n",
            "/content/helper_tools.py:101: RuntimeWarning: divide by zero encountered in log\n",
            "  log_prod_mat=np.log(prod_mat)\n",
            "/content/helper_tools.py:101: RuntimeWarning: divide by zero encountered in log\n",
            "  log_prod_mat=np.log(prod_mat)\n",
            "/content/helper_tools.py:101: RuntimeWarning: divide by zero encountered in log\n",
            "  log_prod_mat=np.log(prod_mat)\n",
            "/content/helper_tools.py:101: RuntimeWarning: divide by zero encountered in log\n",
            "  log_prod_mat=np.log(prod_mat)\n",
            "/content/helper_tools.py:101: RuntimeWarning: divide by zero encountered in log\n",
            "  log_prod_mat=np.log(prod_mat)\n",
            "/content/helper_tools.py:101: RuntimeWarning: divide by zero encountered in log\n",
            "  log_prod_mat=np.log(prod_mat)\n",
            "/content/helper_tools.py:101: RuntimeWarning: divide by zero encountered in log\n",
            "  log_prod_mat=np.log(prod_mat)\n",
            "/content/helper_tools.py:101: RuntimeWarning: divide by zero encountered in log\n",
            "  log_prod_mat=np.log(prod_mat)\n",
            "/content/helper_tools.py:101: RuntimeWarning: divide by zero encountered in log\n",
            "  log_prod_mat=np.log(prod_mat)\n",
            "/content/helper_tools.py:101: RuntimeWarning: divide by zero encountered in log\n",
            "  log_prod_mat=np.log(prod_mat)\n",
            "/content/helper_tools.py:101: RuntimeWarning: divide by zero encountered in log\n",
            "  log_prod_mat=np.log(prod_mat)\n",
            "/content/helper_tools.py:101: RuntimeWarning: divide by zero encountered in log\n",
            "  log_prod_mat=np.log(prod_mat)\n",
            "/content/helper_tools.py:101: RuntimeWarning: divide by zero encountered in log\n",
            "  log_prod_mat=np.log(prod_mat)\n",
            "/content/helper_tools.py:101: RuntimeWarning: divide by zero encountered in log\n",
            "  log_prod_mat=np.log(prod_mat)\n",
            "/content/helper_tools.py:101: RuntimeWarning: divide by zero encountered in log\n",
            "  log_prod_mat=np.log(prod_mat)\n",
            "/content/helper_tools.py:101: RuntimeWarning: divide by zero encountered in log\n",
            "  log_prod_mat=np.log(prod_mat)\n",
            "/content/helper_tools.py:101: RuntimeWarning: divide by zero encountered in log\n",
            "  log_prod_mat=np.log(prod_mat)\n",
            "/content/helper_tools.py:101: RuntimeWarning: divide by zero encountered in log\n",
            "  log_prod_mat=np.log(prod_mat)\n",
            "/content/helper_tools.py:101: RuntimeWarning: divide by zero encountered in log\n",
            "  log_prod_mat=np.log(prod_mat)\n",
            "/content/helper_tools.py:101: RuntimeWarning: divide by zero encountered in log\n",
            "  log_prod_mat=np.log(prod_mat)\n",
            "/content/helper_tools.py:101: RuntimeWarning: divide by zero encountered in log\n",
            "  log_prod_mat=np.log(prod_mat)\n",
            "/content/helper_tools.py:101: RuntimeWarning: divide by zero encountered in log\n",
            "  log_prod_mat=np.log(prod_mat)\n",
            "/content/helper_tools.py:101: RuntimeWarning: divide by zero encountered in log\n",
            "  log_prod_mat=np.log(prod_mat)\n",
            "/content/helper_tools.py:101: RuntimeWarning: divide by zero encountered in log\n",
            "  log_prod_mat=np.log(prod_mat)\n",
            "/content/helper_tools.py:101: RuntimeWarning: divide by zero encountered in log\n",
            "  log_prod_mat=np.log(prod_mat)\n",
            "/content/helper_tools.py:101: RuntimeWarning: divide by zero encountered in log\n",
            "  log_prod_mat=np.log(prod_mat)\n",
            "/content/helper_tools.py:101: RuntimeWarning: divide by zero encountered in log\n",
            "  log_prod_mat=np.log(prod_mat)\n",
            "/content/helper_tools.py:101: RuntimeWarning: divide by zero encountered in log\n",
            "  log_prod_mat=np.log(prod_mat)\n",
            "/content/helper_tools.py:101: RuntimeWarning: divide by zero encountered in log\n",
            "  log_prod_mat=np.log(prod_mat)\n",
            "/content/helper_tools.py:101: RuntimeWarning: divide by zero encountered in log\n",
            "  log_prod_mat=np.log(prod_mat)\n",
            "/content/helper_tools.py:101: RuntimeWarning: divide by zero encountered in log\n",
            "  log_prod_mat=np.log(prod_mat)\n",
            "/content/helper_tools.py:101: RuntimeWarning: divide by zero encountered in log\n",
            "  log_prod_mat=np.log(prod_mat)\n",
            "/content/helper_tools.py:101: RuntimeWarning: divide by zero encountered in log\n",
            "  log_prod_mat=np.log(prod_mat)\n",
            "/content/helper_tools.py:101: RuntimeWarning: divide by zero encountered in log\n",
            "  log_prod_mat=np.log(prod_mat)\n",
            "/content/helper_tools.py:101: RuntimeWarning: divide by zero encountered in log\n",
            "  log_prod_mat=np.log(prod_mat)\n",
            "/content/helper_tools.py:101: RuntimeWarning: divide by zero encountered in log\n",
            "  log_prod_mat=np.log(prod_mat)\n",
            "/content/helper_tools.py:101: RuntimeWarning: divide by zero encountered in log\n",
            "  log_prod_mat=np.log(prod_mat)\n"
          ],
          "name": "stderr"
        },
        {
          "output_type": "stream",
          "text": [
            ",SpearmanrResult(correlation=0.6286963187386293, pvalue=1.049617389076608e-130)\n"
          ],
          "name": "stdout"
        },
        {
          "output_type": "stream",
          "text": [
            "/content/helper_tools.py:101: RuntimeWarning: divide by zero encountered in log\n",
            "  log_prod_mat=np.log(prod_mat)\n",
            "/content/helper_tools.py:101: RuntimeWarning: divide by zero encountered in log\n",
            "  log_prod_mat=np.log(prod_mat)\n",
            "/content/helper_tools.py:101: RuntimeWarning: divide by zero encountered in log\n",
            "  log_prod_mat=np.log(prod_mat)\n",
            "/content/helper_tools.py:101: RuntimeWarning: divide by zero encountered in log\n",
            "  log_prod_mat=np.log(prod_mat)\n",
            "/content/helper_tools.py:101: RuntimeWarning: divide by zero encountered in log\n",
            "  log_prod_mat=np.log(prod_mat)\n",
            "/content/helper_tools.py:101: RuntimeWarning: divide by zero encountered in log\n",
            "  log_prod_mat=np.log(prod_mat)\n",
            "/content/helper_tools.py:101: RuntimeWarning: divide by zero encountered in log\n",
            "  log_prod_mat=np.log(prod_mat)\n",
            "/content/helper_tools.py:101: RuntimeWarning: divide by zero encountered in log\n",
            "  log_prod_mat=np.log(prod_mat)\n",
            "/content/helper_tools.py:101: RuntimeWarning: divide by zero encountered in log\n",
            "  log_prod_mat=np.log(prod_mat)\n",
            "/content/helper_tools.py:101: RuntimeWarning: divide by zero encountered in log\n",
            "  log_prod_mat=np.log(prod_mat)\n",
            "/content/helper_tools.py:101: RuntimeWarning: divide by zero encountered in log\n",
            "  log_prod_mat=np.log(prod_mat)\n",
            "/content/helper_tools.py:101: RuntimeWarning: divide by zero encountered in log\n",
            "  log_prod_mat=np.log(prod_mat)\n",
            "/content/helper_tools.py:101: RuntimeWarning: divide by zero encountered in log\n",
            "  log_prod_mat=np.log(prod_mat)\n",
            "/content/helper_tools.py:101: RuntimeWarning: divide by zero encountered in log\n",
            "  log_prod_mat=np.log(prod_mat)\n",
            "/content/helper_tools.py:101: RuntimeWarning: divide by zero encountered in log\n",
            "  log_prod_mat=np.log(prod_mat)\n",
            "/content/helper_tools.py:101: RuntimeWarning: divide by zero encountered in log\n",
            "  log_prod_mat=np.log(prod_mat)\n",
            "/content/helper_tools.py:101: RuntimeWarning: divide by zero encountered in log\n",
            "  log_prod_mat=np.log(prod_mat)\n",
            "/content/helper_tools.py:101: RuntimeWarning: divide by zero encountered in log\n",
            "  log_prod_mat=np.log(prod_mat)\n",
            "/content/helper_tools.py:101: RuntimeWarning: divide by zero encountered in log\n",
            "  log_prod_mat=np.log(prod_mat)\n",
            "/content/helper_tools.py:101: RuntimeWarning: divide by zero encountered in log\n",
            "  log_prod_mat=np.log(prod_mat)\n",
            "/content/helper_tools.py:101: RuntimeWarning: divide by zero encountered in log\n",
            "  log_prod_mat=np.log(prod_mat)\n",
            "/content/helper_tools.py:101: RuntimeWarning: divide by zero encountered in log\n",
            "  log_prod_mat=np.log(prod_mat)\n",
            "/content/helper_tools.py:101: RuntimeWarning: divide by zero encountered in log\n",
            "  log_prod_mat=np.log(prod_mat)\n",
            "/content/helper_tools.py:101: RuntimeWarning: divide by zero encountered in log\n",
            "  log_prod_mat=np.log(prod_mat)\n",
            "/content/helper_tools.py:101: RuntimeWarning: divide by zero encountered in log\n",
            "  log_prod_mat=np.log(prod_mat)\n",
            "/content/helper_tools.py:101: RuntimeWarning: divide by zero encountered in log\n",
            "  log_prod_mat=np.log(prod_mat)\n",
            "/content/helper_tools.py:101: RuntimeWarning: divide by zero encountered in log\n",
            "  log_prod_mat=np.log(prod_mat)\n",
            "/content/helper_tools.py:101: RuntimeWarning: divide by zero encountered in log\n",
            "  log_prod_mat=np.log(prod_mat)\n",
            "/content/helper_tools.py:101: RuntimeWarning: divide by zero encountered in log\n",
            "  log_prod_mat=np.log(prod_mat)\n",
            "/content/helper_tools.py:101: RuntimeWarning: divide by zero encountered in log\n",
            "  log_prod_mat=np.log(prod_mat)\n",
            "/content/helper_tools.py:101: RuntimeWarning: divide by zero encountered in log\n",
            "  log_prod_mat=np.log(prod_mat)\n",
            "/content/helper_tools.py:101: RuntimeWarning: divide by zero encountered in log\n",
            "  log_prod_mat=np.log(prod_mat)\n",
            "/content/helper_tools.py:101: RuntimeWarning: divide by zero encountered in log\n",
            "  log_prod_mat=np.log(prod_mat)\n",
            "/content/helper_tools.py:101: RuntimeWarning: divide by zero encountered in log\n",
            "  log_prod_mat=np.log(prod_mat)\n",
            "/content/helper_tools.py:101: RuntimeWarning: divide by zero encountered in log\n",
            "  log_prod_mat=np.log(prod_mat)\n",
            "/content/helper_tools.py:101: RuntimeWarning: divide by zero encountered in log\n",
            "  log_prod_mat=np.log(prod_mat)\n",
            "/content/helper_tools.py:101: RuntimeWarning: divide by zero encountered in log\n",
            "  log_prod_mat=np.log(prod_mat)\n",
            "/content/helper_tools.py:101: RuntimeWarning: divide by zero encountered in log\n",
            "  log_prod_mat=np.log(prod_mat)\n",
            "/content/helper_tools.py:101: RuntimeWarning: divide by zero encountered in log\n",
            "  log_prod_mat=np.log(prod_mat)\n",
            "/content/helper_tools.py:101: RuntimeWarning: divide by zero encountered in log\n",
            "  log_prod_mat=np.log(prod_mat)\n",
            "/content/helper_tools.py:101: RuntimeWarning: divide by zero encountered in log\n",
            "  log_prod_mat=np.log(prod_mat)\n",
            "/content/helper_tools.py:101: RuntimeWarning: divide by zero encountered in log\n",
            "  log_prod_mat=np.log(prod_mat)\n",
            "/content/helper_tools.py:101: RuntimeWarning: divide by zero encountered in log\n",
            "  log_prod_mat=np.log(prod_mat)\n",
            "/content/helper_tools.py:101: RuntimeWarning: divide by zero encountered in log\n",
            "  log_prod_mat=np.log(prod_mat)\n",
            "/content/helper_tools.py:101: RuntimeWarning: divide by zero encountered in log\n",
            "  log_prod_mat=np.log(prod_mat)\n",
            "/content/helper_tools.py:101: RuntimeWarning: divide by zero encountered in log\n",
            "  log_prod_mat=np.log(prod_mat)\n",
            "/content/helper_tools.py:101: RuntimeWarning: divide by zero encountered in log\n",
            "  log_prod_mat=np.log(prod_mat)\n",
            "/content/helper_tools.py:101: RuntimeWarning: divide by zero encountered in log\n",
            "  log_prod_mat=np.log(prod_mat)\n",
            "/content/helper_tools.py:101: RuntimeWarning: divide by zero encountered in log\n",
            "  log_prod_mat=np.log(prod_mat)\n",
            "/content/helper_tools.py:101: RuntimeWarning: divide by zero encountered in log\n",
            "  log_prod_mat=np.log(prod_mat)\n",
            "/content/helper_tools.py:101: RuntimeWarning: divide by zero encountered in log\n",
            "  log_prod_mat=np.log(prod_mat)\n",
            "/content/helper_tools.py:101: RuntimeWarning: divide by zero encountered in log\n",
            "  log_prod_mat=np.log(prod_mat)\n",
            "/content/helper_tools.py:101: RuntimeWarning: divide by zero encountered in log\n",
            "  log_prod_mat=np.log(prod_mat)\n",
            "/content/helper_tools.py:101: RuntimeWarning: divide by zero encountered in log\n",
            "  log_prod_mat=np.log(prod_mat)\n",
            "/content/helper_tools.py:101: RuntimeWarning: divide by zero encountered in log\n",
            "  log_prod_mat=np.log(prod_mat)\n",
            "/content/helper_tools.py:101: RuntimeWarning: divide by zero encountered in log\n",
            "  log_prod_mat=np.log(prod_mat)\n",
            "/content/helper_tools.py:101: RuntimeWarning: divide by zero encountered in log\n",
            "  log_prod_mat=np.log(prod_mat)\n",
            "/content/helper_tools.py:101: RuntimeWarning: divide by zero encountered in log\n",
            "  log_prod_mat=np.log(prod_mat)\n",
            "/content/helper_tools.py:101: RuntimeWarning: divide by zero encountered in log\n",
            "  log_prod_mat=np.log(prod_mat)\n",
            "/content/helper_tools.py:101: RuntimeWarning: divide by zero encountered in log\n",
            "  log_prod_mat=np.log(prod_mat)\n",
            "/content/helper_tools.py:101: RuntimeWarning: divide by zero encountered in log\n",
            "  log_prod_mat=np.log(prod_mat)\n",
            "/content/helper_tools.py:101: RuntimeWarning: divide by zero encountered in log\n",
            "  log_prod_mat=np.log(prod_mat)\n",
            "/content/helper_tools.py:101: RuntimeWarning: divide by zero encountered in log\n",
            "  log_prod_mat=np.log(prod_mat)\n",
            "/content/helper_tools.py:101: RuntimeWarning: divide by zero encountered in log\n",
            "  log_prod_mat=np.log(prod_mat)\n",
            "/content/helper_tools.py:101: RuntimeWarning: divide by zero encountered in log\n",
            "  log_prod_mat=np.log(prod_mat)\n",
            "/content/helper_tools.py:101: RuntimeWarning: divide by zero encountered in log\n",
            "  log_prod_mat=np.log(prod_mat)\n",
            "/content/helper_tools.py:101: RuntimeWarning: divide by zero encountered in log\n",
            "  log_prod_mat=np.log(prod_mat)\n",
            "/content/helper_tools.py:101: RuntimeWarning: divide by zero encountered in log\n",
            "  log_prod_mat=np.log(prod_mat)\n",
            "/content/helper_tools.py:101: RuntimeWarning: divide by zero encountered in log\n",
            "  log_prod_mat=np.log(prod_mat)\n"
          ],
          "name": "stderr"
        }
      ]
    },
    {
      "metadata": {
        "id": "N94jw7vauBFv",
        "colab_type": "text"
      },
      "cell_type": "markdown",
      "source": [
        "We have kept track of some performance metrics, so we can follow whether the network was still improving. "
      ]
    },
    {
      "metadata": {
        "id": "fXC7u3n3uBFv",
        "colab_type": "code",
        "outputId": "01cffbd9-8766-49ca-e8af-5b34a8ed40b8",
        "colab": {
          "base_uri": "https://localhost:8080/",
          "height": 54
        }
      },
      "cell_type": "code",
      "source": [
        "#print performance measures over time\n",
        "'''\n",
        "keys=[\"categorical_accuracy\",\"top_k_categorical_accuracy\"]\n",
        "for key in keys:\n",
        "    if not key.startswith(\"val_\"):\n",
        "        plt.plot(hist.history[key],label=key)\n",
        "        plt.plot(hist.history[\"val_\"+key],label=\"val_\"+key)\n",
        "plt.xlabel(\"epochs\")\n",
        "plt.legend(bbox_to_anchor=(1.6,0.5));\n",
        "'''"
      ],
      "execution_count": 0,
      "outputs": [
        {
          "output_type": "execute_result",
          "data": {
            "text/plain": [
              "'\\nkeys=[\"categorical_accuracy\",\"top_k_categorical_accuracy\"]\\nfor key in keys:\\n    if not key.startswith(\"val_\"):\\n        plt.plot(hist.history[key],label=key)\\n        plt.plot(hist.history[\"val_\"+key],label=\"val_\"+key)\\nplt.xlabel(\"epochs\")\\nplt.legend(bbox_to_anchor=(1.6,0.5));\\n'"
            ]
          },
          "metadata": {
            "tags": []
          },
          "execution_count": 27
        }
      ]
    },
    {
      "metadata": {
        "id": "86A1_kFhuBFy",
        "colab_type": "text"
      },
      "cell_type": "markdown",
      "source": [
        "Our metric of interest of course is the prediction power (here spearman's rank correlation) between protein sequence probability and the actual fitness measurements."
      ]
    },
    {
      "metadata": {
        "id": "1Gp5M7eiuBFz",
        "colab_type": "code",
        "outputId": "68f8bfe2-dba0-4580-dcf1-68b926fe0384",
        "colab": {
          "base_uri": "https://localhost:8080/",
          "height": 294
        }
      },
      "cell_type": "code",
      "source": [
        "plt.plot(spearman_measure.scores)\n",
        "plt.title(\"Spearman corr over epochs\")\n",
        "plt.xlabel(\"epochs\")\n",
        "plt.ylabel(\"Spearman corr\");"
      ],
      "execution_count": 0,
      "outputs": [
        {
          "output_type": "display_data",
          "data": {
            "image/png": "[encoded data removed]",
            "text/plain": [
              "<Figure size 432x288 with 1 Axes>"
            ]
          },
          "metadata": {
            "tags": []
          }
        }
      ]
    },
    {
      "metadata": {
        "id": "AYb4zgAmuBF6",
        "colab_type": "text"
      },
      "cell_type": "markdown",
      "source": [
        "## 3. Exploring the Latent Space\n",
        "It is helpful to visualize the latent space to see if the network is separating any mutants (and how the variance is captured). The wildtype sequence is highlighted in red. "
      ]
    },
    {
      "metadata": {
        "id": "9w4eSpTmuBF7",
        "colab_type": "code",
        "outputId": "eb5a9eb4-7eda-43af-bde8-0bd0f7eab33a",
        "colab": {
          "base_uri": "https://localhost:8080/",
          "height": 359
        }
      },
      "cell_type": "code",
      "source": [
        "encoder = Model(x, z_mean)\n",
        "sample_points=data_set_size\n",
        "\n",
        "sample_size=batch_size*int(len(test_data_plus)/batch_size)\n",
        "sample_for_averging_size=100\n",
        "sequence_size=PRUNED_SEQ_LENGTH\n",
        "digit_size = len(ORDER_LIST)\n",
        "\n",
        "#wildtype in red\n",
        "x_train_encoded = encoder.predict(training_data[:sample_points], batch_size=batch_size)\n",
        "x_test_encoded=encoder.predict(all_test_data[:15060], batch_size=batch_size)\n",
        "wt_encoding=x_train_encoded[0].reshape(1,latent_dim)\n",
        "\n",
        "x_decoded=vae.predict(test_data_plus[0:sample_size],batch_size=batch_size)\n",
        "digit = x_decoded[0].reshape(digit_size,sequence_size)\n",
        "digit_wt = normalize(digit,axis=0, norm='l1')\n",
        "wt_prob=compute_log_probability(test_data_plus[0].reshape(digit_size,sequence_size),digit_wt)\n",
        "\n",
        "fig = plt.figure(figsize=(12,12))\n",
        "counter=0\n",
        "cmap=[\"r\" if i==0 else \"b\" for i in range(sample_points)]\n",
        "for z1 in range(latent_dim):\n",
        "    for z2 in range(z1+1,latent_dim):\n",
        "        counter+=1\n",
        "        fig.add_subplot(latent_dim,latent_dim,counter)\n",
        "        plt.title(str(z1)+\"_\"+str(z2))\n",
        "        plt.scatter(x_train_encoded[:, z1][::-1], x_train_encoded[:, z2][::-1],c=cmap[::-1] ,alpha=0.01)\n",
        "\n",
        "        plt.scatter(x_test_encoded[:, z1][::-1], x_test_encoded[:, z2][::-1],c=\"y\" ,alpha=0.3)\n",
        "        plt.scatter(x_train_encoded[0][z1], x_train_encoded[0][z2],c=\"r\" ,alpha=1)\n",
        "        plt.xlabel(\"Latent dim\"+str(z1+1))\n",
        "        plt.ylabel(\"Latent dim\"+str(z2+1));"
      ],
      "execution_count": 0,
      "outputs": [
        {
          "output_type": "stream",
          "text": [
            "/content/helper_tools.py:101: RuntimeWarning: divide by zero encountered in log\n",
            "  log_prod_mat=np.log(prod_mat)\n"
          ],
          "name": "stderr"
        },
        {
          "output_type": "display_data",
          "data": {
            "image/png": "[encoded data removed]",
            "text/plain": [
              "<Figure size 864x864 with 10 Axes>"
            ]
          },
          "metadata": {
            "tags": []
          }
        }
      ]
    },
    {
      "metadata": {
        "id": "f7UE9MrHuBGE",
        "colab_type": "text"
      },
      "cell_type": "markdown",
      "source": [
        "We can see that there is an interesting branching structure occuring. We can decipher this structure. It is also possible to run the network with more latent variables (usually improves the results by a little). In such cases we can also plot the latent dimensions 3 at a time (instead of 2 at a time above)."
      ]
    },
    {
      "metadata": {
        "id": "xRPwTmwNuBGJ",
        "colab_type": "code",
        "outputId": "a979df50-c7ff-4978-af7e-3d6121d79336",
        "colab": {
          "base_uri": "https://localhost:8080/",
          "height": 265
        }
      },
      "cell_type": "code",
      "source": [
        "# for 3d Visualization of latent space if at least three dimensions existed\n",
        "if latent_dim>2:\n",
        "    %matplotlib inline\n",
        "    from mpl_toolkits.mplot3d import Axes3D\n",
        "    fig = plt.figure()\n",
        "    ax = fig.add_subplot(111, projection='3d')\n",
        "    encoder = Model(x, z_mean)\n",
        "    # display a 2D plot of the digit classes in the latent space\n",
        "    #x_test_encoded = encoder.predict(x_test, batch_size=batch_size)\n",
        "\n",
        "    plt.figure(figsize=(8, 8))\n",
        "    #plt.scatter(x_test_encoded[:, 0], x_test_encoded[: ,1])#, c=y_test)\n",
        "    ax.scatter(x_train_encoded[:, 0], x_train_encoded[:, 1],x_train_encoded[:, 2],c=\"b\",alpha=0.01)\n",
        "    ax.scatter(x_test_encoded[:, 0], x_test_encoded[:, 1],x_test_encoded[:, 2],c=\"y\",alpha=0.75)\n",
        "    ax.scatter(x_train_encoded[0][0], x_train_encoded[0][1],x_train_encoded[0][2], c=\"r\" ,alpha=1)\n"
      ],
      "execution_count": 0,
      "outputs": [
        {
          "output_type": "display_data",
          "data": {
            "image/png": "[encoded data removed]",
            "text/plain": [
              "<Figure size 432x288 with 1 Axes>"
            ]
          },
          "metadata": {
            "tags": []
          }
        },
        {
          "output_type": "display_data",
          "data": {
            "text/plain": [
              "<Figure size 576x576 with 0 Axes>"
            ]
          },
          "metadata": {
            "tags": []
          }
        }
      ]
    },
    {
      "metadata": {
        "id": "2Npmw4QJuBGM",
        "colab_type": "text"
      },
      "cell_type": "markdown",
      "source": [
        "To further understand the structure we saw above we first look at the distribution of distances of sequences from each other. We can cluster the data using a simple approach like k-means, and then re-map that onto our plot above."
      ]
    },
    {
      "metadata": {
        "id": "B8Avu7MJuBGT",
        "colab_type": "code",
        "colab": {}
      },
      "cell_type": "code",
      "source": [
        "from sklearn.cluster import KMeans\n",
        "kmeans = KMeans(n_clusters=12, random_state=1).fit(training_data[:data_set_size])"
      ],
      "execution_count": 0,
      "outputs": []
    },
    {
      "metadata": {
        "id": "IdV8W06_uBGV",
        "colab_type": "code",
        "outputId": "64800f9f-490b-44c7-fc97-7bfed7f2483c",
        "colab": {
          "base_uri": "https://localhost:8080/",
          "height": 324
        }
      },
      "cell_type": "code",
      "source": [
        "sample_points=data_set_size\n",
        "\n",
        "fig = plt.figure(figsize=(12,12))\n",
        "counter=0\n",
        "cmap=kmeans.labels_\n",
        "for z1 in range(latent_dim):\n",
        "    for z2 in range(z1+1,latent_dim):\n",
        "        counter+=1\n",
        "        fig.add_subplot(latent_dim,latent_dim,counter)\n",
        "        plt.title(str(z1)+\"_\"+str(z2))\n",
        "        plt.scatter(x_train_encoded[:, z1][::-1], x_train_encoded[:, z2][::-1],c=cmap[::-1] ,alpha=0.01,marker=\"o\")\n",
        "        plt.scatter(x_test_encoded[:, z1][::-1], x_test_encoded[:, z2][::-1],c=\"y\" ,alpha=0.3,marker=\"o\")\n",
        "        plt.scatter(x_test_encoded[0][z1], x_test_encoded[0][z2],c=\"r\" ,alpha=1,s=40,marker=\"s\")\n",
        "        plt.xlabel(\"Latent dim\"+str(z1+1))\n",
        "        plt.ylabel(\"Latent dim\"+str(z2+1));\n"
      ],
      "execution_count": 0,
      "outputs": [
        {
          "output_type": "display_data",
          "data": {
            "image/png": "[encoded data removed]",
            "text/plain": [
              "<Figure size 864x864 with 10 Axes>"
            ]
          },
          "metadata": {
            "tags": []
          }
        }
      ]
    },
    {
      "metadata": {
        "id": "V7fT2BczuBGY",
        "colab_type": "text"
      },
      "cell_type": "markdown",
      "source": [
        "It appears that the k-means clustering strongly aligns with how the network has split the training data into branches. Hence sequence distances are a large factor in this projection onto the latent space. "
      ]
    },
    {
      "metadata": {
        "collapsed": true,
        "id": "wG3cxZcyuBGZ",
        "colab_type": "text"
      },
      "cell_type": "markdown",
      "source": [
        "Next, I compute the likelihood of the wildtype sequence occuring in each position within the latent space. This is interesting because it lets us visually how much the distribution of sequences is favorable to the wildtype at that particular place in the latent space. To see how this probability is computed, see [below](#P_compute).\n"
      ]
    },
    {
      "metadata": {
        "id": "XD80VYo5uBGZ",
        "colab_type": "code",
        "outputId": "92d0a063-d681-47c1-d4b3-855979479242",
        "colab": {
          "base_uri": "https://localhost:8080/",
          "height": 627
        }
      },
      "cell_type": "code",
      "source": [
        "probs=[]\n",
        "points_x=np.arange(min(x_train_encoded[:, 0]),max(x_train_encoded[:, 0]),(max(x_train_encoded[:, 0])-min(x_train_encoded[:, 0]))*0.0025)\n",
        "points_y=np.arange(min(x_train_encoded[:, 1]),max(x_train_encoded[:, 1]),(max(x_train_encoded[:, 1])-min(x_train_encoded[:, 1]))*0.0025)\n",
        "\n",
        "decoder_input = Input(shape=(latent_dim,))\n",
        "_x_decoded_mean= decoder_out(decoder_3(decoder_2d(decoder_2(decoder_1(decoder_input)))))\n",
        "\n",
        "generator = Model(decoder_input, _x_decoded_mean)\n",
        "\n",
        "for i in points_x:\n",
        "    for j in points_y:\n",
        "        x_decoded=generator.predict(np.array([i,j]).reshape(1,-1)).reshape(digit_size,sequence_size)\n",
        "        digit_prob=normalize(x_decoded,axis=0, norm='l1')\n",
        "        value_to_append=compute_log_probability(all_test_data[0].reshape(digit_size,sequence_size),digit_prob)\n",
        "        probs.append(value_to_append)\n",
        "       #if interested in seeing which points in the matrix come closest to the wildtype, they can be printed using the code that follows \n",
        "        #if i<wt_encoding[0][0]+0.1 and i>=wt_encoding[0][0]-0.1:\n",
        "         #   if j<wt_encoding[0][1]+0.1 and j>=wt_encoding[0][1]-0.1:\n",
        "          #      print (i,j,value_to_append)\n",
        "            \n",
        "            \n",
        "probs=np.array(probs)\n",
        "probs[probs<-2000]=-2000\n",
        "probs=probs.reshape(len(points_x),len(points_y)).T"
      ],
      "execution_count": 0,
      "outputs": [
        {
          "output_type": "error",
          "ename": "ValueError",
          "evalue": "ignored",
          "traceback": [
            "\u001b[0;31m---------------------------------------------------------------------------\u001b[0m",
            "\u001b[0;31mValueError\u001b[0m                                Traceback (most recent call last)",
            "\u001b[0;32m<ipython-input-33-6068aa97a3ae>\u001b[0m in \u001b[0;36m<module>\u001b[0;34m()\u001b[0m\n\u001b[1;32m     10\u001b[0m \u001b[0;32mfor\u001b[0m \u001b[0mi\u001b[0m \u001b[0;32min\u001b[0m \u001b[0mpoints_x\u001b[0m\u001b[0;34m:\u001b[0m\u001b[0;34m\u001b[0m\u001b[0;34m\u001b[0m\u001b[0m\n\u001b[1;32m     11\u001b[0m     \u001b[0;32mfor\u001b[0m \u001b[0mj\u001b[0m \u001b[0;32min\u001b[0m \u001b[0mpoints_y\u001b[0m\u001b[0;34m:\u001b[0m\u001b[0;34m\u001b[0m\u001b[0;34m\u001b[0m\u001b[0m\n\u001b[0;32m---> 12\u001b[0;31m         \u001b[0mx_decoded\u001b[0m\u001b[0;34m=\u001b[0m\u001b[0mgenerator\u001b[0m\u001b[0;34m.\u001b[0m\u001b[0mpredict\u001b[0m\u001b[0;34m(\u001b[0m\u001b[0mnp\u001b[0m\u001b[0;34m.\u001b[0m\u001b[0marray\u001b[0m\u001b[0;34m(\u001b[0m\u001b[0;34m[\u001b[0m\u001b[0mi\u001b[0m\u001b[0;34m,\u001b[0m\u001b[0mj\u001b[0m\u001b[0;34m]\u001b[0m\u001b[0;34m)\u001b[0m\u001b[0;34m.\u001b[0m\u001b[0mreshape\u001b[0m\u001b[0;34m(\u001b[0m\u001b[0;36m1\u001b[0m\u001b[0;34m,\u001b[0m\u001b[0;34m-\u001b[0m\u001b[0;36m1\u001b[0m\u001b[0;34m)\u001b[0m\u001b[0;34m)\u001b[0m\u001b[0;34m.\u001b[0m\u001b[0mreshape\u001b[0m\u001b[0;34m(\u001b[0m\u001b[0mdigit_size\u001b[0m\u001b[0;34m,\u001b[0m\u001b[0msequence_size\u001b[0m\u001b[0;34m)\u001b[0m\u001b[0;34m\u001b[0m\u001b[0;34m\u001b[0m\u001b[0m\n\u001b[0m\u001b[1;32m     13\u001b[0m         \u001b[0mdigit_prob\u001b[0m\u001b[0;34m=\u001b[0m\u001b[0mnormalize\u001b[0m\u001b[0;34m(\u001b[0m\u001b[0mx_decoded\u001b[0m\u001b[0;34m,\u001b[0m\u001b[0maxis\u001b[0m\u001b[0;34m=\u001b[0m\u001b[0;36m0\u001b[0m\u001b[0;34m,\u001b[0m \u001b[0mnorm\u001b[0m\u001b[0;34m=\u001b[0m\u001b[0;34m'l1'\u001b[0m\u001b[0;34m)\u001b[0m\u001b[0;34m\u001b[0m\u001b[0;34m\u001b[0m\u001b[0m\n\u001b[1;32m     14\u001b[0m         \u001b[0mvalue_to_append\u001b[0m\u001b[0;34m=\u001b[0m\u001b[0mcompute_log_probability\u001b[0m\u001b[0;34m(\u001b[0m\u001b[0mall_test_data\u001b[0m\u001b[0;34m[\u001b[0m\u001b[0;36m0\u001b[0m\u001b[0;34m]\u001b[0m\u001b[0;34m.\u001b[0m\u001b[0mreshape\u001b[0m\u001b[0;34m(\u001b[0m\u001b[0mdigit_size\u001b[0m\u001b[0;34m,\u001b[0m\u001b[0msequence_size\u001b[0m\u001b[0;34m)\u001b[0m\u001b[0;34m,\u001b[0m\u001b[0mdigit_prob\u001b[0m\u001b[0;34m)\u001b[0m\u001b[0;34m\u001b[0m\u001b[0;34m\u001b[0m\u001b[0m\n",
            "\u001b[0;32m/usr/local/lib/python3.6/dist-packages/keras/engine/training.py\u001b[0m in \u001b[0;36mpredict\u001b[0;34m(self, x, batch_size, verbose, steps)\u001b[0m\n\u001b[1;32m   1147\u001b[0m                              'argument.')\n\u001b[1;32m   1148\u001b[0m         \u001b[0;31m# Validate user data.\u001b[0m\u001b[0;34m\u001b[0m\u001b[0;34m\u001b[0m\u001b[0;34m\u001b[0m\u001b[0m\n\u001b[0;32m-> 1149\u001b[0;31m         \u001b[0mx\u001b[0m\u001b[0;34m,\u001b[0m \u001b[0m_\u001b[0m\u001b[0;34m,\u001b[0m \u001b[0m_\u001b[0m \u001b[0;34m=\u001b[0m \u001b[0mself\u001b[0m\u001b[0;34m.\u001b[0m\u001b[0m_standardize_user_data\u001b[0m\u001b[0;34m(\u001b[0m\u001b[0mx\u001b[0m\u001b[0;34m)\u001b[0m\u001b[0;34m\u001b[0m\u001b[0;34m\u001b[0m\u001b[0m\n\u001b[0m\u001b[1;32m   1150\u001b[0m         \u001b[0;32mif\u001b[0m \u001b[0mself\u001b[0m\u001b[0;34m.\u001b[0m\u001b[0mstateful\u001b[0m\u001b[0;34m:\u001b[0m\u001b[0;34m\u001b[0m\u001b[0;34m\u001b[0m\u001b[0m\n\u001b[1;32m   1151\u001b[0m             \u001b[0;32mif\u001b[0m \u001b[0mx\u001b[0m\u001b[0;34m[\u001b[0m\u001b[0;36m0\u001b[0m\u001b[0;34m]\u001b[0m\u001b[0;34m.\u001b[0m\u001b[0mshape\u001b[0m\u001b[0;34m[\u001b[0m\u001b[0;36m0\u001b[0m\u001b[0;34m]\u001b[0m \u001b[0;34m>\u001b[0m \u001b[0mbatch_size\u001b[0m \u001b[0;32mand\u001b[0m \u001b[0mx\u001b[0m\u001b[0;34m[\u001b[0m\u001b[0;36m0\u001b[0m\u001b[0;34m]\u001b[0m\u001b[0;34m.\u001b[0m\u001b[0mshape\u001b[0m\u001b[0;34m[\u001b[0m\u001b[0;36m0\u001b[0m\u001b[0;34m]\u001b[0m \u001b[0;34m%\u001b[0m \u001b[0mbatch_size\u001b[0m \u001b[0;34m!=\u001b[0m \u001b[0;36m0\u001b[0m\u001b[0;34m:\u001b[0m\u001b[0;34m\u001b[0m\u001b[0;34m\u001b[0m\u001b[0m\n",
            "\u001b[0;32m/usr/local/lib/python3.6/dist-packages/keras/engine/training.py\u001b[0m in \u001b[0;36m_standardize_user_data\u001b[0;34m(self, x, y, sample_weight, class_weight, check_array_lengths, batch_size)\u001b[0m\n\u001b[1;32m    749\u001b[0m             \u001b[0mfeed_input_shapes\u001b[0m\u001b[0;34m,\u001b[0m\u001b[0;34m\u001b[0m\u001b[0;34m\u001b[0m\u001b[0m\n\u001b[1;32m    750\u001b[0m             \u001b[0mcheck_batch_axis\u001b[0m\u001b[0;34m=\u001b[0m\u001b[0;32mFalse\u001b[0m\u001b[0;34m,\u001b[0m  \u001b[0;31m# Don't enforce the batch size.\u001b[0m\u001b[0;34m\u001b[0m\u001b[0;34m\u001b[0m\u001b[0m\n\u001b[0;32m--> 751\u001b[0;31m             exception_prefix='input')\n\u001b[0m\u001b[1;32m    752\u001b[0m \u001b[0;34m\u001b[0m\u001b[0m\n\u001b[1;32m    753\u001b[0m         \u001b[0;32mif\u001b[0m \u001b[0my\u001b[0m \u001b[0;32mis\u001b[0m \u001b[0;32mnot\u001b[0m \u001b[0;32mNone\u001b[0m\u001b[0;34m:\u001b[0m\u001b[0;34m\u001b[0m\u001b[0;34m\u001b[0m\u001b[0m\n",
            "\u001b[0;32m/usr/local/lib/python3.6/dist-packages/keras/engine/training_utils.py\u001b[0m in \u001b[0;36mstandardize_input_data\u001b[0;34m(data, names, shapes, check_batch_axis, exception_prefix)\u001b[0m\n\u001b[1;32m    136\u001b[0m                             \u001b[0;34m': expected '\u001b[0m \u001b[0;34m+\u001b[0m \u001b[0mnames\u001b[0m\u001b[0;34m[\u001b[0m\u001b[0mi\u001b[0m\u001b[0;34m]\u001b[0m \u001b[0;34m+\u001b[0m \u001b[0;34m' to have shape '\u001b[0m \u001b[0;34m+\u001b[0m\u001b[0;34m\u001b[0m\u001b[0;34m\u001b[0m\u001b[0m\n\u001b[1;32m    137\u001b[0m                             \u001b[0mstr\u001b[0m\u001b[0;34m(\u001b[0m\u001b[0mshape\u001b[0m\u001b[0;34m)\u001b[0m \u001b[0;34m+\u001b[0m \u001b[0;34m' but got array with shape '\u001b[0m \u001b[0;34m+\u001b[0m\u001b[0;34m\u001b[0m\u001b[0;34m\u001b[0m\u001b[0m\n\u001b[0;32m--> 138\u001b[0;31m                             str(data_shape))\n\u001b[0m\u001b[1;32m    139\u001b[0m     \u001b[0;32mreturn\u001b[0m \u001b[0mdata\u001b[0m\u001b[0;34m\u001b[0m\u001b[0;34m\u001b[0m\u001b[0m\n\u001b[1;32m    140\u001b[0m \u001b[0;34m\u001b[0m\u001b[0m\n",
            "\u001b[0;31mValueError\u001b[0m: Error when checking input: expected input_2 to have shape (5,) but got array with shape (2,)"
          ]
        }
      ]
    },
    {
      "metadata": {
        "collapsed": false,
        "id": "WqeYL7MHuBGb",
        "colab_type": "text"
      },
      "cell_type": "markdown",
      "source": [
        "We can now plot the probabilities onto the latent space. White areas are where wildtype occurs with the same probability as it’s own coordinate in the latent space. Red means that wildtype is less favored in those locations, and blue means it is more favored (than it’s own location). Notice that in certain datasets (and realizations of the latent space), the positive range is very small and it may appear that there is a flat dark blue area. This is simply because the sequences that are better than wildtype are usually just slightly better, and hence there is little room for the positive side of the colorbar to show its gradient. The wildtype may also be in a blue area because of the \"binning\" or pixelation as a result of the way we compute the probabilities.  "
      ]
    },
    {
      "metadata": {
        "id": "I1L45U2IuBGc",
        "colab_type": "code",
        "colab": {}
      },
      "cell_type": "code",
      "source": [
        "import matplotlib.cm \n",
        "fig = plt.figure(figsize=(12,9))\n",
        "orig_cmap = matplotlib.cm.bwr_r\n",
        "midpoint=((np.min(probs)-wt_prob)/(np.min(probs)-np.max(probs)))\n",
        "offset_top=np.max(probs)+5 #better visualization because often the \"beneficial\" coords are very close to wildtype in fitness, coarse graining may result in misleading visuals\n",
        "\n",
        "shrunk_cmap = shiftedColorMap(orig_cmap, start=0.0, midpoint=midpoint, stop=1, name='shrunk')\n",
        "plt.pcolormesh(points_x,points_y, probs,cmap=shrunk_cmap,vmin=np.min(probs), vmax=offset_top)\n",
        "ax=plt.colorbar()\n",
        "ax.set_label(\"log probability of wildtype\")\n",
        "plt.scatter(x_train_encoded[:, 0][::-1], x_train_encoded[:, 1][::-1],c=cmap[::-1] ,alpha=0.1)\n",
        "plt.scatter(x_test_encoded[:, 0][1180:], x_test_encoded[:, 1][1180:],c=\"purple\" ,alpha=0.3)\n",
        "plt.scatter(x_test_encoded[:, 0][1:1180], x_test_encoded[:, 1][1:1180],c=\"g\" ,alpha=0.3)\n",
        "plt.scatter(x_train_encoded[0][0], x_train_encoded[0][1],c=\"r\" ,alpha=1,s=40,marker=\"s\")\n",
        "plt.xlabel(\"latent dim 1\")\n",
        "plt.ylabel(\"latent dim 2\")\n",
        "\n",
        "plt.xlim(min(points_x),max(points_x))\n",
        "plt.ylim(min(points_y),max(points_y));"
      ],
      "execution_count": 0,
      "outputs": []
    },
    {
      "metadata": {
        "id": "tAp6_FEauBGe",
        "colab_type": "text"
      },
      "cell_type": "markdown",
      "source": [
        "We can zoom in closer to the wildtype, here we removed the cluster colors, and the yellow dots show the test data (single and double mutants). "
      ]
    },
    {
      "metadata": {
        "id": "uQ0BRlsnuBGg",
        "colab_type": "code",
        "colab": {}
      },
      "cell_type": "code",
      "source": [
        "fig = plt.figure(figsize=(12,8))\n",
        "\n",
        "plt.pcolor(points_x,points_y, probs,cmap=shrunk_cmap,vmax=offset_top)\n",
        "ax=plt.colorbar()\n",
        "ax.set_label(\"log probability of wildtype\")\n",
        "\n",
        "plt.scatter(x_train_encoded[:, 0][::-1], x_train_encoded[:, 1][::-1],c=cmap[::-1] ,alpha=0.5)\n",
        "plt.scatter(x_test_encoded[:, 0][1180:], x_test_encoded[:, 1][1180:],c=\"purple\" ,alpha=0.3,label=\"double_mut\")\n",
        "plt.scatter(x_test_encoded[:, 0][1:1180], x_test_encoded[:, 1][1:1180],c=\"g\" ,alpha=0.3,label=\"single_mut\")\n",
        "plt.scatter(x_train_encoded[0][0], x_train_encoded[0][1],c=\"r\" ,alpha=1,s=40,marker=\"s\",label=\"wt\")\n",
        "\n",
        "wt_x=wt_encoding[0][0]\n",
        "wt_y=wt_encoding[0][1]\n",
        "offset=2\n",
        "plt.xlim(wt_x-offset,wt_x+offset);\n",
        "plt.ylim(wt_y-offset,wt_y+offset);\n",
        "\n",
        "plt.legend();\n",
        "plt.xlabel(\"latent dim 1\")\n",
        "plt.xlabel(\"latent dim 2\");"
      ],
      "execution_count": 0,
      "outputs": []
    },
    {
      "metadata": {
        "id": "IpGUVXgpuBGm",
        "colab_type": "text"
      },
      "cell_type": "markdown",
      "source": [
        "We can see how the reconstruction changes as we walk from a wildtype to a mutant in latent space."
      ]
    },
    {
      "metadata": {
        "id": "vL7h36njuBGn",
        "colab_type": "code",
        "colab": {}
      },
      "cell_type": "code",
      "source": [
        "x_decoded=vae.predict(test_data_plus[0:200],batch_size=batch_size)\n",
        "digit_wt = x_decoded[0].reshape(digit_size,sequence_size)\n",
        "digit_wt = normalize(digit_wt,axis=0, norm='l1')\n",
        "\n",
        "mut_sample=100\n",
        "\n",
        "digit_p= x_decoded[mut_sample].reshape(digit_size,sequence_size)\n",
        "digit_p = normalize(digit_p,axis=0, norm='l1')\n",
        "\n",
        "fig = plt.figure(figsize=(12,18))\n",
        "\n",
        "fig.add_subplot(412)\n",
        "\n",
        "plt.pcolor(digit_wt,cmap=\"hot\",vmin=0,vmax=1)\n",
        "plt.colorbar()\n",
        "\n",
        "plt.xlim(0,82);\n",
        "plt.ylim(0,24);\n",
        "plt.title(\"wild_type_reconstruction\")\n",
        "plt.yticks(range(24),ORDER_LIST)\n",
        "\n",
        "fig.add_subplot(413)\n",
        "\n",
        "plt.pcolor(digit_p,cmap=\"hot\",vmin=0,vmax=1)\n",
        "plt.colorbar()\n",
        "\n",
        "plt.xlim(0,82);\n",
        "plt.ylim(0,24);\n",
        "plt.yticks(range(24),ORDER_LIST)\n",
        "\n",
        "plt.title(\"mutant_reconstruction\")\n",
        "\n",
        "fig.add_subplot(411)\n",
        "\n",
        "plt.pcolor(abs(test_data_plus[0].reshape(digit_size,sequence_size)+(test_data_plus[mut_sample].reshape(digit_size,sequence_size))*2),cmap=\"hot\",vmin=0,vmax=3)\n",
        "\n",
        "plt.xlim(0,82);\n",
        "plt.ylim(0,24);\n",
        "plt.yticks(range(24),ORDER_LIST)\n",
        "\n",
        "plt.title(\"one hot encoding of input sequence (wt(red), mut(yellow))\")\n",
        "\n",
        "fig.add_subplot(414)\n",
        "\n",
        "plt.pcolor(-digit_wt+digit_p,cmap=\"bwr\",vmin=-0.05,vmax=0.05)\n",
        "plt.colorbar()\n",
        "plt.xlim(0,82);\n",
        "plt.ylim(0,24);\n",
        "plt.yticks(range(24),ORDER_LIST)\n",
        "\n",
        "plt.title(\"difference in distribution (mutant-wt): Notice that the scale is different\");"
      ],
      "execution_count": 0,
      "outputs": []
    },
    {
      "metadata": {
        "id": "xR5IG7d3uBGr",
        "colab_type": "text"
      },
      "cell_type": "markdown",
      "source": [
        "Notice the slight change in the probabilities, for other positions in the sequence, not just those that differed in the original input sequence (fourth panel).  \n",
        "\n",
        "\n",
        "Alternatively, we can move in the latent dimension (along the eigen basis) by preturbing coordinates starting at the wildtype and observe the change in probabilities. To do so, we first compute the principal eigenvector for the test data."
      ]
    },
    {
      "metadata": {
        "id": "npVjhW5buBGt",
        "colab_type": "code",
        "colab": {}
      },
      "cell_type": "code",
      "source": [
        "from sklearn.decomposition import PCA\n",
        "\n",
        "pca = PCA(n_components=1)\n",
        "pca_result=pca.fit(x_test_encoded)\n",
        "\n",
        "print(\"Explained variance by first component\", pca.explained_variance_ratio_) "
      ],
      "execution_count": 0,
      "outputs": []
    },
    {
      "metadata": {
        "id": "bjPJrrQ0uBGx",
        "colab_type": "text"
      },
      "cell_type": "markdown",
      "source": [
        "We can plot the points along the eigenvector in the latent space (shown in cyan)."
      ]
    },
    {
      "metadata": {
        "id": "TVem48yVuBGy",
        "colab_type": "code",
        "colab": {}
      },
      "cell_type": "code",
      "source": [
        "fig = plt.figure(figsize=(10,10))\n",
        "plt.pcolormesh(points_x,points_y, probs,cmap=shrunk_cmap,vmin=np.min(probs), vmax=offset_top)\n",
        "\n",
        "\n",
        "plt.colorbar() \n",
        "plt.scatter(x_train_encoded[:,0][::-1], x_train_encoded[:, 1][::-1],c=\"b\" ,alpha=0.05)\n",
        "plt.scatter(x_test_encoded[:, 0][::-1], x_test_encoded[:, 1][::-1],c=\"y\" ,alpha=0.3)\n",
        "\n",
        "\n",
        "start_l=-5\n",
        "end_l=5\n",
        "line_start=pca.inverse_transform(np.array([start_l]).reshape(1,-1))\n",
        "line_end=pca.inverse_transform(np.array([end_l]).reshape(1,-1))\n",
        "\n",
        "for i in np.arange(start_l,end_l,0.25):\n",
        "    \n",
        "    perturb=pca.inverse_transform(np.array([i]).reshape(1,-1))\n",
        "    perturbed=perturb\n",
        "    plt.scatter(perturbed[0][0],perturbed[0][1],c=\"c\",alpha=1,s=40)\n",
        "\n",
        "plt.plot([line_start[0][0],line_end[0][0]],[line_start[0][1],line_end[0][1]],c=\"c\")\n",
        "\n",
        "plt.scatter(wt_encoding[0][0],wt_encoding[0][1],c=\"red\",s=40)\n",
        "\n",
        "offset=8\n",
        "plt.xlim(wt_x-offset,wt_x+offset);\n",
        "plt.ylim(wt_y-offset,wt_y+offset);"
      ],
      "execution_count": 0,
      "outputs": []
    },
    {
      "metadata": {
        "id": "zXreBvZEuBG4",
        "colab_type": "text"
      },
      "cell_type": "markdown",
      "source": [
        "If we move along that axis by a tiny amount and reconstruct the sequence, we will see what is being updated."
      ]
    },
    {
      "metadata": {
        "id": "scZ79OLWuBG5",
        "colab_type": "code",
        "colab": {}
      },
      "cell_type": "code",
      "source": [
        "perturb=pca.inverse_transform(np.array([0.01]).reshape(1,-1))\n",
        "\n",
        "x_decoded=generator.predict(perturb)\n",
        "\n",
        "digit_p = x_decoded.reshape(digit_size,sequence_size)\n",
        "digit_p = normalize(digit_p,axis=0, norm='l1')\n",
        "fig = plt.figure(figsize=(12,15))\n",
        "\n",
        "fig.add_subplot(311)\n",
        "plt.title(\"wild_type_reconstruction\")\n",
        "\n",
        "plt.pcolor(digit_wt,cmap=\"hot\")\n",
        "plt.colorbar()\n",
        "plt.xlim(0,82);\n",
        "plt.ylim(0,24);\n",
        "plt.ylabel(\"AA\")\n",
        "plt.yticks(range(24),ORDER_LIST)\n",
        "\n",
        "\n",
        "\n",
        "fig.add_subplot(312)\n",
        "plt.title(\"mutant_reconstruction\")\n",
        "plt.pcolor(digit_p,cmap=\"hot\")\n",
        "plt.colorbar()\n",
        "plt.xlim(0,82);\n",
        "plt.ylim(0,24);\n",
        "plt.ylabel(\"AA\")\n",
        "plt.yticks(range(24),ORDER_LIST)\n",
        "\n",
        "fig.add_subplot(313)\n",
        "\n",
        "plt.pcolor(-digit_wt+digit_p,cmap=\"bwr\",vmin=-0.05,vmax=0.05)\n",
        "plt.colorbar()\n",
        "plt.xlim(0,82);\n",
        "plt.ylim(0,24);\n",
        "plt.yticks(range(24),ORDER_LIST)\n",
        "\n",
        "plt.title(\"difference in distribution (mutant-wt): Notice that the scale is different\");"
      ],
      "execution_count": 0,
      "outputs": []
    },
    {
      "metadata": {
        "id": "o0_8DxFyuBG7",
        "colab_type": "text"
      },
      "cell_type": "markdown",
      "source": [
        "If you want to see how the walk along the axis changes the sequence, you can use the code below to generate a set of images (like the gif on the blog). "
      ]
    },
    {
      "metadata": {
        "id": "L3hH8s_yuBG8",
        "colab_type": "code",
        "colab": {}
      },
      "cell_type": "code",
      "source": [
        "count=0\n",
        "\n",
        "start_l=-15\n",
        "end_l=15\n",
        "line_start=pca.inverse_transform(np.array([start_l]).reshape(1,-1))\n",
        "line_end=pca.inverse_transform(np.array([end_l]).reshape(1,-1))\n",
        "\n",
        "\n",
        "for i in np.arange(start_l,end_l,1):\n",
        "    perturb=pca.inverse_transform(np.array([i]).reshape(1,-1))\n",
        "\n",
        "    x_decoded=generator.predict(perturb)\n",
        "\n",
        "    digit_p = x_decoded.reshape(digit_size,sequence_size)\n",
        "    digit_p = normalize(digit_p,axis=0, norm='l1')\n",
        "    most_likely=most_likely_seq(digit_p)\n",
        "    fig = plt.figure(figsize=(20,8))\n",
        "    fig.add_subplot(121)\n",
        "    plt.xlabel(\"wt preturbed by \"+str(i))\n",
        "    plt.title(most_likely)\n",
        "    plt.pcolor(digit_p,cmap=\"hot\");\n",
        "    plt.xlim(0,82);\n",
        "    plt.ylim(0,24);\n",
        "    plt.ylabel(\"AA\")\n",
        "    plt.yticks(range(24),ORDER_LIST)\n",
        "    plt.xticks(range(82),list(most_likely))\n",
        "    fig.add_subplot(122)\n",
        "    plt.pcolormesh(points_x,points_y, probs,cmap=shrunk_cmap,vmin=np.min(probs), vmax=offset_top)\n",
        "    plt.colorbar() \n",
        "    \n",
        "    perturbed=perturb\n",
        "\n",
        "    plt.scatter(x_train_encoded[:,0][::-1], x_train_encoded[:, 1][::-1],c=\"b\" ,alpha=0.05)\n",
        "    plt.scatter(x_test_encoded[:, 0][::-1], x_test_encoded[:, 1][::-1],c=\"g\" ,alpha=0.25,s=25)\n",
        "    plt.plot([line_start[0][0],line_end[0][0]],[line_start[0][1],line_end[0][1]],\"--\",c=\"c\",linewidth=2,alpha=0.4)\n",
        "\n",
        "    plt.scatter(wt_encoding[0][0],wt_encoding[0][1],c=\"r\",s=40)\n",
        "    plt.scatter(perturbed[0][0],perturbed[0][1],c=\"c\",s=60,alpha=1)\n",
        "\n",
        "\n",
        "\n",
        "    offset=15\n",
        "    plt.xlim(wt_x-offset,wt_x+offset);\n",
        "    plt.ylim(wt_y-offset,wt_y+offset);\n",
        "    plt.savefig(\"exploration/\"+str(count)+\".png\");\n",
        "    count+=1"
      ],
      "execution_count": 0,
      "outputs": []
    },
    {
      "metadata": {
        "id": "mXPu2tuGuBG9",
        "colab_type": "text"
      },
      "cell_type": "markdown",
      "source": [
        "Another approach to study the effects of particular mutations in the latent space is to actually annotate the location that each mutation occupies (on average) within the latent space. Below, I have mutated the same \"G\" amino acid into all of its variants in 3 different positions on the sequence (27,40,44, on the aligned columns). Then I plot the location of those mutations."
      ]
    },
    {
      "metadata": {
        "id": "XyusgOisuBG9",
        "colab_type": "code",
        "colab": {}
      },
      "cell_type": "code",
      "source": [
        "g_indices=[27,40, 44]#g\n",
        "#k_indices=[33,41, 43] #k\n",
        "#s_indices=[31,32,42] #s\n",
        "single_mutants_g=[]\n",
        "ref_seq=data.iloc[0][\"seq\"]\n",
        "for ind in g_indices:\n",
        "    for aa in ORDER_LIST:\n",
        "        new_sequence=ref_seq[:ind]+aa+ref_seq[ind+1:]\n",
        "        single_mutants_g.append(new_sequence)\n",
        "        \n",
        "one_hot_single_mutants_g=[]  \n",
        "\n",
        "for mutant in single_mutants_g:\n",
        "    one_hot_single_mutants_g.append(translate_string_to_one_hot(mutant,ORDER_LIST))\n",
        "\n",
        "single_mutants_g_OH=np.array([np.array(list(sample.flatten())).T for sample in one_hot_single_mutants_g])\n",
        "single_mutants_g_padded=np.vstack([single_mutants_g_OH,single_mutants_g_OH[:8]]) #padding so I can feed all of it to "
      ],
      "execution_count": 0,
      "outputs": []
    },
    {
      "metadata": {
        "id": "UzaaIpW-uBG_",
        "colab_type": "code",
        "colab": {}
      },
      "cell_type": "code",
      "source": [
        "mutant_g_encoded = encoder.predict(single_mutants_g_padded, batch_size=batch_size)\n",
        "mutant_g_encoded=mutant_g_encoded[:72]\n",
        "fig, ax = plt.subplots(figsize=(9,9))\n",
        "ax.scatter(x_train_encoded[0][0], x_train_encoded[0][1],c=\"r\" ,alpha=1,s=40,marker=\"s\",label=\"wt\")\n",
        "ax.scatter(mutant_g_encoded[:,0][:24], mutant_g_encoded[:, 1][:24],c=\"b\" ,alpha=0,label=\"pos 27\")\n",
        "\n",
        "for i, txt in enumerate(ORDER_LIST):\n",
        "    ax.annotate(txt, (mutant_g_encoded[:,0][i],mutant_g_encoded[:,1][i]),color=\"b\",size=\"large\")\n",
        "    \n",
        "ax.scatter(mutant_g_encoded[:,0][24:48], mutant_g_encoded[:, 1][24:48],c=\"g\" ,alpha=0,label=\"pos 40\")\n",
        "\n",
        "for i, txt in enumerate(ORDER_LIST):\n",
        "    ax.annotate(txt, (mutant_g_encoded[:,0][i+24],mutant_g_encoded[:,1][i+24]),color=\"g\",size=\"large\")\n",
        "    \n",
        "ax.scatter(mutant_g_encoded[:,0][48:], mutant_g_encoded[:, 1][48:],c=\"g\" ,alpha=0,label=\"pos 44\")\n",
        "\n",
        "for i, txt in enumerate(ORDER_LIST):\n",
        "    ax.annotate(txt, (mutant_g_encoded[:,0][i+48],mutant_g_encoded[:,1][i+48]),color=\"r\",size=\"large\")\n",
        "    \n",
        "plt.title(\"position 27 blue, postition 40 green, position 44 red, wt red square\")\n",
        "plt.xlabel(\"Latent dim 1\")\n",
        "plt.ylabel(\"Latent dim 2\");\n",
        "offset=0.5\n",
        "plt.xlim(wt_x-offset,wt_x+offset);\n",
        "plt.ylim(wt_y-offset,wt_y+offset);"
      ],
      "execution_count": 0,
      "outputs": []
    },
    {
      "metadata": {
        "id": "bF8gbOTTuBHC",
        "colab_type": "text"
      },
      "cell_type": "markdown",
      "source": [
        "While there is some clustering of amino acids based on similarity and position, this trend is not consistent depending on the amino-acid/mutation and position of choice. We can also project the measured fitness onto the latent space. "
      ]
    },
    {
      "metadata": {
        "id": "zXP0VMLHuBHC",
        "colab_type": "code",
        "colab": {}
      },
      "cell_type": "code",
      "source": [
        "fig = plt.figure(figsize=(12,8))\n",
        "import matplotlib.cm as cm\n",
        "from matplotlib import colors\n",
        "\n",
        "norm = colors.Normalize(vmin=min(target_values_doubles), vmax=1)\n",
        "cmap_v = cm.hot\n",
        "m = cm.ScalarMappable(norm=norm, cmap=cmap_v)\n",
        "\n",
        "plt.scatter(x_test_encoded[:, 0][1180:], x_test_encoded[:, 1][1180:],c=list(map(m.to_rgba,target_values_doubles[:len(x_test_encoded[:, 1][1180:])])) ,alpha=0.3,label=\"double_mut\")\n",
        "plt.scatter(x_test_encoded[:, 0][1:1180], x_test_encoded[:, 1][1:1180],c=list(map(m.to_rgba,target_values_singles[1:1180])) ,alpha=0.3,label=\"single_mut\")\n",
        "plt.scatter(x_train_encoded[0][0], x_train_encoded[0][1],c=\"w\" ,alpha=1,s=40,marker=\"s\",label=\"wt\")\n",
        "\n",
        "wt_x=wt_encoding[0][0]\n",
        "wt_y=wt_encoding[0][1]\n",
        "offset=2\n",
        "plt.xlim(wt_x-offset,wt_x+offset);\n",
        "plt.ylim(wt_y-offset,wt_y+offset);\n",
        "\n",
        "plt.legend();\n",
        "plt.xlabel(\"latent dim 1\")\n",
        "plt.ylabel(\"latent dim 2\");"
      ],
      "execution_count": 0,
      "outputs": []
    },
    {
      "metadata": {
        "id": "61ukVDrOuBHE",
        "colab_type": "text"
      },
      "cell_type": "markdown",
      "source": [
        "There are no obvious trends in the latent space that would correspond to fitness values. "
      ]
    },
    {
      "metadata": {
        "id": "vocezmbVuBHF",
        "colab_type": "text"
      },
      "cell_type": "markdown",
      "source": [
        "<a id='P_compute'></a>\n",
        "\n",
        "\n",
        "## 4. Predicting fitness based on sequence probability\n",
        "\n",
        "We compute the (log) probability of a sequence as:\n",
        "$$ \\log(trace(H^T P)) $$\n",
        "\n",
        "Where $H$ is the one-hot encoding of the sequence of interest, and $P$ is the probability weight matrix generated by feeding the network a sequence. Taking the trace of the matrix product is similar to the dot product of two vectors. We compute the fitness in three highly correlated ways (although depending on the dataset, these correlations change). The difference in these approaches is in how to compute $P$. \n",
        "\n",
        "(1)$P$ is the reconstruction of the same sequence that $H$ represents. (we call this prediction or \"fitness\" in the code)\n",
        "\n",
        "(2) $P$ is the reconstruction of the wildtype sequence.  (we call this prediction_wt or \"fitness_wt\" in the code)\n",
        "\n",
        "(3) $P$ is an average reconstruction of 100 samples of mutants. (we call this prediction_avg or \"fitness_avg\" in the code)"
      ]
    },
    {
      "metadata": {
        "id": "a5DfCEteuBHF",
        "colab_type": "text"
      },
      "cell_type": "markdown",
      "source": [
        "### 4.1. Single mutants\n",
        "\n",
        "We can now use the trained network to predict the fitnesses. The first step is to compute the fitnesses for all single mutant sequences (and compare it to the wildtype). "
      ]
    },
    {
      "metadata": {
        "id": "J4B_edpquBHF",
        "colab_type": "code",
        "colab": {}
      },
      "cell_type": "code",
      "source": [
        "sample_size=batch_size*int(len(test_data_plus)/batch_size)\n",
        "sample_for_averging_size=100\n",
        "sequence_size=PRUNED_SEQ_LENGTH\n",
        "digit_size = len(ORDER_LIST)\n",
        "x_decoded=vae.predict(test_data_plus[0:sample_size],batch_size=batch_size)\n",
        "\n",
        "digit = x_decoded[0].reshape(digit_size,sequence_size)\n",
        "digit_wt = normalize(digit,axis=0, norm='l1')\n",
        "wt_prob=compute_log_probability(test_data_plus[0].reshape(digit_size,sequence_size),digit_wt)\n",
        "#print (\"wt_log_prob: \", wt_prob)\n",
        "\n",
        "wt_probs=[]\n",
        "digit_avg=np.zeros((digit_size,sequence_size))\n",
        "\n",
        "\n",
        "sample_indices=random.sample(range(sample_size),sample_for_averging_size)\n",
        "\n",
        "counter=0\n",
        "for sample in sample_indices:\n",
        "    digit = x_decoded[sample].reshape(digit_size,sequence_size)\n",
        "    digit_wt_i = normalize(digit,axis=0, norm='l1')\n",
        "    \n",
        "    digit_avg+=digit_wt_i*1./sample_for_averging_size\n",
        "    wt_p=compute_log_probability(test_data_plus[sample].reshape(digit_size,sequence_size),digit_wt_i)\n",
        "    wt_probs.append(wt_p)\n",
        "    counter+=1\n",
        "average_wt_p=np.mean(wt_probs)\n",
        "\n",
        "fitnesses_vs_wt=[]\n",
        "fitnesses=[]\n",
        "fitnesses_vs_avg=[]\n",
        "\n",
        "for sample in range(1,sample_size):\n",
        "    digit = x_decoded[sample].reshape(digit_size,sequence_size)\n",
        "    digit = normalize(digit,axis=0, norm='l1')\n",
        "    fitness=compute_log_probability(test_data_plus[sample].reshape(digit_size,sequence_size),digit)-wt_prob\n",
        "    fitnesses.append(fitness)\n",
        "    \n",
        "    fitness=compute_log_probability(test_data_plus[sample].reshape(digit_size,sequence_size),digit_wt)-wt_prob\n",
        "    fitnesses_vs_wt.append(fitness)\n",
        "    \n",
        "    fitness=compute_log_probability(test_data_plus[sample].reshape(digit_size,sequence_size),digit_avg)-average_wt_p\n",
        "    fitnesses_vs_avg.append(fitness)\n",
        "    \n",
        "    \n",
        "print (\"Spearman\",spearmanr(fitnesses,target_values_singles[:sample_size-1]))\n",
        "print (\"Pearson\", pearsonr(fitnesses,target_values_singles[:sample_size-1]))"
      ],
      "execution_count": 0,
      "outputs": []
    },
    {
      "metadata": {
        "id": "Xe-UScoEuBHI",
        "colab_type": "text"
      },
      "cell_type": "markdown",
      "source": [
        "As a first step, we draw the distribution of the normalized predicted fitnesses vs. the experimental data. We care about the relative distributions, rather than the exact values, so we can renormalize the predictions to roughly fall in the range of the data."
      ]
    },
    {
      "metadata": {
        "id": "rvxLZVOIuBHJ",
        "colab_type": "code",
        "colab": {}
      },
      "cell_type": "code",
      "source": [
        "predictions=np.array(list(map(lambda x: x*1./(4*(max (fitnesses))),fitnesses))) #arbitrary renormalization\n",
        "indip=list(map(lambda x: x*1./max (exp_data_singles[\"effect_prediction_independent\"]),exp_data_singles[\"effect_prediction_independent\"]))\n",
        "epis=list(map(lambda x: x*1./max (exp_data_singles[\"effect_prediction_epistatic\"]),exp_data_singles[\"effect_prediction_epistatic\"]))"
      ],
      "execution_count": 0,
      "outputs": []
    },
    {
      "metadata": {
        "id": "gutOdGF5uBHK",
        "colab_type": "code",
        "colab": {}
      },
      "cell_type": "code",
      "source": [
        "plt.hist(predictions[predictions > -1E10],alpha=0.7,label=\"predicted fitness\"); #filter out -inf\n",
        "plt.hist(np.array(target_values_singles)-1,alpha=0.5,label=\"experimental fitness\");\n",
        "plt.xlabel(\"relative fitness\");\n",
        "plt.ylabel(\"count\")\n",
        "plt.legend();"
      ],
      "execution_count": 0,
      "outputs": []
    },
    {
      "metadata": {
        "id": "PN60Jb4WuBHM",
        "colab_type": "code",
        "colab": {}
      },
      "cell_type": "code",
      "source": [
        "len(predictions),len(target_values_singles)"
      ],
      "execution_count": 0,
      "outputs": []
    },
    {
      "metadata": {
        "id": "PKnh-5R2uBHO",
        "colab_type": "text"
      },
      "cell_type": "markdown",
      "source": [
        "Note that the mismatch in lenght is due to batch size partitioning of the data (this can be fixed, but doesn't change much about the results). We can also explicitly look at how these values change together along all possible mutations. To visualize the predictions vs the real data, we use a [smoothing function](http://scipy.github.io/old-wiki/pages/Cookbook/SavitzkyGolay) to be able to visually relate the fitness ascribed to many variants, with those that the network predicted.  "
      ]
    },
    {
      "metadata": {
        "id": "2RBoKBQquBHP",
        "colab_type": "code",
        "colab": {}
      },
      "cell_type": "code",
      "source": [
        "fig, ax = plt.subplots(num=None, figsize=(18,4), dpi=90)\n",
        "window=9\n",
        "poly=3\n",
        "plt.step(range(len(target_values_singles)),savitzky_golay(list(target_values_singles),window,poly),label=\"experiment\")\n",
        "plt.step(range(len(predictions)),savitzky_golay(predictions,window,poly),linewidth=2,alpha=0.6,label=\"predictions\")\n",
        "plt.legend();\n",
        "plt.xlabel(\"mutations\")\n",
        "plt.ylabel(\"fitness\");"
      ],
      "execution_count": 0,
      "outputs": []
    },
    {
      "metadata": {
        "id": "DXqs0PWJuBHR",
        "colab_type": "text"
      },
      "cell_type": "markdown",
      "source": [
        "To remove the information that is purely due to column entropy, we subtract it from our prediction values and compare it to the epistatic predictions from Hopf paper. "
      ]
    },
    {
      "metadata": {
        "id": "jQiD0GyHuBHR",
        "colab_type": "code",
        "colab": {}
      },
      "cell_type": "code",
      "source": [
        "fig, ax = plt.subplots(num=None, figsize=(18,4), dpi=90)\n",
        "plt.step(range(len(predictions)),savitzky_golay(([a-b for a,b in zip(predictions,indip)]),window,poly))\n",
        "plt.step(range(len(epis)),savitzky_golay(([a-b for a,b in zip(epis,indip)]),window,poly))\n",
        "plt.xlabel(\"mutations\")\n",
        "plt.ylabel(\"fitness\");"
      ],
      "execution_count": 0,
      "outputs": []
    },
    {
      "metadata": {
        "id": "sLtYd806uBHT",
        "colab_type": "text"
      },
      "cell_type": "markdown",
      "source": [
        "Finally, we can plot the predictions across the entire mutation landscape and compare it with the two other prediction methods (column entropy and second-order epistasis). "
      ]
    },
    {
      "metadata": {
        "id": "rBFAJGTeuBHU",
        "colab_type": "code",
        "colab": {}
      },
      "cell_type": "code",
      "source": [
        "len_seq=batch_size*int(len(test_data_plus)/batch_size)\n",
        "compare_on=False\n",
        "\n",
        "\n",
        "fig, ax = plt.subplots(num=4, figsize=(18,8), dpi=90)#, facecolor='w', edgecolor='k'),\n",
        "plt.subplot(311)\n",
        "plt.xlim(0,len_seq*1./3)\n",
        "plt.step(range(int(len_seq*1./3)),savitzky_golay(list(target_values_singles[:int(len_seq*1./3)]),window,poly),label=\"experimental $\\Delta f$ measurement\")\n",
        "plt.step(range(int(len_seq*1./3)),savitzky_golay(predictions[:int(len_seq*1./3)],window,poly), label=\"predicted $\\Delta f$\")\n",
        "if compare_on: \n",
        "    plt.plot(range(int(len_seq*1./3)),savitzky_golay(indip[:int(len_seq*1./3)],window,poly))\n",
        "    plt.plot(range(int(len_seq*1./3)),savitzky_golay(epis[:int(len_seq*1./3)],window,poly))\n",
        "\n",
        "\n",
        "plt.legend(bbox_to_anchor=(0.58,1.05))\n",
        "plt.ylabel(\"$\\Delta$ fitness\")\n",
        "\n",
        "plt.subplot(312)\n",
        "plt.xlim(len_seq*1./3,len_seq*2./3)\n",
        "plt.step(range(int(len_seq*1./3),int(len_seq*2./3)),savitzky_golay(list(target_values_singles[int(len_seq*1./3):int(len_seq*2./3)]),window,poly))\n",
        "plt.step(range(int(len_seq*1./3),int(len_seq*2./3)),savitzky_golay(predictions[int(len_seq*1./3):int(len_seq*2./3)],window,poly),linewidth=2)\n",
        "plt.ylabel(\"$\\Delta$ fitness\")\n",
        "if compare_on: \n",
        "    plt.plot(range(int(len_seq*1./3),int(len_seq*2./3)),savitzky_golay(indip[int(len_seq*1./3):int(len_seq*2./3)],window,poly))\n",
        "    plt.plot(range(int(len_seq*1./3),int(len_seq*2./3)),savitzky_golay(epis[int(len_seq*1./3):int(len_seq*2./3)],window,poly))\n",
        "\n",
        "plt.subplot(313)\n",
        "plt.xlim(len_seq*2./3,len_seq)\n",
        "plt.step(range(int(len_seq*2./3),len_seq),savitzky_golay(list(target_values_singles[int(len_seq*2./3):len_seq]),window,poly))\n",
        "plt.step(range(int(len_seq*2./3),len_seq-1),savitzky_golay(predictions[int(len_seq*2./3):len_seq],window,poly),linewidth=2)\n",
        "\n",
        "if compare_on: \n",
        "    plt.plot(range(int(len_seq*2./3),len_seq),savitzky_golay(indip[int(len_seq*2./3):len_seq],window,poly))\n",
        "    plt.plot(range(int(len_seq*2./3),len_seq),savitzky_golay(epis[int(len_seq*2./3):len_seq],window,poly))\n",
        "\n",
        "plt.ylabel(\"$\\Delta$ fitness\")\n",
        "plt.xlabel(\"Position\");"
      ],
      "execution_count": 0,
      "outputs": []
    },
    {
      "metadata": {
        "collapsed": true,
        "id": "F-Io9jDsuBHW",
        "colab_type": "text"
      },
      "cell_type": "markdown",
      "source": [
        "We can also visualize the prediction vs. fitness data differently. The red line represents perfect correlation, the blue distribution is the actual comparison. "
      ]
    },
    {
      "metadata": {
        "id": "2TCWKHm2uBHX",
        "colab_type": "code",
        "colab": {}
      },
      "cell_type": "code",
      "source": [
        "from sklearn.metrics.cluster import normalized_mutual_info_score\n",
        "fig = plt.figure(figsize=(8,5))\n",
        "\n",
        "x1=predictions\n",
        "\n",
        "y1=target_values_singles[:len(predictions)]\n",
        "\n",
        "plt.scatter(x1,y1,alpha=0.2)\n",
        "plt.plot(sorted(x1),sorted(y1),\"r\",linewidth=4,alpha=0.9)\n",
        "plt.title(str(spearmanr(x1,y1)))\n",
        "plt.xlabel(\"prediction\")\n",
        "plt.ylabel(\"experiment\")\n",
        "print(\"Mutual info:\", normalized_mutual_info_score(x1,y1))"
      ],
      "execution_count": 0,
      "outputs": []
    },
    {
      "metadata": {
        "id": "5Q90nm5TuBHa",
        "colab_type": "text"
      },
      "cell_type": "markdown",
      "source": [
        "He is a summary of the results in a table. "
      ]
    },
    {
      "metadata": {
        "id": "wTglKjXxuBHa",
        "colab_type": "code",
        "colab": {}
      },
      "cell_type": "code",
      "source": [
        "size=len(predictions)\n",
        "fitness_data=pd.DataFrame(columns=[\"lin\",\"log\",\"pred_wt\",\"pred\",\"pred_avg\"])\n",
        "\n",
        "fitness_data[\"experimental\"]=exp_data_singles[\"linear\"][:size]\n",
        "fitness_data[\"effect_prediction_epistatic\"]=exp_data_singles[\"effect_prediction_epistatic\"][:size]\n",
        "fitness_data[\"effect_prediction_independent\"]=exp_data_singles['effect_prediction_independent'][:size]\n",
        "\n",
        "fitness_data[\"prediction\"]=fitnesses\n",
        "fitness_data[\"prediction_wt\"]=fitnesses_vs_wt\n",
        "fitness_data[\"prediction_avg\"]=fitnesses_vs_avg\n",
        "\n",
        "corr_pred_singles=fitness_data.corr(method=\"spearman\")\n",
        "print(\"spearman rho correlations\")\n",
        "corr_pred_singles[[\"experimental\"]]"
      ],
      "execution_count": 0,
      "outputs": []
    },
    {
      "metadata": {
        "id": "vD5OIkf2uBHe",
        "colab_type": "text"
      },
      "cell_type": "markdown",
      "source": [
        "### 4.2. Double mutants\n",
        "We repeat the same analysis for double mutants. "
      ]
    },
    {
      "metadata": {
        "id": "zLEtWAyduBHf",
        "colab_type": "code",
        "colab": {}
      },
      "cell_type": "code",
      "source": [
        "x_decoded=vae.predict(test_data_doubles_plus[0:sample_size],batch_size=batch_size)\n",
        "digit_wt = x_decoded[0].reshape(digit_size,sequence_size)\n",
        "digit_wt = normalize(digit_wt,axis=0, norm='l1')\n",
        "\n",
        "mut_sample=100\n",
        "\n",
        "digit_p= x_decoded[mut_sample].reshape(digit_size,sequence_size)\n",
        "digit_p = normalize(digit_p,axis=0, norm='l1')"
      ],
      "execution_count": 0,
      "outputs": []
    },
    {
      "metadata": {
        "id": "kVB5X7RsuBHg",
        "colab_type": "code",
        "colab": {}
      },
      "cell_type": "code",
      "source": [
        "fig = plt.figure(figsize=(12,18))\n",
        "\n",
        "fig.add_subplot(412)\n",
        "\n",
        "plt.pcolor(digit_wt,cmap=\"hot\",vmin=0,vmax=1)\n",
        "plt.colorbar()\n",
        "\n",
        "plt.xlim(0,82);\n",
        "plt.ylim(0,24);\n",
        "plt.yticks(range(24),ORDER_LIST)\n",
        "plt.title(\"wild_type_reconstruction\")\n",
        "\n",
        "fig.add_subplot(413)\n",
        "\n",
        "plt.pcolor(digit_p,cmap=\"hot\",vmin=0,vmax=1)\n",
        "plt.colorbar()\n",
        "\n",
        "plt.xlim(0,82);\n",
        "plt.ylim(0,24);\n",
        "plt.yticks(range(24),ORDER_LIST)\n",
        "plt.title(\"mutant_reconstruction\")\n",
        "\n",
        "fig.add_subplot(411)\n",
        "\n",
        "plt.pcolor(abs(test_data_doubles_plus[0].reshape(digit_size,sequence_size)+(test_data_doubles_plus[mut_sample].reshape(digit_size,sequence_size))*2),cmap=\"hot\",vmin=0,vmax=3)\n",
        "plt.xlim(0,82);\n",
        "plt.ylim(0,24);\n",
        "plt.yticks(range(24),ORDER_LIST)\n",
        "\n",
        "plt.title(\"One hot encoding of sequences (wt(red), mut(yellow))\")\n",
        "\n",
        "fig.add_subplot(414)\n",
        "\n",
        "plt.pcolor(-digit_wt+digit_p,cmap=\"bwr\",vmin=-0.05,vmax=0.05)\n",
        "plt.colorbar()\n",
        "plt.xlim(0,82);\n",
        "plt.ylim(0,24);\n",
        "plt.yticks(range(24),ORDER_LIST)\n",
        "\n",
        "plt.title(\"difference in distribution (mutant-wt): Notice that the scale is different\");"
      ],
      "execution_count": 0,
      "outputs": []
    },
    {
      "metadata": {
        "id": "CdB1SfoxuBHj",
        "colab_type": "code",
        "colab": {}
      },
      "cell_type": "code",
      "source": [
        "sample_size=batch_size*int(len(test_data_doubles_plus)/batch_size)\n",
        "sample_for_averging_size=100\n",
        "sequence_size=PRUNED_SEQ_LENGTH\n",
        "digit_size = len(ORDER_LIST)\n",
        "x_decoded=vae.predict(test_data_doubles_plus[0:sample_size],batch_size=batch_size)\n",
        "\n",
        "digit = x_decoded[0].reshape(digit_size,sequence_size)\n",
        "digit_wt = normalize(digit,axis=0, norm='l1')\n",
        "wt_prob=compute_log_probability(test_data_doubles_plus[0].reshape(digit_size,sequence_size),digit_wt)\n",
        "print (\"wt_log_prob: \", wt_prob)\n",
        "\n",
        "wt_probs=[]\n",
        "digit_avg=np.zeros((digit_size,sequence_size))\n",
        "\n",
        "\n",
        "sample_indices=random.sample(range(sample_size),sample_for_averging_size)\n",
        "\n",
        "counter=0\n",
        "for sample in sample_indices:\n",
        "    digit = x_decoded[sample].reshape(digit_size,sequence_size)\n",
        "    digit_wt_i = normalize(digit,axis=0, norm='l1')\n",
        "    \n",
        "    digit_avg+=digit_wt_i*1./sample_for_averging_size\n",
        "    wt_p=compute_log_probability(test_data_doubles_plus[sample].reshape(digit_size,sequence_size),digit_wt_i)\n",
        "    wt_probs.append(wt_p)\n",
        "    counter+=1\n",
        "average_wt_p=np.mean(wt_probs)\n",
        "\n",
        "fitnesses_vs_wt=[]\n",
        "fitnesses=[]\n",
        "fitnesses_vs_avg=[]\n",
        "\n",
        "for sample in range(1,sample_size):\n",
        "    digit = x_decoded[sample].reshape(digit_size,sequence_size)\n",
        "    digit = normalize(digit,axis=0, norm='l1')\n",
        "    fitness=compute_log_probability(test_data_doubles_plus[sample].reshape(digit_size,sequence_size),digit)-wt_prob\n",
        "    fitnesses.append(fitness)\n",
        "    \n",
        "    fitness=compute_log_probability(test_data_doubles_plus[sample].reshape(digit_size,sequence_size),digit_wt)-wt_prob\n",
        "    fitnesses_vs_wt.append(fitness)\n",
        "    \n",
        "    fitness=compute_log_probability(test_data_doubles_plus[sample].reshape(digit_size,sequence_size),digit_avg)-average_wt_p\n",
        "    fitnesses_vs_avg.append(fitness)"
      ],
      "execution_count": 0,
      "outputs": []
    },
    {
      "metadata": {
        "id": "8fGml4ICuBHo",
        "colab_type": "code",
        "colab": {}
      },
      "cell_type": "code",
      "source": [
        "predictions=np.array(list(map(lambda x: x*1./(4*max (fitnesses)),fitnesses))) #arbitrary renormalization\n",
        "indip=list(map(lambda x: x*1./max (exp_data_singles[\"effect_prediction_independent\"]),exp_data_singles[\"effect_prediction_independent\"]))\n",
        "epis=list(map(lambda x: x*1./max (exp_data_singles[\"effect_prediction_epistatic\"]),exp_data_singles[\"effect_prediction_epistatic\"]))\n",
        "plt.hist(predictions[predictions > -1E10],alpha=0.7,label=\"predicted fitness\"); #filter out -inf\n",
        "plt.hist(np.array(target_values_doubles)-1,alpha=0.5,label=\"experimental fitness\");\n",
        "plt.xlabel(\"relative fitness\");\n",
        "plt.ylabel(\"count\")\n",
        "plt.legend();"
      ],
      "execution_count": 0,
      "outputs": []
    },
    {
      "metadata": {
        "id": "DfKL7BpIuBHr",
        "colab_type": "code",
        "colab": {}
      },
      "cell_type": "code",
      "source": [
        "fig = plt.figure(figsize=(8,5))\n",
        "\n",
        "x1=predictions\n",
        "y1=target_values_doubles[:len(predictions)]\n",
        "\n",
        "plt.scatter(x1,y1,alpha=0.1)\n",
        "plt.plot(sorted(x1),sorted(y1),\"r\",linewidth=4,alpha=0.9)\n",
        "plt.title(str(spearmanr(x1,y1)))\n",
        "plt.xlabel(\"prediction\")\n",
        "plt.ylabel(\"experiment\")\n",
        "print(\"Mutual info:\", normalized_mutual_info_score(x1,y1))"
      ],
      "execution_count": 0,
      "outputs": []
    },
    {
      "metadata": {
        "id": "OyRE3OM9uBHw",
        "colab_type": "code",
        "colab": {}
      },
      "cell_type": "code",
      "source": [
        "size=len(predictions)\n",
        "fitness_data=pd.DataFrame(columns=[\"lin\",\"log\",\"pred_wt\",\"pred\",\"pred_avg\"])\n",
        "\n",
        "fitness_data[\"experimental\"]=exp_data_doubles[\"XY_Enrichment_score\"][:size]\n",
        "fitness_data[\"effect_prediction_epistatic\"]=exp_data_doubles[\"effect_prediction_epistatic\"][:size]\n",
        "fitness_data[\"effect_prediction_independent\"]=exp_data_doubles['effect_prediction_independent'][:size]\n",
        "\n",
        "fitness_data[\"prediction\"]=fitnesses\n",
        "fitness_data[\"prediction_wt\"]=fitnesses_vs_wt\n",
        "fitness_data[\"prediction_avg\"]=fitnesses_vs_avg\n",
        "\n",
        "corr_pred_doubles=fitness_data.corr(method=\"spearman\")\n",
        "corr_pred_doubles[[\"experimental\"]]"
      ],
      "execution_count": 0,
      "outputs": []
    },
    {
      "metadata": {
        "id": "V6dtph02uBH1",
        "colab_type": "text"
      },
      "cell_type": "markdown",
      "source": [
        "## Other datasets\n",
        "\n",
        "We chose this dataset for demonstration because there was the possiblitiy of testing the model on both the single and double mutants. This also happens to be the dataset that our model performs best compared to the epistatic model. We summarize the results from some other datasets in compiled by the Hopf et al. paper below.  \n",
        "\n",
        "**Important remark**: Note in the original version of this experiment we also ran this network on one viral dataset. However the size of the viral DNA (535), and diversity presented (requiring different re-weighting), relative to the size of this network made the training difficult to run to convergence. Hence we could not present the performance with the same confidence as the other datasets we tested our model on. Notably, in the viral case, the network did not perform better than the independent model. "
      ]
    },
    {
      "metadata": {
        "id": "m97zDisruBH2",
        "colab_type": "code",
        "colab": {}
      },
      "cell_type": "code",
      "source": [
        "import seaborn as sns"
      ],
      "execution_count": 0,
      "outputs": []
    },
    {
      "metadata": {
        "id": "KajSmeqmuBH7",
        "colab_type": "code",
        "colab": {}
      },
      "cell_type": "code",
      "source": [
        "meta_data=pd.DataFrame.from_csv(\"other_datasets.csv\")"
      ],
      "execution_count": 0,
      "outputs": []
    },
    {
      "metadata": {
        "id": "AoVs5vxauBIA",
        "colab_type": "code",
        "colab": {}
      },
      "cell_type": "code",
      "source": [
        "meta_data.head()"
      ],
      "execution_count": 0,
      "outputs": []
    },
    {
      "metadata": {
        "id": "jyOqd1G1uBIC",
        "colab_type": "code",
        "colab": {}
      },
      "cell_type": "code",
      "source": [
        "meta_data[\"ratio\"]=meta_data[\"training_data_size(used)\"]*1./meta_data[\"alignment_length\"]\n",
        "meta_data[\"diff_eps\"]=meta_data[\"prediction_avg\"]/meta_data[\"effect_prediction_epistasis\"]\n",
        "meta_data[\"diff_ind\"]=meta_data[\"prediction_avg\"]/meta_data[\"effect_prediction_independent\"]"
      ],
      "execution_count": 0,
      "outputs": []
    },
    {
      "metadata": {
        "id": "jcTyXpL9uBID",
        "colab_type": "code",
        "colab": {}
      },
      "cell_type": "code",
      "source": [
        "meta_data=meta_data.sort_values(by=[\"prediction_avg\"])\n",
        "meta_data=meta_data.reset_index()\n",
        "del meta_data[\"index\"]\n",
        "meta_data"
      ],
      "execution_count": 0,
      "outputs": []
    },
    {
      "metadata": {
        "id": "kArNUslOuBIF",
        "colab_type": "code",
        "colab": {}
      },
      "cell_type": "code",
      "source": [
        "sns.jointplot(x=\"training_data_size(used)\",y=\"diff_eps\",data=meta_data,kind=\"reg\")"
      ],
      "execution_count": 0,
      "outputs": []
    },
    {
      "metadata": {
        "id": "izXD9oVtuBIH",
        "colab_type": "code",
        "colab": {}
      },
      "cell_type": "code",
      "source": [
        "#fig = plt.figure()\n",
        "fig, ax = plt.subplots(figsize=(8,5))\n",
        "\n",
        "plt.plot(meta_data[\"prediction_avg\"],\"rx-\",label=\"prediction\",linewidth=2)\n",
        "#plt.plot(meta_data[\"prediction\"],\"r-\",label=\"prediction\")\n",
        "#plt.plot(meta_data[\"prediction_wt\"],\"r--\",label=\"prediction_wt\")\n",
        "plt.plot(meta_data[\"effect_prediction_epistasis\"],\"bx--\",label=\"epistatic model Hopf et al.\",linewidth=2)\n",
        "plt.plot(meta_data[\"effect_prediction_independent\"],\"bx:\",label=\"Independent model\",linewidth=2)\n",
        "ax.set_xticks(range(len(meta_data)))\n",
        "ax.set_xticklabels(meta_data.dataset,rotation=45)\n",
        "plt.xlabel(\"dataset\")\n",
        "plt.ylabel(\"Spearman rho\")\n",
        "plt.legend(bbox_to_anchor=(1.5,.75));"
      ],
      "execution_count": 0,
      "outputs": []
    },
    {
      "metadata": {
        "id": "WPcZ1yZPuBIJ",
        "colab_type": "code",
        "colab": {}
      },
      "cell_type": "code",
      "source": [
        ""
      ],
      "execution_count": 0,
      "outputs": []
    }
  ]
}